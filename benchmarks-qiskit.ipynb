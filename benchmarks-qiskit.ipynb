{
 "cells": [
  {
   "cell_type": "markdown",
   "metadata": {},
   "source": [
    "### QED-C Application-Oriented Benchmarks - Qiskit Version\n",
    "The notebook contains a suite of application-oriented benchmarks for the Qiskit API.\n",
    "Configure and run the cell below with the desired execution settings.\n",
    "Then execute the remaining cells, each containing one benchmark program."
   ]
  },
  {
   "cell_type": "code",
   "execution_count": null,
   "metadata": {},
   "outputs": [],
   "source": [
    "min_qubits=2\n",
    "max_qubits=8\n",
    "skip_qubits=1\n",
    "max_circuits=3\n",
    "num_shots=1000\n",
    "\n",
    "backend_id=\"qasm_simulator\"\n",
    "#backend_id=\"statevector_simulator\"\n",
    "\n",
    "hub=\"\"; group=\"\"; project=\"\"\n",
    "provider_backend = None\n",
    "exec_options = {}\n",
    "\n",
    "# # ==========================\n",
    "# # *** If using IBM Quantum hardware, run this once to authenticate\n",
    "# from qiskit_ibm_runtime import QiskitRuntimeService\n",
    "# QiskitRuntimeService.save_account('YOUR_API_TOKEN_HERE')  # only need to do this first time\n",
    "\n",
    "# # *** If you use `ibm_quantum` channel, set hub, group, and project name here\n",
    "# hub=\"YOUR_HUB_NAME\"; group=\"YOUR_GROUP_NAME\"; project=\"YOUR_PROJECT_NAME\"\n",
    "\n",
    "# # *** If you use `ibm_cloud` channel, set hub, group, and project name here\n",
    "# hub=\"\"; group=\"\"; project=\"Cloud Resource Name (CRN) or service name\"\n",
    "\n",
    "# *** This example shows how to specify an IBMQ backend using a known \"backend_id\"\n",
    "#     See the App-Oriented Benchmarks setup page documentation for more info ob backends and options. \n",
    "# exec_options = {\n",
    "#     \"use_ibm_quantum_platform\": False,\n",
    "#     \"use_sessions\": False,\n",
    "# }\n",
    "# backend_id=\"ibm_kyiv\"\n",
    "\n",
    "# # ==========================\n",
    "# # *** If using Azure Quantum, use this hub identifier and specify the desired backend_id\n",
    "# # Identify your resources with env variables AZURE_QUANTUM_RESOURCE_ID and AZURE_QUANTUM_LOCATION\n",
    "# hub=\"azure-quantum\"; group=\"open\"; project=\"QED-C App-Oriented Benchmarks - Qiskit Version\"\n",
    "# backend_id=\"<YOUR_BACKEND_NAME_HERE>\"\n",
    "\n",
    "# # ==========================\n",
    "# The remaining examples illustrate other backend execution options\n",
    "\n",
    "# # An example using IonQ provider\n",
    "# from qiskit_ionq import IonQProvider\n",
    "# provider = IonQProvider()   # Be sure to set the QISKIT_IONQ_API_TOKEN environment variable\n",
    "# provider_backend = provider.get_backend(\"ionq_qpu\")\n",
    "# backend_id=\"ionq_qpu\"\n",
    "\n",
    "# # An example using BlueQubit provider (backend_id=CPU/QPU, device=cpu/qpu)\n",
    "# import os, bluequbit, _common.executors.bluequbit_executor as bluequbit_executor\n",
    "# provider_backend = bluequbit.init()\n",
    "# backend_id=\"BlueQubit-CPU\"\n",
    "# exec_options = { \"executor\": bluequbit_executor.run, \"device\":\"cpu\" }\n",
    "\n",
    "# # An example using a typical custom provider backend (e.g. AQT simulator)\n",
    "# import os\n",
    "# from qiskit_aqt_provider import AQTProvider\n",
    "# provider = AQTProvider(os.environ.get('AQT_ACCESS_KEY'))    # get your key from environment\n",
    "# provider_backend = provider.backends.aqt_qasm_simulator_noise_1\n",
    "# backend_id=\"aqt_qasm_simulator_noise_1\"\n",
    "\n",
    "# # Fire Opal can be used to manage executions on other backends, as illustrated here\n",
    "# import _common.executors.fire_opal_executor as fire_opal_executor\n",
    "# from _common.executors.fire_opal_executor import FireOpalBackend\n",
    "# ibm_backend_id = \"ibmq_jakarta\"\n",
    "# backend_id = f\"fire_opal_{ibm_backend_id}\"\n",
    "# provider_backend = FireOpalBackend(ibm_backend_id=ibm_backend_id, hub=hub, group=group, project=project, token=token)\n",
    "# exec_options = {\"executor\": fire_opal_executor.run}\n"
   ]
  },
  {
   "cell_type": "code",
   "execution_count": null,
   "metadata": {},
   "outputs": [],
   "source": [
    "# Custom optimization options can be specified in this cell (below is an example)\n",
    "\n",
    "# # Example of pytket Transformer\n",
    "# import _common.transformers.tket_optimiser as tket_optimiser\n",
    "# exec_options.update({ \"optimization_level\": 0, \"layout_method\":'sabre', \"routing_method\":'sabre', \"transformer\": tket_optimiser.high_optimisation })\n",
    "\n",
    "# # Define a custom noise model to be used during execution\n",
    "# import _common.custom.custom_qiskit_noise_model as custom_qiskit_noise_model\n",
    "# exec_options.update({ \"noise_model\": custom_qiskit_noise_model.my_noise_model() })\n",
    "\n",
    "# # Example of mthree error mitigation\n",
    "# import _common.postprocessors.mthree.mthree_em as mthree_em\n",
    "# exec_options.update({ \"postprocessor\": mthree_em.get_mthree_handlers(backend_id, provider_backend) })\n"
   ]
  },
  {
   "cell_type": "markdown",
   "metadata": {},
   "source": [
    "### Deutsch-Jozsa"
   ]
  },
  {
   "cell_type": "code",
   "execution_count": null,
   "metadata": {
    "tags": []
   },
   "outputs": [],
   "source": [
    "from deutsch_jozsa.qiskit import dj_benchmark\n",
    "dj_benchmark.run(min_qubits=min_qubits, max_qubits=max_qubits, skip_qubits=skip_qubits,\n",
    "                max_circuits=max_circuits, num_shots=num_shots,\n",
    "                backend_id=backend_id, provider_backend=provider_backend,\n",
    "                hub=hub, group=group, project=project, exec_options=exec_options)"
   ]
  },
  {
   "cell_type": "markdown",
   "metadata": {},
   "source": [
    "### Bernstein-Vazirani - Method 1"
   ]
  },
  {
   "cell_type": "code",
   "execution_count": null,
   "metadata": {},
   "outputs": [],
   "source": [
    "from bernstein_vazirani import bv_benchmark\n",
    "bv_benchmark.run(min_qubits=min_qubits, max_qubits=max_qubits, skip_qubits=skip_qubits,\n",
    "                max_circuits=max_circuits, num_shots=num_shots,\n",
    "                method=1,\n",
    "                backend_id=backend_id, provider_backend=provider_backend,\n",
    "                hub=hub, group=group, project=project, exec_options=exec_options)"
   ]
  },
  {
   "cell_type": "markdown",
   "metadata": {},
   "source": [
    "### Bernstein-Vazirani - Method 2"
   ]
  },
  {
   "cell_type": "code",
   "execution_count": null,
   "metadata": {
    "tags": []
   },
   "outputs": [],
   "source": [
    "from bernstein_vazirani import bv_benchmark\n",
    "bv_benchmark.run(min_qubits=min_qubits, max_qubits=max_qubits, skip_qubits=skip_qubits,\n",
    "                max_circuits=max_circuits, num_shots=num_shots,\n",
    "                method=2,\n",
    "                backend_id=backend_id, provider_backend=provider_backend,\n",
    "                hub=hub, group=group, project=project, exec_options=exec_options)"
   ]
  },
  {
   "cell_type": "markdown",
   "metadata": {},
   "source": [
    "### Hidden Shift"
   ]
  },
  {
   "cell_type": "code",
   "execution_count": null,
   "metadata": {},
   "outputs": [],
   "source": [
    "from hidden_shift import hs_benchmark\n",
    "hs_benchmark.run(min_qubits=min_qubits, max_qubits=max_qubits,\n",
    "                max_circuits=max_circuits, num_shots=num_shots,\n",
    "                backend_id=backend_id, provider_backend=provider_backend,\n",
    "                hub=hub, group=group, project=project, exec_options=exec_options)"
   ]
  },
  {
   "cell_type": "markdown",
   "metadata": {},
   "source": [
    "### Quantum Fourier Transform - Method 1"
   ]
  },
  {
   "cell_type": "code",
   "execution_count": null,
   "metadata": {},
   "outputs": [],
   "source": [
    "from quantum_fourier_transform import qft_benchmark\n",
    "qft_benchmark.run(min_qubits=min_qubits, max_qubits=max_qubits, skip_qubits=skip_qubits,\n",
    "                max_circuits=max_circuits, num_shots=num_shots,\n",
    "                method=1,\n",
    "                backend_id=backend_id, provider_backend=provider_backend,\n",
    "                hub=hub, group=group, project=project, exec_options=exec_options)"
   ]
  },
  {
   "cell_type": "markdown",
   "metadata": {},
   "source": [
    "### Quantum Fourier Transform - Method 2"
   ]
  },
  {
   "cell_type": "code",
   "execution_count": null,
   "metadata": {},
   "outputs": [],
   "source": [
    "from quantum_fourier_transform import qft_benchmark\n",
    "qft_benchmark.run(min_qubits=min_qubits, max_qubits=max_qubits, skip_qubits=skip_qubits,\n",
    "                max_circuits=max_circuits, num_shots=num_shots,\n",
    "                method=2,\n",
    "                backend_id=backend_id, provider_backend=provider_backend,\n",
    "                hub=hub, group=group, project=project, exec_options=exec_options)"
   ]
  },
  {
   "cell_type": "markdown",
   "metadata": {},
   "source": [
    "### Grover"
   ]
  },
  {
   "cell_type": "code",
   "execution_count": null,
   "metadata": {},
   "outputs": [],
   "source": [
    "import sys\n",
    "sys.path.insert(1, \"grovers/qiskit\")\n",
    "import grovers_benchmark\n",
    "grovers_benchmark.run(min_qubits=min_qubits, max_qubits=max_qubits, skip_qubits=skip_qubits,\n",
    "                max_circuits=max_circuits, num_shots=num_shots,\n",
    "                backend_id=backend_id, provider_backend=provider_backend,\n",
    "                hub=hub, group=group, project=project, exec_options=exec_options)"
   ]
  },
  {
   "cell_type": "markdown",
   "metadata": {},
   "source": [
    "### Phase Estimation"
   ]
  },
  {
   "cell_type": "code",
   "execution_count": null,
   "metadata": {},
   "outputs": [],
   "source": [
    "from phase_estimation import pe_benchmark\n",
    "pe_benchmark.run(min_qubits=min_qubits, max_qubits=max_qubits, skip_qubits=skip_qubits,\n",
    "                max_circuits=max_circuits, num_shots=num_shots,\n",
    "                backend_id=backend_id, provider_backend=provider_backend,\n",
    "                hub=hub, group=group, project=project, exec_options=exec_options)"
   ]
  },
  {
   "cell_type": "markdown",
   "metadata": {},
   "source": [
    "### HHL Linear Solver"
   ]
  },
  {
   "cell_type": "code",
   "execution_count": null,
   "metadata": {},
   "outputs": [],
   "source": [
    "import sys\n",
    "sys.path.insert(1, \"hhl/qiskit\")\n",
    "import hhl_benchmark\n",
    "\n",
    "hhl_benchmark.verbose=False\n",
    "\n",
    "hhl_benchmark.run(min_qubits=min_qubits, max_qubits=max_qubits, skip_qubits=skip_qubits,\n",
    "                max_circuits=max_circuits, num_shots=num_shots,\n",
    "                method=1, use_best_widths=True,\n",
    "                backend_id=backend_id, provider_backend=provider_backend,\n",
    "                hub=hub, group=group, project=project, exec_options=exec_options)"
   ]
  },
  {
   "cell_type": "markdown",
   "metadata": {},
   "source": [
    "### Amplitude Estimation"
   ]
  },
  {
   "cell_type": "code",
   "execution_count": null,
   "metadata": {},
   "outputs": [],
   "source": [
    "import sys\n",
    "sys.path.insert(1, \"amplitude-estimation/qiskit\")\n",
    "import ae_benchmark\n",
    "ae_benchmark.run(min_qubits=min_qubits, max_qubits=max_qubits, skip_qubits=skip_qubits,\n",
    "                max_circuits=max_circuits, num_shots=num_shots,\n",
    "                backend_id=backend_id, provider_backend=provider_backend,\n",
    "                hub=hub, group=group, project=project, exec_options=exec_options)"
   ]
  },
  {
   "cell_type": "markdown",
   "metadata": {},
   "source": [
    "### Monte Carlo"
   ]
  },
  {
   "cell_type": "code",
   "execution_count": null,
   "metadata": {},
   "outputs": [],
   "source": [
    "import sys\n",
    "sys.path.insert(1, \"monte-carlo/qiskit\")\n",
    "import mc_benchmark\n",
    "mc_benchmark.run(min_qubits=min_qubits, max_qubits=max_qubits, skip_qubits=skip_qubits,\n",
    "                max_circuits=max_circuits, num_shots=num_shots,\n",
    "                backend_id=backend_id, provider_backend=provider_backend,\n",
    "                hub=hub, group=group, project=project, exec_options=exec_options)"
   ]
  },
  {
   "cell_type": "markdown",
   "metadata": {},
   "source": [
    "### Hamiltonian Simulation - Method 1 "
   ]
  },
  {
   "cell_type": "code",
   "execution_count": null,
   "metadata": {},
   "outputs": [],
   "source": [
    "import sys\n",
    "sys.path.insert(1, \"hamiltonian-simulation/qiskit\")\n",
    "import hamiltonian_simulation_benchmark\n",
    "hamiltonian_simulation_benchmark.run(min_qubits=min_qubits, max_qubits=max_qubits, skip_qubits=skip_qubits,\n",
    "                max_circuits=max_circuits, num_shots=num_shots,\n",
    "                method=1,\n",
    "                backend_id=backend_id, provider_backend=provider_backend,\n",
    "                hub=hub, group=group, project=project, exec_options=exec_options)"
   ]
  },
  {
   "cell_type": "markdown",
   "metadata": {},
   "source": [
    "### Hamiltonian Simulation - Method 2 "
   ]
  },
  {
   "cell_type": "code",
   "execution_count": null,
   "metadata": {},
   "outputs": [],
   "source": [
    "import sys\n",
    "sys.path.insert(1, \"hamiltonian-simulation/qiskit\")\n",
    "import hamiltonian_simulation_benchmark\n",
    "hamiltonian_simulation_benchmark.run(min_qubits=min_qubits, max_qubits=max_qubits, skip_qubits=skip_qubits,\n",
    "                max_circuits=max_circuits, num_shots=num_shots,\n",
    "                method=2,\n",
    "                backend_id=backend_id, provider_backend=provider_backend,\n",
    "                hub=hub, group=group, project=project, exec_options=exec_options)"
   ]
  },
  {
   "cell_type": "markdown",
   "metadata": {},
   "source": [
    "### VQE - Method 1"
   ]
  },
  {
   "cell_type": "code",
   "execution_count": null,
   "metadata": {},
   "outputs": [],
   "source": [
    "import sys\n",
    "sys.path.insert(1, \"vqe/qiskit\")\n",
    "import vqe_benchmark\n",
    "vqe_num_shots=4098\n",
    "vqe_benchmark.run(min_qubits=min_qubits, max_qubits=max_qubits,\n",
    "                max_circuits=max_circuits, num_shots=vqe_num_shots,\n",
    "                method=1,\n",
    "                backend_id=backend_id, provider_backend=provider_backend,\n",
    "                hub=hub, group=group, project=project, exec_options=exec_options)"
   ]
  },
  {
   "cell_type": "markdown",
   "metadata": {},
   "source": [
    "### Shor - Method 1"
   ]
  },
  {
   "cell_type": "code",
   "execution_count": null,
   "metadata": {},
   "outputs": [],
   "source": [
    "import sys\n",
    "sys.path.insert(1, \"shors/qiskit\")\n",
    "import shors_benchmark\n",
    "shors_benchmark.run(min_qubits=min_qubits, max_qubits=max_qubits, max_circuits=1, num_shots=num_shots,\n",
    "                method=1,\n",
    "                backend_id=backend_id, provider_backend=provider_backend,\n",
    "                hub=hub, group=group, project=project, exec_options=exec_options)"
   ]
  },
  {
   "cell_type": "markdown",
   "metadata": {},
   "source": [
    "### Shor - Method 2"
   ]
  },
  {
   "cell_type": "code",
   "execution_count": null,
   "metadata": {},
   "outputs": [],
   "source": [
    "import sys\n",
    "sys.path.insert(1, \"shors/qiskit\")\n",
    "import shors_benchmark\n",
    "shors_benchmark.run(min_qubits=min_qubits, max_qubits=max_qubits, max_circuits=1, num_shots=num_shots,\n",
    "                method=2,\n",
    "                backend_id=backend_id, provider_backend=provider_backend,\n",
    "                hub=hub, group=group, project=project, exec_options=exec_options)"
   ]
  },
  {
   "cell_type": "markdown",
   "metadata": {},
   "source": [
    "### Close session\n",
    "IMPORTANT: This cell is provided as a way to close an active session if for some reason the benchmarks abort abnormally.\n",
    "If so, execute the close_session function manually to terminate an open session. Normally, this is done automatically."
   ]
  },
  {
   "cell_type": "code",
   "execution_count": null,
   "metadata": {},
   "outputs": [],
   "source": [
    "import sys\n",
    "sys.path.insert(1, \"_common\")\n",
    "import execute as ex\n",
    "\n",
    "ex.close_session()"
   ]
  },
  {
   "cell_type": "markdown",
   "metadata": {},
   "source": [
    "### Combined Benchmark Results"
   ]
  },
  {
   "cell_type": "code",
   "execution_count": null,
   "metadata": {},
   "outputs": [],
   "source": [
    "import sys\n",
    "sys.path.insert(1, \"_common\")\n",
    "import metrics\n",
    "\n",
    "# metrics.depth_base = 2\n",
    "# metrics.QV = 0\n",
    "# apps = [ \"Hidden Shift\", \"Grover's Search\", \"Quantum Fourier Transform (1)\", \"Hamiltonian Simulation\" ]\n",
    "# backend_id='qasm_simulator'\n",
    "\n",
    "metrics.plot_all_app_metrics(backend_id, do_all_plots=False, include_apps=None)"
   ]
  }
 ],
 "metadata": {
  "kernelspec": {
   "display_name": "Python 3 (ipykernel)",
   "language": "python",
   "name": "python3"
  },
  "language_info": {
   "codemirror_mode": {
    "name": "ipython",
    "version": 3
   },
   "file_extension": ".py",
   "mimetype": "text/x-python",
   "name": "python",
   "nbconvert_exporter": "python",
   "pygments_lexer": "ipython3",
   "version": "3.12.11"
  }
 },
 "nbformat": 4,
 "nbformat_minor": 4
}
