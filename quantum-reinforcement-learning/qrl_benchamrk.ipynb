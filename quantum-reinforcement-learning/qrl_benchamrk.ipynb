{
 "cells": [
  {
   "cell_type": "markdown",
   "id": "965e98c6",
   "metadata": {},
   "source": [
    "### QED-C Application-Oriented Benchmarks - Quantum Reinforcement Learning\n",
    "\n",
    "- The notebook contains specific examples for the Quantum Reinforcement Learning benchmark program.\n",
    "- Configure and run the cell below with the desired execution settings.\n",
    "- Then configure and run the remaining cell(s), each one a variation of this benchmark."
   ]
  },
  {
   "cell_type": "code",
   "execution_count": null,
   "id": "1ab35f0b",
   "metadata": {},
   "outputs": [],
   "source": [
    "%reload_ext autoreload\n",
    "%autoreload 2"
   ]
  },
  {
   "cell_type": "markdown",
   "id": "0cd380d4",
   "metadata": {},
   "source": []
  }
 ],
 "metadata": {
  "language_info": {
   "name": "python"
  }
 },
 "nbformat": 4,
 "nbformat_minor": 5
}
