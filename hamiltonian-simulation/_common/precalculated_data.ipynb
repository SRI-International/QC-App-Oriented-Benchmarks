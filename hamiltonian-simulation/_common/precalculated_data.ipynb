{
 "cells": [
  {
   "cell_type": "code",
   "execution_count": 2,
   "metadata": {
    "ExecuteTime": {
     "end_time": "2024-05-06T16:26:36.751184Z",
     "start_time": "2024-05-06T16:26:35.905972Z"
    }
   },
   "outputs": [],
   "source": [
    "import sys\n",
    "\n",
    "sys.path[1:1] = [\"_common\", \"_common/qiskit\"]\n",
    "sys.path[1:1] = [\"../../_common\", \"../../_common/qiskit\"]\n",
    "from qiskit import QuantumCircuit, QuantumRegister, ClassicalRegister\n",
    "import time\n",
    "import math\n",
    "import numpy as np\n",
    "np.random.seed(0)\n",
    "import execute as ex\n",
    "import metrics as metrics\n",
    "from collections import defaultdict"
   ]
  },
  {
   "cell_type": "code",
   "execution_count": 3,
   "metadata": {
    "ExecuteTime": {
     "end_time": "2024-05-06T16:26:37.422103Z",
     "start_time": "2024-05-06T16:26:37.330344Z"
    }
   },
   "outputs": [],
   "source": [
    "from qiskit.quantum_info import SparsePauliOp\n",
    "from qiskit.primitives import Estimator\n",
    "from qiskit.quantum_info import Statevector"
   ]
  },
  {
   "cell_type": "code",
   "execution_count": 4,
   "metadata": {
    "ExecuteTime": {
     "end_time": "2024-05-06T16:26:38.426911Z",
     "start_time": "2024-05-06T16:26:38.418933Z"
    }
   },
   "outputs": [],
   "source": [
    "def HamiltonianSimulation(n_spins, K, t, w, h_x, h_z):\n",
    "    '''\n",
    "    Construct a Qiskit circuit for Hamiltonian Simulation\n",
    "    :param n_spins:The number of spins to simulate\n",
    "    :param K: The Trotterization order\n",
    "    :param t: duration of simulation\n",
    "    :return: return a Qiskit circuit for this Hamiltonian\n",
    "    '''\n",
    "    \n",
    "    # allocate qubits\n",
    "    qr = QuantumRegister(n_spins); cr = ClassicalRegister(n_spins); qc = QuantumCircuit(qr, cr, name=\"main\")\n",
    "    tau = t / K\n",
    "\n",
    "    # start with initial state of 1010101...\n",
    "    for k in range(0, n_spins, 2):\n",
    "        qc.x(qr[k])\n",
    "    qc.barrier()\n",
    "\n",
    "    # loop over each trotter step, adding gates to the circuit defining the hamiltonian\n",
    "    for k in range(K):\n",
    "    \n",
    "        # the Pauli spin vector product\n",
    "        [qc.rx(2 * tau * w * h_x[i], qr[i]) for i in range(n_spins)]\n",
    "        [qc.rz(2 * tau * w * h_z[i], qr[i]) for i in range(n_spins)]\n",
    "        qc.barrier()\n",
    "        \n",
    "        # Use an optimal XXYYZZ combined operator\n",
    "        # See equation 1 and Figure 6 in https://arxiv.org/pdf/quant-ph/0308006.pdf\n",
    "        # optimized XX + YY + ZZ operator on each pair of qubits in linear chain\n",
    "        for j in range(2):\n",
    "            for i in range(j % 2, n_spins - 1, 2):\n",
    "                qc.append(xxyyzz_opt_gate(tau).to_gate(), [qr[i], qr[(i + 1) % n_spins]])\n",
    "\n",
    "        qc.barrier()\n",
    "\n",
    "    # measure all the qubits used in the circuit\n",
    "    for i_qubit in range(n_spins):\n",
    "        qc.measure(qr[i_qubit], cr[i_qubit])\n",
    "\n",
    "    return qc"
   ]
  },
  {
   "cell_type": "code",
   "execution_count": 5,
   "metadata": {
    "ExecuteTime": {
     "end_time": "2024-05-06T16:26:39.235288Z",
     "start_time": "2024-05-06T16:26:39.224317Z"
    }
   },
   "outputs": [],
   "source": [
    "def Hamiltonian_Simulation_TFIM(n_spins, K, t):\n",
    "\n",
    "    g=0.2 # strength of tranverse field\n",
    "\n",
    "    # state with initial state of GHZ state: 1/sqrt(2) ( |00...> + |11...> )\n",
    "    \n",
    "    qr = QuantumRegister(n_spins); cr = ClassicalRegister(n_spins); qc = QuantumCircuit(qr, cr, name=\"main\")\n",
    "    tau = t / K\n",
    "\n",
    "    qc.h(qr[0])\n",
    "    for k in range(1, n_spins):\n",
    "        qc.cx(qr[k-1], qr[k])\n",
    "\n",
    "    qc.barrier()\n",
    "\n",
    "    ##calculate TFIM\n",
    "\n",
    "    for k in range(K):\n",
    "        # the Pauli spin vector product\n",
    "        for i in range(n_spins):\n",
    "            qc.rx(2 * tau * g, qr[i])\n",
    "        qc.barrier()\n",
    "\n",
    "\n",
    "        # ZZ operation on each pair of qubits in linear chain\n",
    "        for j in range(2):\n",
    "            for i in range(j%2, n_spins-1, 2):\n",
    "                qc.append(zz_gate(tau).to_instruction(), [qr[i], qr[(i + 1) % n_spins]])\n",
    "        qc.barrier()\n",
    "\n",
    "\n",
    "    # reversed tranformation from GHZ state\n",
    "    for k in reversed(range(1, n_spins)):\n",
    "        qc.cx(qr[k-1], qr[k])\n",
    "    qc.h(qr[0])\n",
    "    qc.barrier()\n",
    "        \n",
    "        # measure all the qubits used in the circuit\n",
    "    for i_qubit in range(n_spins):\n",
    "        qc.measure(qr[i_qubit], cr[i_qubit])\n",
    "        \n",
    "        \n",
    "    return qc\n"
   ]
  },
  {
   "cell_type": "code",
   "execution_count": 6,
   "metadata": {
    "ExecuteTime": {
     "end_time": "2024-05-06T16:26:39.534346Z",
     "start_time": "2024-05-06T16:26:39.525370Z"
    }
   },
   "outputs": [],
   "source": [
    "# Optimal combined XXYYZZ gate (with double coupling) on q0 and q1 with angle 'tau'\n",
    "def xxyyzz_opt_gate(tau):\n",
    "    alpha = tau\n",
    "    beta = tau\n",
    "    gamma = tau\n",
    "    qr = QuantumRegister(2)\n",
    "    qc = QuantumCircuit(qr, name=\"xxyyzz_opt\")\n",
    "    qc.rz(3.1416/2, qr[1])\n",
    "    qc.cx(qr[1], qr[0])\n",
    "    qc.rz(3.1416*gamma - 3.1416/2, qr[0])\n",
    "    qc.ry(3.1416/2 - 3.1416*alpha, qr[1])\n",
    "    qc.cx(qr[0], qr[1])\n",
    "    qc.ry(3.1416*beta - 3.1416/2, qr[1])\n",
    "    qc.cx(qr[1], qr[0])\n",
    "    qc.rz(-3.1416/2, qr[0])\n",
    "\n",
    "    # save circuit example for display\n",
    "    global XXYYZZ_    \n",
    "    XXYYZZ_ = qc\n",
    "\n",
    "    return qc"
   ]
  },
  {
   "cell_type": "code",
   "execution_count": 7,
   "metadata": {
    "ExecuteTime": {
     "end_time": "2024-05-06T16:26:40.032009Z",
     "start_time": "2024-05-06T16:26:40.022035Z"
    }
   },
   "outputs": [],
   "source": [
    "def zz_gate(tau):\n",
    "    qr = QuantumRegister(2); qc = QuantumCircuit(qr, name=\"zz_gate\")\n",
    "    qc.cx(qr[0], qr[1])\n",
    "    qc.rz(3.1416*tau, qr[1])\n",
    "    qc.cx(qr[0], qr[1])\n",
    "\n",
    "    # save circuit example for display\n",
    "    global ZZ_    \n",
    "    ZZ_ = qc\n",
    "\n",
    "    return qc"
   ]
  },
  {
   "cell_type": "code",
   "execution_count": 8,
   "metadata": {
    "ExecuteTime": {
     "end_time": "2024-05-06T16:26:40.359644Z",
     "start_time": "2024-05-06T16:26:40.344495Z"
    }
   },
   "outputs": [],
   "source": [
    "def Hamiltonian_Simulation_Exact_TFIM(n_spins):\n",
    "    num_shots = 100000\n",
    "\n",
    "    qr = QuantumRegister(n_spins); cr = ClassicalRegister(n_spins); qc = QuantumCircuit(qr, cr, name=\"main\")\n",
    "    g=0.2 # strength of tranverse field\n",
    "\n",
    "    # state with initial state of GHZ state: 1/sqrt(2) ( |00...> + |11...> )\n",
    "    qc.h(qr[0])\n",
    "    for k in range(1, n_spins):\n",
    "        qc.cx(qr[k-1], qr[k])\n",
    "        \n",
    "    psi = Statevector(qc)\n",
    "    #print(psi)\n",
    "        \n",
    "    #qr2 = QuantumRegister(n_spins); cr2 = ClassicalRegister(n_spins); qc2 = QuantumCircuit(qr2, cr2, name=\"main\")\n",
    "\n",
    "    ##calculate TFIM\n",
    "\n",
    "    pauli_list = []\n",
    "    coeff = (1/((n_spins - 1) + g))\n",
    "    for i in range(n_spins-1):\n",
    "        curr_str = \"I\"*(i)+\"ZZ\"+\"I\"*(n_spins-(i+2))\n",
    "        pauli_list.append((curr_str, coeff))\n",
    "\n",
    "\n",
    "    \n",
    "    x_str = \"X\"*n_spins\n",
    "    pauli_list.append((x_str, g*coeff))\n",
    "    pauli_list = SparsePauliOp.from_list(pauli_list)\n",
    "    \n",
    "    #print(pauli_list)\n",
    "\n",
    "    #psi.expectation_value(pauli_list)\n",
    "\n",
    "    #job = estimator.run([qc], pauli_list, shots = num_shots)\n",
    "    #x_values = job.result().values\n",
    "    # print(x_values)\n",
    "    # print(np.mean(x_values))\n",
    "\n",
    "    psi2 = psi.evolve(pauli_list)\n",
    "    \n",
    "    #print(psi2)\n",
    "\n",
    "    qr3 = QuantumRegister(n_spins); cr3 = ClassicalRegister(n_spins); qc3 = QuantumCircuit(qr3, cr3, name=\"main\")\n",
    "    for k in reversed(range(1, n_spins)):\n",
    "        qc3.cx(qr3[k-1], qr3[k])\n",
    "    qc3.h(qr3[0])\n",
    "\n",
    "    psi3 = psi2.evolve(qc3)\n",
    "    #print(psi3)\n",
    "\n",
    "    probs = psi3.probabilities_dict()\n",
    "    return probs"
   ]
  },
  {
   "cell_type": "code",
   "execution_count": 9,
   "metadata": {
    "ExecuteTime": {
     "end_time": "2024-05-06T16:26:41.000304Z",
     "start_time": "2024-05-06T16:26:40.979360Z"
    }
   },
   "outputs": [
    {
     "data": {
      "text/plain": [
       "{'000': 0.9999999999999996}"
      ]
     },
     "execution_count": 9,
     "metadata": {},
     "output_type": "execute_result"
    }
   ],
   "source": [
    "Hamiltonian_Simulation_Exact_TFIM(3)"
   ]
  },
  {
   "cell_type": "code",
   "execution_count": 14,
   "metadata": {
    "ExecuteTime": {
     "end_time": "2024-05-06T16:39:58.644353Z",
     "start_time": "2024-05-06T16:39:39.092464Z"
    },
    "tags": []
   },
   "outputs": [
    {
     "name": "stdout",
     "output_type": "stream",
     "text": [
      "Now running n_spins 2\n",
      "{'00': 1.0}\n",
      "Now running n_spins 3\n",
      "{'000': 0.9999999999999996}\n",
      "Now running n_spins 4\n",
      "{'0000': 0.9999999999999996, '0001': 5.004680467665246e-34}\n",
      "Now running n_spins 5\n",
      "{'00000': 0.9999999999999996, '00001': 5.004680467665246e-34}\n",
      "Now running n_spins 6\n",
      "{'000000': 0.9999999999999996, '000001': 5.004680467665246e-34}\n",
      "Now running n_spins 7\n",
      "{'0000000': 0.9999999999999996, '0000001': 5.004680467665246e-34}\n",
      "Now running n_spins 8\n",
      "{'00000000': 0.9999999999999993, '00000001': 3.872928019572694e-37}\n",
      "Now running n_spins 9\n",
      "{'000000000': 1.0, '000000001': 1.0295220005548027e-34}\n",
      "Now running n_spins 10\n",
      "{'0000000000': 1.0, '0000000001': 1.0295220005548027e-34}\n",
      "Now running n_spins 11\n",
      "{'00000000000': 0.9999999999999993, '00000000001': 3.872928019572694e-37}\n",
      "Now running n_spins 12\n",
      "{'000000000000': 0.9999999999999996, '000000000001': 5.004680467665246e-34}\n",
      "Now running n_spins 13\n",
      "{'0000000000000': 0.9999999999999993, '0000000000001': 3.872928019572694e-37}\n"
     ]
    }
   ],
   "source": [
    "import json\n",
    "from qiskit_aer import Aer\n",
    "from qiskit import transpile\n",
    "\n",
    "backend = Aer.get_backend(\"qasm_simulator\")\n",
    "\n",
    "precalculated_data = {}\n",
    "\n",
    "# parameters\n",
    "w = 10\n",
    "k = 3\n",
    "t = 0.01\n",
    "\n",
    "# store parameters in precalculated data\n",
    "precalculated_data['w'] = w\n",
    "precalculated_data['k'] = k\n",
    "precalculated_data['t'] = t\n",
    "\n",
    "# add parameter random values to precalculated data to ensure consistency\n",
    "np.random.seed(26)\n",
    "precalculated_data['h_x'] = list(2 * np.random.random(20) - 1) # random numbers between [-1, 1]\n",
    "np.random.seed(75)\n",
    "precalculated_data['h_z'] = list(2 * np.random.random(20) - 1) # random numbers between [-1, 1]\n",
    "\n",
    "num_shots = 100000\n",
    "\n",
    "for n_spins in range(2,14):\n",
    "\n",
    "    print(f\"Now running n_spins {n_spins}\")\n",
    "    \n",
    "    h_x = precalculated_data['h_x'][:n_spins]\n",
    "    h_z = precalculated_data['h_z'][:n_spins]\n",
    "\n",
    "    qc = HamiltonianSimulation(n_spins, k, t, w, h_x, h_z)\n",
    "    \n",
    "    dist2 = Hamiltonian_Simulation_Exact_TFIM(n_spins)\n",
    "    \n",
    "    print(dist2)\n",
    "    \n",
    "    qc3 = Hamiltonian_Simulation_TFIM(n_spins, k, t)\n",
    "\n",
    "    job = backend.run(transpile(qc,backend), shots=num_shots)\n",
    "    result = job.result()\n",
    "\n",
    "    counts = result.get_counts(qc)\n",
    "    \n",
    "    job3 = backend.run(transpile(qc3,backend), shots = num_shots)\n",
    "    result3 = job3.result()\n",
    "    counts3 = result3.get_counts()\n",
    "        \n",
    "    dist = {}\n",
    "    for key in counts.keys():\n",
    "        prob = counts[key] / num_shots\n",
    "        dist[key] = prob\n",
    "        \n",
    "#     dist2 = {}\n",
    "#     for key in counts2.keys():\n",
    "#         prob = counts2[key] / num_shots\n",
    "#         dist2[key] = prob\n",
    "    \n",
    "    dist3 = {}\n",
    "    for key in counts3.keys():\n",
    "        prob = counts3[key] / num_shots\n",
    "        dist3[key] = prob\n",
    "\n",
    "    # add dist values to precalculated data for use in fidelity calculation\n",
    "    precalculated_data[f\"Qubits - {n_spins}\"] = dist\n",
    "    \n",
    "    precalculated_data[f\"Qubits2 - {n_spins}\"] = dist2\n",
    "    \n",
    "    precalculated_data[f\"Qubits3 - {n_spins}\"] = dist3\n",
    "\n",
    "# https://stackoverflow.com/questions/36021332/how-to-prettyprint-human-readably-print-a-python-dict-in-json-format-double-q\n",
    "with open('precalculated_data.json', 'w') as f:\n",
    "    f.write(json.dumps(\n",
    "        precalculated_data,\n",
    "        sort_keys=True,\n",
    "        indent=4,\n",
    "        separators=(',', ': ')\n",
    "        ))"
   ]
  },
  {
   "cell_type": "code",
   "execution_count": null,
   "metadata": {},
   "outputs": [],
   "source": []
  },
  {
   "cell_type": "code",
   "execution_count": null,
   "metadata": {},
   "outputs": [],
   "source": []
  }
 ],
 "metadata": {
  "interpreter": {
   "hash": "719b70cead591c08c7b0f1bcd4bde00bd9cce0726633d80969f72eadd10f377f"
  },
  "kernelspec": {
   "display_name": "Python 3 (ipykernel)",
   "language": "python",
   "name": "python3"
  },
  "language_info": {
   "codemirror_mode": {
    "name": "ipython",
    "version": 3
   },
   "file_extension": ".py",
   "mimetype": "text/x-python",
   "name": "python",
   "nbconvert_exporter": "python",
   "pygments_lexer": "ipython3",
   "version": "3.8.13"
  }
 },
 "nbformat": 4,
 "nbformat_minor": 4
}
