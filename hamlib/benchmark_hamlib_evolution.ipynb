{
 "cells": [
  {
   "cell_type": "markdown",
   "metadata": {
    "tags": [
     "remove_cell"
    ]
   },
   "source": [
    "### QED-C Application-Oriented Benchmarks - Hamiltonian Simulation with HamLib - Evolution\n",
    "\n",
    "The notebook contains specific examples for the HamLib-based Hamiltonian Simulation benchmark program.\n",
    "Configure and run the cell below with the desired execution settings.\n",
    "Then configure and run the remaining cell(s), each one a variation of this benchmark.\n",
    "\n",
    "This example illustrates the evolution of the specified Hamiltonian over time \"t\", uwing \"K\" Trotter steps. The energy and several other observables is computed using an exact classical algorithm and the quantum algorithm at each step and the results recorded for plotting.  The time of execution is also recorded.\n",
    "\n",
    "Currently this example operates on only one fixed size for each type of Hamiltonian and produces plots representing the evolution of the various observables."
   ]
  },
  {
   "cell_type": "markdown",
   "metadata": {},
   "source": [
    "### Program Configuration"
   ]
  },
  {
   "cell_type": "code",
   "execution_count": 1,
   "metadata": {},
   "outputs": [],
   "source": [
    "import sys, time\n",
    "import numpy as np\n",
    "\n",
    "# Select the API to use and load the benchmark program\n",
    "api = \"qiskit\"\n",
    "from hamlib_simulation_benchmark import qedc_benchmarks_init, find_pauli_groups, execute_circuits\n",
    "qedc_benchmarks_init(api)   # needed for the execute_circuits function to work (code to be moved later)\n",
    "\n",
    "sys.path.insert(1, \"_common\")\n",
    "sys.path.insert(1, \"qiskit\")\n",
    "\n",
    "# Import HamLib, observable, and evolution helper functions (from _common)\n",
    "from hamlib_utils import load_hamlib_file, get_hamlib_sparsepaulilist\n",
    "from observables import calculate_expectation_from_measurements, ensure_pauli_terms\n",
    "from evolution_exact import compute_expectations_exact\n",
    "\n",
    "# Import Hamlib Simulation kernel (from qiskit)\n",
    "from hamlib_simulation_kernel import HamiltonianSimulation, create_circuits_for_pauli_terms\n",
    "\n",
    "############## Settings\n",
    "\n",
    "# Select the benchmark parameters\n",
    "num_qubits = min_qubits = max_qubits = 4\n",
    "skip_qubits=1\n",
    "max_circuits=1\n",
    "num_shots=10000\n",
    "\n",
    "# Total evolution time and size of each Trotter step\n",
    "total_evolution_time = 6.3\n",
    "step_size = 0.25\n",
    "\n",
    "# Select the backend \n",
    "#backend_id=\"qasm_simulator\"\n",
    "backend_id=\"statevector_simulator\"\n",
    "provider_backend=None\n",
    "exec_options={}\n",
    "\n",
    "verbose = True\n"
   ]
  },
  {
   "cell_type": "markdown",
   "metadata": {},
   "source": [
    "### List of Available Hamiltonians and Sizes\n",
    "For the example illustrated below, select one of the available Hamiltonian (name, params, size) tuples.\n"
   ]
  },
  {
   "cell_type": "code",
   "execution_count": 2,
   "metadata": {},
   "outputs": [
    {
     "name": "stdout",
     "output_type": "stream",
     "text": [
      "\n",
      "*******************************************************************************************\n",
      "Hamiltonian Energy/Observables Evolution for condensedmatter/heisenberg/heis {'1D-grid': 'pbc', 'h': 2}\n",
      "\n",
      "============================================================\n",
      "Testing expectation grouping method: simple\n",
      "\n"
     ]
    }
   ],
   "source": [
    "# list of observable computation methods to sweep\n",
    "group_method_list = [ None, \"simple\", \"N\", \"estimator\" ]\n",
    "\n",
    "# List of HamLib filename and parameter tuples, with max_qubits limit array\n",
    "# Note that the 4th entry in the array is used in the cell below which executes a noisy simulation\n",
    "hamiltonians = [\n",
    "    ('condensedmatter/tfim/tfim', { \"1D-grid\": \"pbc\", \"h\": 2 }, [24,28,28,28, 16] ),\n",
    "    ('condensedmatter/heisenberg/heis', { \"1D-grid\": \"pbc\", \"h\": 2 }, [24,28,28,28, 16] ),\n",
    "    ('condensedmatter/fermihubbard/FH_D-1', { \"1D-grid\": \"pbc\", \"enc\": \"bk\", \"U\":12 }, [20,24,24,24, 14] ),\n",
    "    ('condensedmatter/bosehubbard/BH_D-1_d-4', { \"1D-grid\": \"nonpbc\", \"enc\": \"gray\", \"U\":10 }, [16,24,24,24, 12] ),\n",
    "    ('binaryoptimization/max3sat/random/random_max3sat-hams', { \"ratio\": \"2\", \"rinst\": \"02\" }, [18,28,28,28, 14] ),\n",
    "    ('chemistry/electronic/standard/H2', { \"ham_BK\": \"\" }, [8,12,12,12, 8] )\n",
    "    ]\n",
    "\n",
    "# Select indices of the Hamiltonian(s) to test\n",
    "ham_indexes = range(len(hamiltonians))       # select all\n",
    "#ham_indexes = [2,3]       # select subset, for example 2,3; for quick test, do just one of them\n",
    "\n",
    "# limit testing to simple for now\n",
    "group_method = \"simple\"\n",
    "\n",
    "# just do one Hamiltonian for now\n",
    "ham_indexes = [ 0 ]\n",
    "\n",
    "# get Hamiltonian name and params from list\n",
    "# Note: we will loop over multiples here later\n",
    "hamiltonian_name, hamiltonian_params, _ = hamiltonians[1]\n",
    "\n",
    "print(f\"\\n*******************************************************************************************\")\n",
    "\n",
    "print(f\"Hamiltonian Energy/Observables Evolution for {hamiltonian_name} {hamiltonian_params}\\n\")\n",
    "\n",
    "print(\"============================================================\")\n",
    "print(f\"Testing expectation grouping method: {group_method}\\n\") \n"
   ]
  },
  {
   "cell_type": "markdown",
   "metadata": {},
   "source": [
    "### Load the Selected Hamiltonian and get Pauli Terms\n",
    "Use the selected Hamiltonian name and parameters to obtain the Pauli terms for a specific dataset."
   ]
  },
  {
   "cell_type": "code",
   "execution_count": 3,
   "metadata": {},
   "outputs": [
    {
     "name": "stdout",
     "output_type": "stream",
     "text": [
      "... dataset_name = graph-1D-grid-pbc-qubitnodes_Lx-4_h-2\n",
      "... sparse_pauli_terms = \n",
      "[({0: 'X', 1: 'X'}, (1+0j)), ({0: 'Y', 1: 'Y'}, (1+0j)), ({0: 'Z', 1: 'Z'}, (1+0j)), ({0: 'X', 3: 'X'}, (1+0j)), ({0: 'Y', 3: 'Y'}, (1+0j)), ({0: 'Z', 3: 'Z'}, (1+0j)), ({1: 'X', 2: 'X'}, (1+0j)), ({1: 'Y', 2: 'Y'}, (1+0j)), ({1: 'Z', 2: 'Z'}, (1+0j)), ({3: 'X', 2: 'X'}, (1+0j)), ({3: 'Y', 2: 'Y'}, (1+0j)), ({3: 'Z', 2: 'Z'}, (1+0j)), ({0: 'Z'}, (2+0j)), ({1: 'Z'}, (2+0j)), ({3: 'Z'}, (2+0j)), ({2: 'Z'}, (2+0j))]\n",
      "\n"
     ]
    }
   ],
   "source": [
    "# load the HamLib file for the given hamiltonian name\n",
    "load_hamlib_file(filename=hamiltonian_name)\n",
    "\n",
    "# return a sparse Pauli list of terms queried from the open HamLib file\n",
    "sparse_pauli_terms, dataset_name = get_hamlib_sparsepaulilist(num_qubits=num_qubits, params=hamiltonian_params)\n",
    "print(f\"... dataset_name = {dataset_name}\")\n",
    "print(f\"... sparse_pauli_terms = \\n{sparse_pauli_terms}\")\n",
    "\n",
    "print(\"\")"
   ]
  },
  {
   "cell_type": "markdown",
   "metadata": {},
   "source": [
    "### Arrange Pauli Terms into Commuting Groups"
   ]
  },
  {
   "cell_type": "code",
   "execution_count": 4,
   "metadata": {},
   "outputs": [
    {
     "name": "stdout",
     "output_type": "stream",
     "text": [
      "\n",
      "... finished grouping terms, total grouping time = 0.0 sec.\n",
      "\n",
      "... Number of groups created: 3\n",
      "... Pauli Term Groups:\n",
      "[('XXII', (1+0j)), ('XIIX', (1+0j)), ('IXXI', (1+0j)), ('IIXX', (1+0j))]\n",
      "[('YYII', (1+0j)), ('YIIY', (1+0j)), ('IYYI', (1+0j)), ('IIYY', (1+0j))]\n",
      "[('ZZII', (1+0j)), ('ZIIZ', (1+0j)), ('IZZI', (1+0j)), ('IIZZ', (1+0j)), ('ZIII', (2+0j)), ('IZII', (2+0j)), ('IIIZ', (2+0j)), ('IIZI', (2+0j))]\n"
     ]
    }
   ],
   "source": [
    "# Arrange the Pauli terms into commuting groups based on group_method, for use in cells below\n",
    "pauli_term_groups, pauli_str_list = find_pauli_groups(num_qubits, sparse_pauli_terms, group_method)\n",
    "\n",
    "print(f\"... Number of groups created: {len(pauli_term_groups)}\")\n",
    "print(f\"... Pauli Term Groups:\")\n",
    "for group in pauli_term_groups:\n",
    "    print(group)\n",
    "        "
   ]
  },
  {
   "cell_type": "markdown",
   "metadata": {},
   "source": [
    "### Function to Create Base Circuit, Initialized with Trotter steps\n",
    "Here, we create a circuit using the initial state definition, then append K Trotter steps to it."
   ]
  },
  {
   "cell_type": "code",
   "execution_count": 5,
   "metadata": {},
   "outputs": [],
   "source": [
    "# create Trotterized evolution circuit for HamLib Hamiltonian\n",
    "def create_base_circuit(num_qubits, init_state, sparse_pauli_terms, K = 0, t = 0):\n",
    "    ts = time.time()\n",
    "    qc, _ = HamiltonianSimulation(\n",
    "        num_qubits=num_qubits, \n",
    "        ham_op=sparse_pauli_terms,\n",
    "        K=K, t=t,\n",
    "        init_state = init_state,\n",
    "        append_measurements = False,\n",
    "        method = 1, \n",
    "    )\n",
    "    \n",
    "    create_time = round(time.time()-ts, 3)\n",
    "    \n",
    "    print(f\"... Finished creating base circuit, K={K}, t={t}, total creation time = {create_time} sec.\")\n",
    "    \n",
    "    return qc\n"
   ]
  },
  {
   "cell_type": "markdown",
   "metadata": {},
   "source": [
    "### Function to Create Measurement Circuits from Base Circuit and Pauli Terms\n",
    "Here, we append basis rotation gates for each Pauli Term group to the base evolution circuit to create an array of circuits for execution."
   ]
  },
  {
   "cell_type": "code",
   "execution_count": 6,
   "metadata": {},
   "outputs": [],
   "source": [
    "# generate an array of circuits, one for each pauli_string in list\n",
    "def create_measurement_circuts(qc, num_qubits, pauli_term_groups, pauli_str_list):\n",
    "    ts = time.time()\n",
    "    \n",
    "    circuits = create_circuits_for_pauli_terms(qc, num_qubits, pauli_str_list)\n",
    "    \"\"\"\n",
    "    print(f\"... Appended {len(circuits)} circuits, one for each group:\")               \n",
    "    for circuit, group in list(zip(circuits, pauli_term_groups)):\n",
    "        print(group)\n",
    "        #print(circuit)\n",
    "    \"\"\"\n",
    "    append_time = round(time.time()-ts, 3)\n",
    "    ###print(f\"\\n... finished appending {len(circuits)} measurement circuits, total creating time = {append_time} sec.\\n\")\n",
    "\n",
    "    return circuits\n"
   ]
  },
  {
   "cell_type": "markdown",
   "metadata": {},
   "source": [
    "### Function to Compute Energy from the Hamiltonian and Measurements\n",
    "Here, the measurement results from executing the measurement circuits are used with the given Hamiltonian to compute the energy of the state."
   ]
  },
  {
   "cell_type": "code",
   "execution_count": 7,
   "metadata": {},
   "outputs": [],
   "source": [
    "# Compute the total energy for the Hamiltonian\n",
    "def compute_energy(num_qubits, results, pauli_term_groups):\n",
    "\n",
    "    ###print(f\"... begin computing observable value ...\")\n",
    "    ts = time.time()\n",
    "    \n",
    "    total_energy, term_contributions = calculate_expectation_from_measurements(\n",
    "                                                num_qubits, results, pauli_term_groups)\n",
    "    obs_time = round(time.time()-ts, 3)\n",
    "    ###print(f\"... finished computing observable value, computation time = {obs_time} sec.\\n\")\n",
    "    \n",
    "    #print(f\"    Total Energy: {round(np.real(total_energy), 4)}\")\n",
    "    ### print(f\"    Term Contributions: {term_contributions}\\n\")\n",
    "\n",
    "    create_time = 0\n",
    "    group_time = 0\n",
    "    append_time = 0\n",
    "    exec_time = 0\n",
    "    \n",
    "    total_time = group_time + create_time + append_time + exec_time + obs_time\n",
    "    total_time = round(total_time, 3)\n",
    "    ###print(f\"\\n... total observable computation time = {total_time} sec.\\n\")\n",
    "\n",
    "    total_energy = np.real(total_energy)\n",
    "    \n",
    "    return total_energy\n"
   ]
  },
  {
   "cell_type": "markdown",
   "metadata": {},
   "source": [
    "### Quantum Evolution - Calculate Exact Theoretical Energy and Time Arrays for Multiple Steps\n",
    "Here, we create an array containing a series of time values for increasing longer evolution times along with the computed theoretical energy at each time step, given the initial state. \n",
    "Note that the energy remains constant since these are a time-independent Hamiltonians."
   ]
  },
  {
   "cell_type": "code",
   "execution_count": 8,
   "metadata": {},
   "outputs": [
    {
     "name": "stdout",
     "output_type": "stream",
     "text": [
      "========= Exact Classical Calculation of Energy and Time Arrays\n",
      "\n",
      "... getting exact energies\n",
      "... begin exact computation for id=<class 'type'> ...\n",
      "... exact computation time = 0.02 sec\n",
      "... total compute_expectations_exact time = 0.02\n",
      "\n",
      "... got exact energies [-4.0, -4.0, -3.999999999999999, -4.0, -4.000000000000001, -3.999999999999999, -4.0, -3.999999999999999, -3.999999999999999, -3.9999999999999996, -4.000000000000001, -4.000000000000003, -3.999999999999975, -4.000000000000009, -4.000000000000007, -4.00000000000001, -4.00000000000001, -4.000000000000009, -4.000000000000007, -4.000000000000016, -4.000000000000012, -4.000000000000017, -4.000000000000014, -4.000000000000011, -3.999999999999984, -3.999999999999993, -3.9999999999999396]\n"
     ]
    }
   ],
   "source": [
    "print(\"========= Exact Classical Calculation of Energy and Time Arrays\\n\")\n",
    "\n",
    "# Define an array of time values from 0 to the total evolution time\n",
    "time_values = np.arange(0, total_evolution_time + step_size, step_size)\n",
    "\n",
    "########### Obtain exact energies and time values for successively longer evolution times\n",
    "\n",
    "print(f\"... getting exact energies\")\n",
    "\n",
    "ts = time.time()\n",
    "\n",
    "theoretical_energies = 0\n",
    "magnetization_energies = 0\n",
    "correlation_energies = 0\n",
    "\n",
    "init_state = \"checkerboard\"\n",
    "\n",
    "if verbose:\n",
    "    print(f\"... begin exact computation for id={type} ...\")\n",
    "\n",
    "ts = time.time()\n",
    "\n",
    "################ Using newer evolution_exact code:\n",
    "\n",
    "theoretical_energies = compute_expectations_exact(\n",
    "        init_state,\n",
    "        ensure_pauli_terms(sparse_pauli_terms, num_qubits),\n",
    "        total_evolution_time,\n",
    "        step_size\n",
    "        )                 \n",
    "        \n",
    "exact_time = round((time.time() - ts), 3)\n",
    "\n",
    "#if verbose:\n",
    "print(f\"... exact computation time = {exact_time} sec\")\n",
    "\n",
    "# Create array of theoretical energies (for comparison)\n",
    "# We compute this in an array function so that we can do the matrix conversion just once for all the steps\n",
    "# theoretical_energies = evolution_exact.compute_expectations_exact(initial_state, H.to_list(), total_evolution_time, step_size)\n",
    "# magnetization_energies = evolution_exact.compute_expectations_exact(initial_state, magnetization_op.to_list(), total_evolution_time, step_size)\n",
    "# correlation_energies = evolution_exact.compute_expectations_exact(initial_state, correlation_op.to_list(), total_evolution_time, step_size)\n",
    "\n",
    "print(f\"... total compute_expectations_exact time = {round(time.time()-ts, 3)}\")\n",
    "\n",
    "print(f\"\\n... got exact energies {theoretical_energies}\")\n",
    "# print(f\"\\n... got magnetization = {magnetization_energies}\")\n",
    "# print(f\"\\n... got correlation = {correlation_energies}\")\n"
   ]
  },
  {
   "cell_type": "markdown",
   "metadata": {},
   "source": [
    "### Quantum Evolution - Use Quantum Algorithm to Compute Multiple Observables at Increasing Time Intervals\n",
    "Here, we populate arrays of energy and other observables at increasing time steps using quantum circuit evolution and measurement."
   ]
  },
  {
   "cell_type": "code",
   "execution_count": 9,
   "metadata": {},
   "outputs": [
    {
     "name": "stdout",
     "output_type": "stream",
     "text": [
      "========= Quantum Simulation of Evolution and Calculation of Observables\n",
      "\n",
      ".... Finished creating base circuit, K=0, t=0.0, total creation time = 0.011 sec.\n",
      ".... Finished creating base circuit, K=1, t=0.25, total creation time = 0.009 sec.\n",
      ".... Finished creating base circuit, K=2, t=0.5, total creation time = 0.013 sec.\n",
      ".... Finished creating base circuit, K=3, t=0.75, total creation time = 0.019 sec.\n",
      ".... Finished creating base circuit, K=4, t=1.0, total creation time = 0.025 sec.\n",
      ".... Finished creating base circuit, K=5, t=1.25, total creation time = 0.03 sec.\n",
      ".... Finished creating base circuit, K=6, t=1.5, total creation time = 0.034 sec.\n",
      ".... Finished creating base circuit, K=7, t=1.75, total creation time = 0.054 sec.\n",
      ".... Finished creating base circuit, K=8, t=2.0, total creation time = 0.046 sec.\n",
      ".... Finished creating base circuit, K=9, t=2.25, total creation time = 0.053 sec.\n",
      ".... Finished creating base circuit, K=10, t=2.5, total creation time = 0.059 sec.\n",
      ".... Finished creating base circuit, K=11, t=2.75, total creation time = 0.063 sec.\n",
      ".... Finished creating base circuit, K=12, t=3.0, total creation time = 0.068 sec.\n",
      ".... Finished creating base circuit, K=13, t=3.25, total creation time = 0.076 sec.\n",
      ".... Finished creating base circuit, K=14, t=3.5, total creation time = 0.071 sec.\n",
      ".... Finished creating base circuit, K=15, t=3.75, total creation time = 0.097 sec.\n",
      ".... Finished creating base circuit, K=16, t=4.0, total creation time = 0.089 sec.\n",
      ".... Finished creating base circuit, K=17, t=4.25, total creation time = 0.099 sec.\n",
      ".... Finished creating base circuit, K=18, t=4.5, total creation time = 0.182 sec.\n",
      ".... Finished creating base circuit, K=19, t=4.75, total creation time = 0.105 sec.\n",
      ".... Finished creating base circuit, K=20, t=5.0, total creation time = 0.113 sec.\n",
      ".... Finished creating base circuit, K=21, t=5.25, total creation time = 0.109 sec.\n",
      ".... Finished creating base circuit, K=22, t=5.5, total creation time = 0.121 sec.\n",
      ".... Finished creating base circuit, K=23, t=5.75, total creation time = 0.127 sec.\n",
      ".... Finished creating base circuit, K=24, t=6.0, total creation time = 0.154 sec.\n",
      ".... Finished creating base circuit, K=25, t=6.25, total creation time = 0.191 sec.\n",
      ".... Finished creating base circuit, K=26, t=6.5, total creation time = 0.141 sec.\n",
      "\n",
      "... cumulative elapsed execution time = 6.472\n"
     ]
    }
   ],
   "source": [
    "########### Obtain multiple observables for successively longer evolution times\n",
    "\n",
    "print(\"========= Quantum Simulation of Evolution and Calculation of Observables\\n\")\n",
    "\n",
    "use_commuting_groups = True\n",
    "\n",
    "# array to collect results at each time step\n",
    "observables_list = []\n",
    "\n",
    "ts = time.time()\n",
    "\n",
    "# Define a time array based on Trotter steps specified\n",
    "time_values = np.arange(0, total_evolution_time + step_size, step_size)\n",
    "\n",
    "# loop over successively longer time steps to create arrays of obeservable values\n",
    "# by creating an increasingly long quantum circuit and computing observables from execution results\n",
    "for step in range(len(time_values)):\n",
    "    print(\".\", end=\"\")\n",
    "\n",
    "    # create the base circuit, with initialization and K Trotter steps \n",
    "    qc = create_base_circuit(num_qubits, init_state, sparse_pauli_terms, K = step, t = time_values[step])\n",
    "    #print(qc)\n",
    "\n",
    "    # Append measurement circuits for each term group and return an array of circuits\n",
    "    circuits = create_measurement_circuts(qc, num_qubits, pauli_term_groups, pauli_str_list)\n",
    "    #for c in circuits:\n",
    "    #    print(c)\n",
    "\n",
    "    # Invoke the generic execute method on all the measurement circuits\n",
    "    results = execute_circuits(backend_id, circuits, num_shots)\n",
    "\n",
    "    # compute the energy from the results\n",
    "    total_energy = compute_energy(num_qubits, results, pauli_term_groups)\n",
    "    \n",
    "    #H_terms_spin_correlation = obs.swap_pauli_list(H_terms_multiple[1])\n",
    "    #spin_correlation = obs.calculate_expectation_from_contributions(term_contributions, H_terms_spin_correlation)\n",
    "    spin_correlation = 0\n",
    "    \n",
    "    #H_terms_magnetization = obs.swap_pauli_list(H_terms_multiple[2])\n",
    "    #magnetization = obs.calculate_expectation_from_contributions(term_contributions, H_terms_magnetization)\n",
    "    magnetization = 0\n",
    "\n",
    "    # append these observables to a list for plotting\n",
    "    obs = [ total_energy, spin_correlation, magnetization ]\n",
    "    observables_list.append(obs)\n",
    "    \n",
    "print(\"\")\n",
    "\n",
    "print(f\"... cumulative elapsed execution time = {round(time.time()-ts, 3)}\")\n"
   ]
  },
  {
   "cell_type": "code",
   "execution_count": 10,
   "metadata": {},
   "outputs": [
    {
     "name": "stdout",
     "output_type": "stream",
     "text": [
      "[[-3.9231999999999996, 0, 0], [-3.6159999999999997, 0, 0], [-2.8815999999999997, 0, 0], [-2.5432, 0, 0], [-2.8088000000000006, 0, 0], [-3.3136000000000005, 0, 0], [-3.884, 0, 0], [-3.9112, 0, 0], [-3.0684000000000005, 0, 0], [-2.5508000000000006, 0, 0], [-2.656, 0, 0], [-3.3040000000000003, 0, 0], [-3.8255999999999992, 0, 0], [-3.8196000000000003, 0, 0], [-3.3688000000000002, 0, 0], [-2.7196, 0, 0], [-2.454, 0, 0], [-2.9856, 0, 0], [-3.7176000000000005, 0, 0], [-3.9279999999999995, 0, 0], [-3.4219999999999997, 0, 0], [-2.8307999999999995, 0, 0], [-2.5755999999999997, 0, 0], [-2.8572, 0, 0], [-3.4736000000000002, 0, 0], [-3.9871999999999996, 0, 0], [-3.7556000000000003, 0, 0]]\n"
     ]
    }
   ],
   "source": [
    "print(observables_list)"
   ]
  },
  {
   "cell_type": "markdown",
   "metadata": {},
   "source": [
    "### Setup and Obtain Other Observerables\n",
    "Not implemented yet."
   ]
  },
  {
   "cell_type": "code",
   "execution_count": 11,
   "metadata": {},
   "outputs": [],
   "source": [
    "\n",
    "H_terms = sparse_pauli_terms\n",
    "H_terms_spin_correlation = []\n",
    "H_terms_magnetization = []\n",
    "\n",
    "H_terms_multiple = [H_terms, H_terms_spin_correlation, H_terms_magnetization] #pass this into a function, and check if each term is in.\n",
    "H_terms_names = [\"Energy\", \"Spin Correlation\", \"Magnetization\"]"
   ]
  },
  {
   "cell_type": "markdown",
   "metadata": {},
   "source": [
    "### Plot Results\n",
    "Generate a plot showing the expectation value of multiple observables over successively longer Trotterized evolution times"
   ]
  },
  {
   "cell_type": "code",
   "execution_count": 12,
   "metadata": {},
   "outputs": [
    {
     "data": {
      "image/png": "[encoded data removed]",
      "text/plain": [
       "<Figure size 1000x600 with 1 Axes>"
      ]
     },
     "metadata": {},
     "output_type": "display_data"
    }
   ],
   "source": [
    "import matplotlib.pyplot as plt\n",
    "\n",
    "########### Transform Data for Plotting\n",
    "\n",
    "observables_values_list = []\n",
    "\n",
    "# pre-populate the observables value arrays with empty arrays\n",
    "for i in range(len(H_terms_multiple)):\n",
    "    observables_values_list.append([])\n",
    "\n",
    "# for each step, put the values of the computed observables into the values array, for plotting\n",
    "for step in range(len(time_values)):\n",
    "    for j in range(len(observables_list[step])):\n",
    "        observables_values_list[j].append(observables_list[step][j])\n",
    "\n",
    "########### Plot Results\n",
    "\n",
    "# Plot the results\n",
    "plt.figure(figsize=(10, 6))\n",
    "\n",
    "marker=['o', '*', 'd', '1', '2']\n",
    "\n",
    "#####\n",
    "for i in range(len(H_terms_multiple)):\n",
    "    plt.plot(time_values, observables_values_list[i], label= H_terms_names[i], marker=marker[i])\n",
    "\n",
    "plt.plot(time_values, theoretical_energies, label='Theoretical Energy', marker='*')\n",
    "# plt.plot(time_values, correlation_energies, label='Theoretical Correlation', marker='*')\n",
    "# plt.plot(time_values, magnetization_energies, label='Theoretical Magnetization', marker='*')\n",
    "\n",
    "#####\n",
    "for j in range(len(H_terms_multiple)):\n",
    "    plt.plot(time_values, observables_values_list[j], linestyle='--')\n",
    "    \n",
    "plt.plot(time_values, theoretical_energies, linestyle='--')\n",
    "\n",
    "plt.xlabel('Time')\n",
    "plt.ylabel('Observables Expectation Value')\n",
    "plt.title('Expectation Value of Observables over Time')\n",
    "plt.legend()\n",
    "plt.grid(True)\n",
    "plt.show()\n"
   ]
  },
  {
   "cell_type": "code",
   "execution_count": null,
   "metadata": {},
   "outputs": [],
   "source": []
  }
 ],
 "metadata": {
  "kernelspec": {
   "display_name": "Python 3 (ipykernel)",
   "language": "python",
   "name": "python3"
  },
  "language_info": {
   "codemirror_mode": {
    "name": "ipython",
    "version": 3
   },
   "file_extension": ".py",
   "mimetype": "text/x-python",
   "name": "python",
   "nbconvert_exporter": "python",
   "pygments_lexer": "ipython3",
   "version": "3.11.5"
  }
 },
 "nbformat": 4,
 "nbformat_minor": 4
}
