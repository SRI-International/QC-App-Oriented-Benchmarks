{
 "cells": [
  {
   "cell_type": "markdown",
   "id": "444c2c24-909a-4dd3-a80f-d4df84bebc3d",
   "metadata": {},
   "source": [
    "## Hamiltonian Simulation Observable Benchmark Tests - WIP\n",
    "\n",
    "This notebook is being used to flesh out the details of integrating the HamLib utility module, the HamLib kernel function, and the newly developed functions for generating groups of commuting terms.\n",
    "\n",
    "From any specific Hamiltonian, we create a base evolution circuit with 0 - N Trotter steps, initialize the circuit, and append the necessary basis rotations before measuring and computing the values of energy and other related observables.\n",
    "\n",
    "At a later point, the execution code and plotting code will also be integrated into the benchmark framework. For now, however, the focus is on developing the code necessary to evaluate the performance of observable execution using various optimization options.\n"
   ]
  },
  {
   "cell_type": "markdown",
   "id": "3d55c583-3ae7-4559-99cf-826d4702a7be",
   "metadata": {},
   "source": [
    "### Setup Dependencies and Initialize Modules\n",
    "\n",
    "This cell is used to pull in dependencies from standard libraries, the Hamlib helper functions, and the newly created observables module (in WIP).\n",
    "Initialize the modules so a re-run from the beginning is repeatable."
   ]
  },
  {
   "cell_type": "code",
   "execution_count": 1,
   "id": "67e7efbd-318c-44c2-ad58-8d4b03403e49",
   "metadata": {},
   "outputs": [],
   "source": [
    "import numpy as np\n",
    "from math import sin, cos, pi\n",
    "import time\n",
    "\n",
    "# Import Qiskit and Qiskit Pauli operator classes\n",
    "from qiskit.quantum_info import Pauli, SparsePauliOp\n",
    "from qiskit import QuantumCircuit\n",
    "\n",
    "# Initialize simulator backend\n",
    "from qiskit_aer import Aer\n",
    "backend = Aer.get_backend('qasm_simulator')\n",
    "\n",
    "# Configure module paths\n",
    "import sys\n",
    "sys.path.insert(1, \"_common\")\n",
    "sys.path.insert(1, \"qiskit\")\n",
    "\n",
    "# Import HamLib helper functions (from _common)\n",
    "import hamlib_utils\n",
    "\n",
    "# Import Observable helper functions\n",
    "import observables\n",
    "\n",
    "# Import Hamlib Simulation kernel (from qiskit)\n",
    "import hamlib_simulation_kernel\n",
    "    "
   ]
  },
  {
   "cell_type": "markdown",
   "id": "da34b34e-fa01-41a6-a2ff-a03ce1d63b25",
   "metadata": {},
   "source": [
    "### Configure Options for Execution"
   ]
  },
  {
   "cell_type": "code",
   "execution_count": 2,
   "id": "f8fc95a9-5621-47b1-b7c6-fbea0b8dc814",
   "metadata": {},
   "outputs": [],
   "source": [
    "# Qubit width of the Hamiltonian\n",
    "num_qubits = 4\n",
    "\n",
    "# Parameters of Trotterized simulation\n",
    "K = 1\n",
    "t = 0.1\n",
    "\n",
    "# for debugging Hamlib helper functions\n",
    "hamlib_simulation_kernel.verbose = False\n",
    "hamlib_utils.verbose = False\n",
    "\n",
    "# for debugging observables module\n",
    "observables.verbose_circuits = False\n"
   ]
  },
  {
   "cell_type": "markdown",
   "id": "2d35830f-d921-4509-aaac-ee0fdae6a999",
   "metadata": {},
   "source": [
    "### Specify a Hamiltonian for Testing\n",
    "Choose a Hamiltonian from HamLib or create a custom Hamiltonian\n"
   ]
  },
  {
   "cell_type": "code",
   "execution_count": 24,
   "id": "a5ec42f1-790c-4050-94c0-9c2a313b488b",
   "metadata": {},
   "outputs": [
    {
     "name": "stdout",
     "output_type": "stream",
     "text": [
      "... sparse_pauli_terms = \n",
      "[({0: 'Z', 1: 'Z'}, (1+0j)), ({0: 'Z', 3: 'Z'}, (1+0j)), ({1: 'Z', 2: 'Z'}, (1+0j)), ({3: 'Z', 2: 'Z'}, (1+0j)), ({0: 'X'}, (2+0j)), ({1: 'X'}, (2+0j)), ({3: 'X'}, (2+0j)), ({2: 'X'}, (2+0j))]\n",
      "... sparse_pauli_op = \n",
      "SparsePauliOp(['ZZII', 'ZIIZ', 'IZZI', 'IIZZ', 'XIII', 'IXII', 'IIIX', 'IIXI'],\n",
      "              coeffs=[1.+0.j, 1.+0.j, 1.+0.j, 1.+0.j, 2.+0.j, 2.+0.j, 2.+0.j, 2.+0.j])\n",
      "\n",
      "... Hamiltonian name = TFIM\n",
      "[('ZZII', (1+0j)), ('ZIIZ', (1+0j)), ('IZZI', (1+0j)), ('IIZZ', (1+0j)), ('XIII', (2+0j)), ('IXII', (2+0j)), ('IIIX', (2+0j)), ('IIXI', (2+0j))]\n",
      "\n"
     ]
    }
   ],
   "source": [
    "# Specify the desired Hamiltonian from HamLib \n",
    "# Set the hamiltonian_name: 'TFIM', 'Fermi-Hubbard-1D', 'Bose-Hubbard-1D', 'Heisenberg' or 'Max3Sat'\n",
    "# If no name, it means we use an explicitly specified Hamiltonian\n",
    "hamiltonian_name = 'TFIM'\n",
    "\n",
    "########### HamLib Hamiltonians\n",
    "\n",
    "if hamiltonian_name == 'TFIM':\n",
    "    hamiltonian_params = { \"1D-grid\": \"pbc\", \"h\": 2 }\n",
    "\n",
    "if hamiltonian_name == 'Heisenberg':\n",
    "    hamiltonian_params = { \"1D-grid\": \"nonpbc\", \"_h\": 1 }\n",
    "    \n",
    "if hamiltonian_name == 'Fermi-Hubbard-1D':\n",
    "    hamiltonian_params = { \"1D-grid\": \"pbc\", \"enc\": \"bk\", \"U\":12 }\n",
    "\n",
    "if hamiltonian_name == 'Bose-Hubbard-1D':\n",
    "    hamiltonian_params = { \"1D-grid\": \"nonpbc\", \"enc\": \"gray\", \"U\":10 }\n",
    "\n",
    "if hamiltonian_name == 'Max3Sat':\n",
    "    hamiltonian_params = { \"ratio\": \"2\", \"rinst\": \"02\" }\n",
    "\n",
    "if hamiltonian_name == 'chemistry/electronic/standard/H2':\n",
    "    hamiltonian_params = { \"ham_BK\": '' }\n",
    "    \n",
    "########### Explicit Hamiltonians\n",
    "\n",
    "# classical simple Ising is ZZ\n",
    "# TFIM ZZ + X  is transverse field\n",
    "# + longitudinal field -> ZZ, X, and Z\n",
    "def get_ising_hamiltonian(L, J, h, alpha=0):\n",
    "\n",
    "    # List of Hamiltonian terms as 3-tuples containing\n",
    "    # (1) the Pauli string,\n",
    "    # (2) the qubit indices corresponding to the Pauli string,\n",
    "    # (3) the coefficient.\n",
    "    ZZ_tuples = [(\"ZZ\", [i, i + 1], -J) for i in range(0, L - 1)]\n",
    "    Z_tuples = [(\"Z\", [i], -h * sin(alpha)) for i in range(0, L)]\n",
    "    X_tuples = [(\"X\", [i], -h * cos(alpha)) for i in range(0, L)]\n",
    "\n",
    "    # We create the Hamiltonian as a SparsePauliOp, via the method\n",
    "    # `from_sparse_list`, and multiply by the interaction term.\n",
    "    hamiltonian = SparsePauliOp.from_sparse_list([*ZZ_tuples, *Z_tuples, *X_tuples], num_qubits=L)\n",
    "    return hamiltonian.simplify()\n",
    "\n",
    "# extract Hamiltonian from HamLib\n",
    "if hamiltonian_name != '':\n",
    "\n",
    "    # load the HamLib file for the given hamiltonian name\n",
    "    hamlib_utils.load_hamlib_file(filename=hamiltonian_name)\n",
    "\n",
    "    # return a sparse Pauli list of terms queried from the open HamLib file\n",
    "    sparse_pauli_terms, dataset_name = hamlib_utils.get_hamlib_sparsepaulilist(num_qubits=num_qubits, params=hamiltonian_params)\n",
    "    print(f\"... sparse_pauli_terms = \\n{sparse_pauli_terms}\")\n",
    "    \"\"\"\n",
    "    sparse_pauli_terms = [#({}, (1+0j)), \n",
    "                          ({0: 'X', 1: 'X'}, (1+0j)), ({0: 'Y', 1: 'Y'}, (1+0j)), ({0: 'Z', 1: 'Z'}, (1+0j)),\n",
    "                          #({0: 'X', 3: 'X'}, (1+0j)), ({0: 'Y', 3: 'Y'}, (1+0j)), ({0: 'Z', 3: 'Z'}, (1+0j)),\n",
    "                          ({1: 'X', 2: 'X'}, (1+0j)), ({1: 'Y', 2: 'Y'}, (1+0j)), ({1: 'Z', 2: 'Z'}, (1+0j)),\n",
    "                          ({3: 'X', 2: 'X'}, (1+0j)), ({3: 'Y', 2: 'Y'}, (1+0j)), ({3: 'Z', 2: 'Z'}, (1+0j)),\n",
    "                          #({0: 'Z'}, (1+0j)), ({1: 'Z'}, (1+0j)), ({3: 'Z'}, (1+0j)), ({2: 'Z'}, (1+0j))\n",
    "                         ]\n",
    "    \"\"\"\n",
    "    sparse_pauli_terms = [\n",
    "                          ({0: 'Z', 1: 'Z'}, (1+0j)), ({0: 'Z', 3: 'Z'}, (1+0j)), ({1: 'Z', 2: 'Z'}, (1+0j)), ({3: 'Z', 2: 'Z'}, (1+0j)), \n",
    "                          ({0: 'X'}, (2+0j)), ({1: 'X'}, (2+0j)), ({3: 'X'}, (2+0j)), ({2: 'X'}, (2+0j))\n",
    "                         ]\n",
    "    \n",
    "    # convert the SparsePauliList to a SparsePauliOp object\n",
    "    sparse_pauli_op = hamlib_simulation_kernel.ensure_sparse_pauli_op(sparse_pauli_terms, num_qubits)\n",
    "    print(f\"... sparse_pauli_op = \\n{sparse_pauli_op}\")\n",
    "    print(\"\")\n",
    "    \n",
    "    # convert SparsePauliOp to list form (for use by expectation functions below)\n",
    "    pauli_terms = sparse_pauli_op.to_list()\n",
    "    \n",
    "# create explicit Hamiltonian\n",
    "else:\n",
    "    sparse_pauli_op = get_ising_hamiltonian(L=num_qubits, J=0.2, h=1.2, alpha=pi / 8)\n",
    "    pauli_terms = sparse_pauli_op.to_list()\n",
    "\n",
    "print(f\"... Hamiltonian name = {hamiltonian_name}\")\n",
    "\n",
    "\n",
    "print(pauli_terms)\n",
    "print(\"\")\n"
   ]
  },
  {
   "cell_type": "markdown",
   "id": "5848a55b-830f-440e-a57a-1b08b0711881",
   "metadata": {},
   "source": [
    "### Create a Hamiltonian Simulation Circuit\n",
    "Initialize the circuit to a known initial state, append 'K' Trotter steps for total time 't', followed by basis rotation gates."
   ]
  },
  {
   "cell_type": "code",
   "execution_count": 25,
   "id": "8ec99e2e-2e87-4555-85a1-d2aeedf0e604",
   "metadata": {},
   "outputs": [
    {
     "name": "stdout",
     "output_type": "stream",
     "text": [
      "... Trotterized Circuit, K=1, t=0.1\n",
      "Sample Circuit:\n",
      "  H = [({0: 'Z', 1: 'Z'}, (1+0j)), ({0: 'Z', 3: 'Z'}, (1+0j)), ({1: 'Z', 2: 'Z'}, (1+0j)), ({3: 'Z', 2: 'Z'}, (1+0j)), ({0: 'X'}, (2+0j)), ({1: 'X'}, (2+0j)), ({3: 'X'}, (2+0j)), ({2: 'X'}, (2+0j))]\n",
      "     ┌────────┐ ░ ┌──────────────┐ ░ \n",
      "q_0: ┤0       ├─░─┤0             ├─░─\n",
      "     │        │ ░ │              │ ░ \n",
      "q_1: ┤1       ├─░─┤1             ├─░─\n",
      "     │  Neele │ ░ │  e^-iHt(0.1) │ ░ \n",
      "q_2: ┤2       ├─░─┤2             ├─░─\n",
      "     │        │ ░ │              │ ░ \n",
      "q_3: ┤3       ├─░─┤3             ├─░─\n",
      "     └────────┘ ░ └──────────────┘ ░ \n",
      "  Initial State Neele:\n",
      "     ┌───┐\n",
      "q_0: ┤ X ├\n",
      "     └───┘\n",
      "q_1: ─────\n",
      "     ┌───┐\n",
      "q_2: ┤ X ├\n",
      "     └───┘\n",
      "q_3: ─────\n",
      "          \n",
      "  Evolution Operator (e^-iHt) =\n",
      "                                               ┌─────────┐\n",
      "q_0: ───────────■─────────────────────■────────┤ Rx(0.4) ├\n",
      "                │                     │ZZ(0.2) ├─────────┤\n",
      "q_1: ───────────┼──────────■──────────■────────┤ Rx(0.4) ├\n",
      "                │          │ZZ(0.2) ┌─────────┐└─────────┘\n",
      "q_2: ─■─────────┼──────────■────────┤ Rx(0.4) ├───────────\n",
      "      │ZZ(0.2)  │ZZ(0.2) ┌─────────┐└─────────┘           \n",
      "q_3: ─■─────────■────────┤ Rx(0.4) ├──────────────────────\n",
      "                         └─────────┘                      \n",
      "\n"
     ]
    }
   ],
   "source": [
    "# create the HamLib Simulation kernel, from the current Hamiltonian.\n",
    "# We use a different method for kernel creation with HamLib than with custom Hamiltonians\n",
    "\n",
    "########### create Trotterized evolution circuit for HamLib Hamiltonians\n",
    "\n",
    "# create Hamiltonian evolution circuit from HamLib\n",
    "if hamiltonian_name != '':\n",
    "    init_state = \"checkerboard\"\n",
    "\n",
    "    qc, bitstring = hamlib_simulation_kernel.HamiltonianSimulation(\n",
    "        num_qubits=num_qubits, \n",
    "        ham_op=sparse_pauli_terms,\n",
    "        K=K, t=t,\n",
    "        init_state = init_state,\n",
    "        append_measurements = False,\n",
    "        method = 1, \n",
    "    )    \n",
    "    \n",
    "########### create Trotterized evolution circuit for custom Hamiltonian\n",
    "else:\n",
    "    #qc = None\n",
    "    qc = QuantumCircuit(num_qubits)\n",
    "\n",
    "print(f\"... Trotterized Circuit, K={K}, t={t}\")\n",
    "if num_qubits < 11:\n",
    "    if hamiltonian_name != '':\n",
    "        hamlib_simulation_kernel.kernel_draw(qc, method=1)\n",
    "    else:\n",
    "        print(qc)\n",
    "else:\n",
    "    print(\"  ... circuit is too large to draw.\")\n",
    "\n",
    "print(\"\")\n"
   ]
  },
  {
   "cell_type": "markdown",
   "id": "a335dc45-eccb-4f9f-be2a-2ed5ff9fb4a9",
   "metadata": {},
   "source": [
    "### Compute Energy of the Hamiltonian - Unoptimized\n",
    "\n",
    "Here, we convert the Hamiltonian to a set of circuits, using commuting groups if specified,\n",
    "and execute the circuits in order to compute the expectation value "
   ]
  },
  {
   "cell_type": "code",
   "execution_count": 26,
   "id": "0607c377-aa64-4fd7-bf3a-9353a823413b",
   "metadata": {},
   "outputs": [
    {
     "name": "stdout",
     "output_type": "stream",
     "text": [
      "\n",
      "************ Compute energy of the Hamiltonian 3 times\n",
      "\n",
      "Total Energy: (-3.41374+0j)\n",
      "Term Contributions: {'ZZII': -0.85024, 'ZIIZ': -0.84854, 'IZZI': -0.85098, 'IIZZ': -0.84814, 'XIII': 0.0001, 'IXII': -0.00526, 'IIIX': -0.0018, 'IIXI': -0.00096}\n",
      "\n",
      "Total Energy: (-3.3604000000000003+0j)\n",
      "Term Contributions: {'ZZII': -0.84708, 'ZIIZ': -0.84792, 'IZZI': -0.84902, 'IIZZ': -0.84922, 'XIII': 0.00318, 'IXII': 0.00454, 'IIIX': 0.00614, 'IIXI': 0.00256}\n",
      "\n",
      "Total Energy: (-3.39506+0j)\n",
      "Term Contributions: {'ZZII': -0.85056, 'ZIIZ': -0.8498, 'IZZI': -0.8488, 'IIZZ': -0.8489, 'XIII': 0.00328, 'IXII': -0.00418, 'IIIX': 0.00136, 'IIXI': 0.00104}\n",
      "\n"
     ]
    }
   ],
   "source": [
    "# Flag to control optimize by use of commuting groups\n",
    "use_commuting_groups = False\n",
    "\n",
    "N = 3\n",
    "print(f\"\\n************ Compute energy of the Hamiltonian {N} times\")\n",
    "\n",
    "# Calculate the total energy\n",
    "for i in range(N):\n",
    "        \n",
    "    # Estimate expectation for the Ham terms using the circuit qc\n",
    "    total_energy, term_contributions = observables.estimate_expectation_value(backend, qc, pauli_terms, \n",
    "                                             use_commuting_groups=use_commuting_groups, num_shots=100000)\n",
    "    print(f\"\\nTotal Energy: {total_energy}\")\n",
    "    print(f\"Term Contributions: {term_contributions}\")\n",
    "    \n",
    "print(\"\")"
   ]
  },
  {
   "cell_type": "markdown",
   "id": "1e2d1d64-b77e-4928-a116-c93dd7ebf0c3",
   "metadata": {},
   "source": [
    "### Compute Energy of the Hamiltonian - Optimized\n",
    "\n",
    "Here, we convert the Hamiltonian to a set of circuits, using commuting groups if specified,\n",
    "and execute the circuits in order to compute the expectation value "
   ]
  },
  {
   "cell_type": "code",
   "execution_count": 5,
   "id": "d9fba694-2d4d-4907-bcb2-a0926b19ceb4",
   "metadata": {},
   "outputs": [
    {
     "name": "stdout",
     "output_type": "stream",
     "text": [
      "\n",
      "************ Compute energy of the Hamiltonian 3 times\n"
     ]
    },
    {
     "ename": "NameError",
     "evalue": "name 'qc' is not defined",
     "output_type": "error",
     "traceback": [
      "\u001b[1;31m---------------------------------------------------------------------------\u001b[0m",
      "\u001b[1;31mNameError\u001b[0m                                 Traceback (most recent call last)",
      "Cell \u001b[1;32mIn[5], line 11\u001b[0m\n\u001b[0;32m      7\u001b[0m \u001b[38;5;66;03m# Calculate the total energy\u001b[39;00m\n\u001b[0;32m      8\u001b[0m \u001b[38;5;28;01mfor\u001b[39;00m i \u001b[38;5;129;01min\u001b[39;00m \u001b[38;5;28mrange\u001b[39m(N):\n\u001b[0;32m      9\u001b[0m         \n\u001b[0;32m     10\u001b[0m     \u001b[38;5;66;03m# Estimate expectation for the Ham terms using the circuit qc\u001b[39;00m\n\u001b[1;32m---> 11\u001b[0m     total_energy, term_contributions \u001b[38;5;241m=\u001b[39m observables\u001b[38;5;241m.\u001b[39mestimate_expectation_value(backend, \u001b[43mqc\u001b[49m, pauli_terms, \n\u001b[0;32m     12\u001b[0m                                              use_commuting_groups\u001b[38;5;241m=\u001b[39muse_commuting_groups, num_shots\u001b[38;5;241m=\u001b[39m\u001b[38;5;241m10000\u001b[39m)\n\u001b[0;32m     13\u001b[0m     \u001b[38;5;28mprint\u001b[39m(\u001b[38;5;124mf\u001b[39m\u001b[38;5;124m\"\u001b[39m\u001b[38;5;130;01m\\n\u001b[39;00m\u001b[38;5;124mTotal Energy: \u001b[39m\u001b[38;5;132;01m{\u001b[39;00mtotal_energy\u001b[38;5;132;01m}\u001b[39;00m\u001b[38;5;124m\"\u001b[39m)\n\u001b[0;32m     14\u001b[0m     \u001b[38;5;28mprint\u001b[39m(\u001b[38;5;124mf\u001b[39m\u001b[38;5;124m\"\u001b[39m\u001b[38;5;124mTerm Contributions: \u001b[39m\u001b[38;5;132;01m{\u001b[39;00mterm_contributions\u001b[38;5;132;01m}\u001b[39;00m\u001b[38;5;124m\"\u001b[39m)\n",
      "\u001b[1;31mNameError\u001b[0m: name 'qc' is not defined"
     ]
    }
   ],
   "source": [
    "# Flag to control optimize by use of commuting groups\n",
    "use_commuting_groups = True\n",
    "\n",
    "N = 3\n",
    "print(f\"\\n************ Compute energy of the Hamiltonian {N} times\")\n",
    "\n",
    "# Calculate the total energy\n",
    "for i in range(N):\n",
    "        \n",
    "    # Estimate expectation for the Ham terms using the circuit qc\n",
    "    total_energy, term_contributions = observables.estimate_expectation_value(backend, qc, pauli_terms, \n",
    "                                             use_commuting_groups=use_commuting_groups, num_shots=10000)\n",
    "    print(f\"\\nTotal Energy: {total_energy}\")\n",
    "    print(f\"Term Contributions: {term_contributions}\")\n",
    "    \n",
    "print(\"\")"
   ]
  },
  {
   "cell_type": "markdown",
   "id": "bf88fc0a-98f4-4278-aa55-3205bba345fa",
   "metadata": {},
   "source": [
    "### Compute expectation value of other observables.\n",
    "Note that this only works for the Ising model."
   ]
  },
  {
   "cell_type": "code",
   "execution_count": 10,
   "id": "6c24ca2a-522f-4902-b488-6393bc61cfd8",
   "metadata": {},
   "outputs": [
    {
     "name": "stdout",
     "output_type": "stream",
     "text": [
      "WARN: term not found in term_contributions: IIIIZZ\n",
      "WARN: term not found in term_contributions: IIIZZI\n",
      "WARN: term not found in term_contributions: IIZZII\n",
      "WARN: term not found in term_contributions: IZZIII\n",
      "WARN: term not found in term_contributions: ZZIIII\n",
      "0.0\n",
      "WARN: term not found in term_contributions: IIIIIZ\n",
      "WARN: term not found in term_contributions: IIIIZI\n",
      "WARN: term not found in term_contributions: IIIZII\n",
      "WARN: term not found in term_contributions: IIZIII\n",
      "WARN: term not found in term_contributions: IZIIII\n",
      "WARN: term not found in term_contributions: ZIIIII\n",
      "0\n"
     ]
    }
   ],
   "source": [
    "# Define additional Hamiltonian terms for other Ising observables \n",
    "H_terms_spin_correlation = observables.swap_pauli_list([(0.2,'IIIIZZ'), (0.2,'IIIZZI'), (0.2,'IIZZII'), (0.2,'IZZIII'), (0.2,'ZZIIII')])\n",
    "H_terms_magnetization = observables.swap_pauli_list([(1,'IIIIIZ'), (1,'IIIIZI'), (1,'IIIZII'), (1,'IIZIII'), (1,'IZIIII'), (1, 'ZIIIII')])\n",
    "\n",
    "spin_correlation = observables.calculate_expectation_from_contributions(term_contributions, H_terms_spin_correlation)\n",
    "print(spin_correlation)\n",
    "\n",
    "magnetization = observables.calculate_expectation_from_contributions(term_contributions, H_terms_magnetization)\n",
    "print(magnetization)\n"
   ]
  },
  {
   "cell_type": "code",
   "execution_count": null,
   "id": "4f7de6f8-64cb-4266-9fc2-633d1d30c092",
   "metadata": {},
   "outputs": [],
   "source": []
  }
 ],
 "metadata": {
  "kernelspec": {
   "display_name": "Python 3 (ipykernel)",
   "language": "python",
   "name": "python3"
  },
  "language_info": {
   "codemirror_mode": {
    "name": "ipython",
    "version": 3
   },
   "file_extension": ".py",
   "mimetype": "text/x-python",
   "name": "python",
   "nbconvert_exporter": "python",
   "pygments_lexer": "ipython3",
   "version": "3.11.5"
  }
 },
 "nbformat": 4,
 "nbformat_minor": 5
}
