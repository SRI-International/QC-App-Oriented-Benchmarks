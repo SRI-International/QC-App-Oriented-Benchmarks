{
 "cells": [
  {
   "cell_type": "markdown",
   "metadata": {
    "tags": [
     "remove_cell"
    ]
   },
   "source": [
    "### QED-C Application-Oriented Benchmarks - Analyze Observable Methods\n",
    "\n",
    "The notebook implements a procedure for analyzing different methods for computing observables.\n",
    "Given a specific problem size (number of qubits), a Hamiltonian, an aboservable method (group_method), and a given total shot count, generate a specified number of random input states, and measure the resulting expectation value, both exactly and computed using the quantum expactation algorithm.\n",
    "\n",
    "Results are plotted and the difference between the exact expectation value at each random input and the computed value is highlighted.\n"
   ]
  },
  {
   "cell_type": "markdown",
   "metadata": {},
   "source": [
    "### Program Configuration"
   ]
  },
  {
   "cell_type": "code",
   "execution_count": 1,
   "metadata": {},
   "outputs": [],
   "source": [
    "# Select the API to use and load the benchmark program\n",
    "api = \"qiskit\"\n",
    "import hamlib_simulation_benchmark\n",
    "\n",
    "# Select the benchmark parameters\n",
    "num_qubits = min_qubits = max_qubits = 8\n",
    "skip_qubits=1\n",
    "max_circuits=1\n",
    "num_shots=10000\n",
    "\n",
    "# Select the backend \n",
    "#backend_id=\"qasm_simulator\"\n",
    "backend_id=\"statevector_simulator\"\n",
    "provider_backend=None\n",
    "exec_options={}\n",
    "\n",
    "#############\n",
    "\n",
    "# place resulting data and images into a folder with \"paper\" suffix\n",
    "import metrics\n",
    "metrics.data_suffix = \"_analysis\"\n",
    "hamlib_simulation_benchmark.data_suffix = \"_analysis\"\n"
   ]
  },
  {
   "cell_type": "code",
   "execution_count": 2,
   "metadata": {},
   "outputs": [],
   "source": [
    "import numpy as np\n",
    "import time\n",
    "\n",
    "# Configure module paths\n",
    "import sys\n",
    "sys.path.insert(1, \"_common\")\n",
    "sys.path.insert(1, \"qiskit\")\n",
    "\n",
    "# Import HamLib helper functions (from _common)\n",
    "import hamlib_utils\n",
    "\n",
    "# Import Hamlib Simulation kernel (from qiskit)\n",
    "import hamlib_simulation_kernel\n",
    "\n",
    "# Import Observable helper functions\n",
    "import observables\n",
    "import evolution_exact\n",
    "\n",
    "verbose = True\n",
    "\n",
    "#### for executing circuits to compute observables ...\n",
    "\n",
    "# Import Qiskit and Qiskit Pauli operator classes\n",
    "#from qiskit.quantum_info import Pauli, SparsePauliOp\n",
    "#from qiskit import QuantumCircuit\n",
    "\n",
    "# Initialize simulator backend\n",
    "#from qiskit_aer import Aer\n",
    "#backend = Aer.get_backend('qasm_simulator')\n"
   ]
  },
  {
   "cell_type": "markdown",
   "metadata": {},
   "source": [
    "### List of Available Hamiltonians and Sizes\n",
    "For the example illustrated below, select one of the available Hamiltonian (name, params, size) tuples.\n"
   ]
  },
  {
   "cell_type": "code",
   "execution_count": 3,
   "metadata": {},
   "outputs": [
    {
     "name": "stdout",
     "output_type": "stream",
     "text": [
      "\n",
      "*******************************************************************************************\n",
      "\n",
      "Analyze Observable Computation Methods for condensedmatter/bosehubbard/BH_D-1_d-4 {'1D-grid': 'nonpbc', 'enc': 'gray', 'U': 10}\n",
      "\n",
      "============================================================\n",
      "\n",
      "Testing expectation grouping method: simple\n",
      "\n"
     ]
    }
   ],
   "source": [
    "# List of HamLib filename and parameter tuples, with max_qubits limit array\n",
    "# Note that the 4th entry in the array is used in the cell below which executes a noisy simulation\n",
    "\n",
    "# DEVNOTE: this notebook does not currently use the last field of the items in this array\n",
    "\n",
    "hamiltonians = [\n",
    "    ('condensedmatter/tfim/tfim', { \"1D-grid\": \"pbc\", \"h\": 2 }, [24,28,28,28, 16] ),\n",
    "    ('condensedmatter/heisenberg/heis', { \"1D-grid\": \"pbc\", \"h\": 2 }, [24,28,28,28, 16] ),\n",
    "    ('condensedmatter/fermihubbard/FH_D-1', { \"1D-grid\": \"pbc\", \"enc\": \"bk\", \"U\":12 }, [20,24,24,24, 14] ),\n",
    "    ('condensedmatter/bosehubbard/BH_D-1_d-4', { \"1D-grid\": \"nonpbc\", \"enc\": \"gray\", \"U\":10 }, [16,24,24,24, 12] ),\n",
    "    ('binaryoptimization/max3sat/random/random_max3sat-hams', { \"ratio\": \"2\", \"rinst\": \"02\" }, [18,28,28,28, 14] ),\n",
    "    ('chemistry/electronic/standard/H2', { \"ham_BK\": \"\" }, [8,12,12,12, 8] )\n",
    "    ]\n",
    "\n",
    "# Select indices of the Hamiltonian(s) to test\n",
    "ham_indexes = range(len(hamiltonians))       # select all\n",
    "#ham_indexes = [2,3]       # select subset, for example 2,3; for quick test, do just one of them\n",
    "\n",
    "# get Hamiltonian name and params from list\n",
    "# Note: we will loop over multiples here later\n",
    "hamiltonian_name, hamiltonian_params, _ = hamiltonians[ 3 ]     # just do TFIM for now\n",
    "\n",
    "###########\n",
    "\n",
    "# list of observable computation methods to sweep\n",
    "group_method_list = [ None, \"simple\", \"N\", \"estimator\" ]\n",
    "\n",
    "# limit testing to simple for now\n",
    "group_method = \"simple\"\n",
    "\n",
    "print(f\"\\n*******************************************************************************************\")\n",
    "\n",
    "print(f\"\\nAnalyze Observable Computation Methods for {hamiltonian_name} {hamiltonian_params}\\n\")\n",
    "\n",
    "# this could be a loop ...\n",
    "\n",
    "print(\"============================================================\\n\")\n",
    "print(f\"Testing expectation grouping method: {group_method}\\n\") \n"
   ]
  },
  {
   "cell_type": "markdown",
   "metadata": {},
   "source": [
    "### Load the Given Hamiltonian to get its Pauli terms"
   ]
  },
  {
   "cell_type": "code",
   "execution_count": 4,
   "metadata": {},
   "outputs": [
    {
     "name": "stdout",
     "output_type": "stream",
     "text": [
      "... dataset_name = bh_graph-1D-grid-nonpbc-qubitnodes_Lx-4_U-10_enc-gray_d-4\n",
      "... sparse_pauli_terms = \n",
      "[({}, (40+0j)), ({0: 'X', 1: 'Z', 2: 'X'}, (-0.24999999999999994+0j)), ({0: 'X', 1: 'Z', 2: 'X', 3: 'Z'}, (0.06698729810778066+0j)), ({0: 'X', 1: 'Z', 2: 'Z', 3: 'X'}, (0.12940952255126037+0j)), ({0: 'X', 1: 'Z', 3: 'X'}, (-0.12940952255126037+0j)), ({0: 'X', 2: 'X'}, (0.9330127018922193+0j)), ({0: 'X', 2: 'X', 3: 'Z'}, (-0.24999999999999994+0j)), ({0: 'X', 2: 'Z', 3: 'X'}, (-0.48296291314453416+0j)), ({0: 'X', 3: 'X'}, (0.48296291314453416+0j)), ({0: 'Y', 1: 'Z', 2: 'Y'}, (-0.24999999999999994+0j)), ({0: 'Y', 1: 'Z', 2: 'Y', 3: 'Z'}, (0.9330127018922193+0j)), ({0: 'Y', 1: 'Z', 2: 'Z', 3: 'Y'}, (-0.48296291314453416+0j)), ({0: 'Y', 1: 'Z', 3: 'Y'}, (0.48296291314453416+0j)), ({0: 'Y', 2: 'Y'}, (0.06698729810778066+0j)), ({0: 'Y', 2: 'Y', 3: 'Z'}, (-0.24999999999999994+0j)), ({0: 'Y', 2: 'Z', 3: 'Y'}, (0.12940952255126037+0j)), ({0: 'Y', 3: 'Y'}, (-0.12940952255126037+0j)), ({0: 'Z'}, (5+0j)), ({0: 'Z', 1: 'X', 2: 'X'}, (-0.48296291314453416+0j)), ({0: 'Z', 1: 'X', 2: 'X', 3: 'Z'}, (0.12940952255126037+0j)), ({0: 'Z', 1: 'X', 2: 'Z', 3: 'X'}, (0.25000000000000006+0j)), ({0: 'Z', 1: 'X', 3: 'X'}, (-0.25000000000000006+0j)), ({0: 'Z', 1: 'Y', 2: 'Y'}, (0.12940952255126037+0j)), ({0: 'Z', 1: 'Y', 2: 'Y', 3: 'Z'}, (-0.48296291314453416+0j)), ({0: 'Z', 1: 'Y', 2: 'Z', 3: 'Y'}, (0.25000000000000006+0j)), ({0: 'Z', 1: 'Y', 3: 'Y'}, (-0.25000000000000006+0j)), ({0: 'Z', 1: 'Z'}, (-5+0j)), ({1: 'X', 2: 'X'}, (0.48296291314453416+0j)), ({1: 'X', 2: 'X', 3: 'Z'}, (-0.12940952255126037+0j)), ({1: 'X', 2: 'Z', 3: 'X'}, (-0.25000000000000006+0j)), ({1: 'X', 3: 'X'}, (0.25000000000000006+0j)), ({1: 'Y', 2: 'Y'}, (-0.12940952255126037+0j)), ({1: 'Y', 2: 'Y', 3: 'Z'}, (0.48296291314453416+0j)), ({1: 'Y', 2: 'Z', 3: 'Y'}, (-0.25000000000000006+0j)), ({1: 'Y', 3: 'Y'}, (0.25000000000000006+0j)), ({1: 'Z'}, (-10+0j)), ({2: 'X', 3: 'Z', 4: 'X'}, (-0.24999999999999994+0j)), ({2: 'X', 3: 'Z', 4: 'X', 5: 'Z'}, (0.06698729810778066+0j)), ({2: 'X', 3: 'Z', 4: 'Z', 5: 'X'}, (0.12940952255126037+0j)), ({2: 'X', 3: 'Z', 5: 'X'}, (-0.12940952255126037+0j)), ({2: 'X', 4: 'X'}, (0.9330127018922193+0j)), ({2: 'X', 4: 'X', 5: 'Z'}, (-0.24999999999999994+0j)), ({2: 'X', 4: 'Z', 5: 'X'}, (-0.48296291314453416+0j)), ({2: 'X', 5: 'X'}, (0.48296291314453416+0j)), ({2: 'Y', 3: 'Z', 4: 'Y'}, (-0.24999999999999994+0j)), ({2: 'Y', 3: 'Z', 4: 'Y', 5: 'Z'}, (0.9330127018922193+0j)), ({2: 'Y', 3: 'Z', 4: 'Z', 5: 'Y'}, (-0.48296291314453416+0j)), ({2: 'Y', 3: 'Z', 5: 'Y'}, (0.48296291314453416+0j)), ({2: 'Y', 4: 'Y'}, (0.06698729810778066+0j)), ({2: 'Y', 4: 'Y', 5: 'Z'}, (-0.24999999999999994+0j)), ({2: 'Y', 4: 'Z', 5: 'Y'}, (0.12940952255126037+0j)), ({2: 'Y', 5: 'Y'}, (-0.12940952255126037+0j)), ({2: 'Z'}, (5+0j)), ({2: 'Z', 3: 'X', 4: 'X'}, (-0.48296291314453416+0j)), ({2: 'Z', 3: 'X', 4: 'X', 5: 'Z'}, (0.12940952255126037+0j)), ({2: 'Z', 3: 'X', 4: 'Z', 5: 'X'}, (0.25000000000000006+0j)), ({2: 'Z', 3: 'X', 5: 'X'}, (-0.25000000000000006+0j)), ({2: 'Z', 3: 'Y', 4: 'Y'}, (0.12940952255126037+0j)), ({2: 'Z', 3: 'Y', 4: 'Y', 5: 'Z'}, (-0.48296291314453416+0j)), ({2: 'Z', 3: 'Y', 4: 'Z', 5: 'Y'}, (0.25000000000000006+0j)), ({2: 'Z', 3: 'Y', 5: 'Y'}, (-0.25000000000000006+0j)), ({2: 'Z', 3: 'Z'}, (-5+0j)), ({3: 'X', 4: 'X'}, (0.48296291314453416+0j)), ({3: 'X', 4: 'X', 5: 'Z'}, (-0.12940952255126037+0j)), ({3: 'X', 4: 'Z', 5: 'X'}, (-0.25000000000000006+0j)), ({3: 'X', 5: 'X'}, (0.25000000000000006+0j)), ({3: 'Y', 4: 'Y'}, (-0.12940952255126037+0j)), ({3: 'Y', 4: 'Y', 5: 'Z'}, (0.48296291314453416+0j)), ({3: 'Y', 4: 'Z', 5: 'Y'}, (-0.25000000000000006+0j)), ({3: 'Y', 5: 'Y'}, (0.25000000000000006+0j)), ({3: 'Z'}, (-10+0j)), ({4: 'X', 5: 'Z', 6: 'X'}, (-0.24999999999999994+0j)), ({4: 'X', 5: 'Z', 6: 'X', 7: 'Z'}, (0.06698729810778066+0j)), ({4: 'X', 5: 'Z', 6: 'Z', 7: 'X'}, (0.12940952255126037+0j)), ({4: 'X', 5: 'Z', 7: 'X'}, (-0.12940952255126037+0j)), ({4: 'X', 6: 'X'}, (0.9330127018922193+0j)), ({4: 'X', 6: 'X', 7: 'Z'}, (-0.24999999999999994+0j)), ({4: 'X', 6: 'Z', 7: 'X'}, (-0.48296291314453416+0j)), ({4: 'X', 7: 'X'}, (0.48296291314453416+0j)), ({4: 'Y', 5: 'Z', 6: 'Y'}, (-0.24999999999999994+0j)), ({4: 'Y', 5: 'Z', 6: 'Y', 7: 'Z'}, (0.9330127018922193+0j)), ({4: 'Y', 5: 'Z', 6: 'Z', 7: 'Y'}, (-0.48296291314453416+0j)), ({4: 'Y', 5: 'Z', 7: 'Y'}, (0.48296291314453416+0j)), ({4: 'Y', 6: 'Y'}, (0.06698729810778066+0j)), ({4: 'Y', 6: 'Y', 7: 'Z'}, (-0.24999999999999994+0j)), ({4: 'Y', 6: 'Z', 7: 'Y'}, (0.12940952255126037+0j)), ({4: 'Y', 7: 'Y'}, (-0.12940952255126037+0j)), ({4: 'Z'}, (5+0j)), ({4: 'Z', 5: 'X', 6: 'X'}, (-0.48296291314453416+0j)), ({4: 'Z', 5: 'X', 6: 'X', 7: 'Z'}, (0.12940952255126037+0j)), ({4: 'Z', 5: 'X', 6: 'Z', 7: 'X'}, (0.25000000000000006+0j)), ({4: 'Z', 5: 'X', 7: 'X'}, (-0.25000000000000006+0j)), ({4: 'Z', 5: 'Y', 6: 'Y'}, (0.12940952255126037+0j)), ({4: 'Z', 5: 'Y', 6: 'Y', 7: 'Z'}, (-0.48296291314453416+0j)), ({4: 'Z', 5: 'Y', 6: 'Z', 7: 'Y'}, (0.25000000000000006+0j)), ({4: 'Z', 5: 'Y', 7: 'Y'}, (-0.25000000000000006+0j)), ({4: 'Z', 5: 'Z'}, (-5+0j)), ({5: 'X', 6: 'X'}, (0.48296291314453416+0j)), ({5: 'X', 6: 'X', 7: 'Z'}, (-0.12940952255126037+0j)), ({5: 'X', 6: 'Z', 7: 'X'}, (-0.25000000000000006+0j)), ({5: 'X', 7: 'X'}, (0.25000000000000006+0j)), ({5: 'Y', 6: 'Y'}, (-0.12940952255126037+0j)), ({5: 'Y', 6: 'Y', 7: 'Z'}, (0.48296291314453416+0j)), ({5: 'Y', 6: 'Z', 7: 'Y'}, (-0.25000000000000006+0j)), ({5: 'Y', 7: 'Y'}, (0.25000000000000006+0j)), ({5: 'Z'}, (-10+0j)), ({6: 'Z'}, (5+0j)), ({6: 'Z', 7: 'Z'}, (-5+0j)), ({7: 'Z'}, (-10+0j))]\n",
      "\n"
     ]
    }
   ],
   "source": [
    "# load the HamLib file for the given hamiltonian name\n",
    "hamlib_utils.load_hamlib_file(filename=hamiltonian_name)\n",
    "\n",
    "# return a sparse Pauli list of terms queried from the open HamLib file\n",
    "sparse_pauli_terms, dataset_name = hamlib_utils.get_hamlib_sparsepaulilist(num_qubits=num_qubits, params=hamiltonian_params)\n",
    "print(f\"... dataset_name = {dataset_name}\")\n",
    "print(f\"... sparse_pauli_terms = \\n{sparse_pauli_terms}\")\n",
    "\n",
    "print(\"\")"
   ]
  },
  {
   "cell_type": "markdown",
   "metadata": {},
   "source": [
    "### Arrange Pauli Terms into Commuting Groups"
   ]
  },
  {
   "cell_type": "code",
   "execution_count": 5,
   "metadata": {},
   "outputs": [
    {
     "name": "stdout",
     "output_type": "stream",
     "text": [
      "\n",
      "... finished grouping terms, total grouping time = 0.003 sec.\n",
      "\n",
      "... Number of groups created: 11\n",
      "... Pauli Term Groups:\n",
      "[('IIIIIIII', (40+0j)), ('XZXIIIII', (-0.24999999999999994+0j)), ('XZXZIIII', (0.06698729810778066+0j)), ('XIXIIIII', (0.9330127018922193+0j)), ('XIXZIIII', (-0.24999999999999994+0j)), ('IZIIIIII', (-10+0j)), ('IIXZXIII', (-0.24999999999999994+0j)), ('IIXZXZII', (0.06698729810778066+0j)), ('IIXIXIII', (0.9330127018922193+0j)), ('IIXIXZII', (-0.24999999999999994+0j)), ('IIIZIIII', (-10+0j)), ('IIIIXZXI', (-0.24999999999999994+0j)), ('IIIIXZXZ', (0.06698729810778066+0j)), ('IIIIXIXI', (0.9330127018922193+0j)), ('IIIIXIXZ', (-0.24999999999999994+0j)), ('IIIIIZII', (-10+0j)), ('IIIIIIIZ', (-10+0j))]\n",
      "[('XZZXIIII', (0.12940952255126037+0j)), ('XZIXIIII', (-0.12940952255126037+0j)), ('XIZXIIII', (-0.48296291314453416+0j)), ('XIIXIIII', (0.48296291314453416+0j)), ('IIZIIIII', (5+0j)), ('IIZXXIII', (-0.48296291314453416+0j)), ('IIZXXZII', (0.12940952255126037+0j)), ('IIIXXIII', (0.48296291314453416+0j)), ('IIIXXZII', (-0.12940952255126037+0j)), ('IIIIXZZX', (0.12940952255126037+0j)), ('IIIIXZIX', (-0.12940952255126037+0j)), ('IIIIXIZX', (-0.48296291314453416+0j)), ('IIIIXIIX', (0.48296291314453416+0j)), ('IIIIIIZI', (5+0j))]\n",
      "[('YZYIIIII', (-0.24999999999999994+0j)), ('YZYZIIII', (0.9330127018922193+0j)), ('YIYIIIII', (0.06698729810778066+0j)), ('YIYZIIII', (-0.24999999999999994+0j)), ('IIYZYIII', (-0.24999999999999994+0j)), ('IIYZYZII', (0.9330127018922193+0j)), ('IIYIYIII', (0.06698729810778066+0j)), ('IIYIYZII', (-0.24999999999999994+0j)), ('IIIIYZYI', (-0.24999999999999994+0j)), ('IIIIYZYZ', (0.9330127018922193+0j)), ('IIIIYIYI', (0.06698729810778066+0j)), ('IIIIYIYZ', (-0.24999999999999994+0j))]\n",
      "[('YZZYIIII', (-0.48296291314453416+0j)), ('YZIYIIII', (0.48296291314453416+0j)), ('YIZYIIII', (0.12940952255126037+0j)), ('YIIYIIII', (-0.12940952255126037+0j)), ('IIZYYIII', (0.12940952255126037+0j)), ('IIZYYZII', (-0.48296291314453416+0j)), ('IIIYYIII', (-0.12940952255126037+0j)), ('IIIYYZII', (0.48296291314453416+0j)), ('IIIIYZZY', (-0.48296291314453416+0j)), ('IIIIYZIY', (0.48296291314453416+0j)), ('IIIIYIZY', (0.12940952255126037+0j)), ('IIIIYIIY', (-0.12940952255126037+0j))]\n",
      "[('ZIIIIIII', (5+0j)), ('ZXXIIIII', (-0.48296291314453416+0j)), ('ZXXZIIII', (0.12940952255126037+0j)), ('IXXIIIII', (0.48296291314453416+0j)), ('IXXZIIII', (-0.12940952255126037+0j)), ('IIXZZXII', (0.12940952255126037+0j)), ('IIXZIXII', (-0.12940952255126037+0j)), ('IIXIZXII', (-0.48296291314453416+0j)), ('IIXIIXII', (0.48296291314453416+0j)), ('IIIIZIII', (5+0j)), ('IIIIZXXI', (-0.48296291314453416+0j)), ('IIIIZXXZ', (0.12940952255126037+0j)), ('IIIIIXXI', (0.48296291314453416+0j)), ('IIIIIXXZ', (-0.12940952255126037+0j))]\n",
      "[('ZXZXIIII', (0.25000000000000006+0j)), ('ZXIXIIII', (-0.25000000000000006+0j)), ('IXZXIIII', (-0.25000000000000006+0j)), ('IXIXIIII', (0.25000000000000006+0j)), ('IIZXZXII', (0.25000000000000006+0j)), ('IIZXIXII', (-0.25000000000000006+0j)), ('IIIXZXII', (-0.25000000000000006+0j)), ('IIIXIXII', (0.25000000000000006+0j)), ('IIIIZXZX', (0.25000000000000006+0j)), ('IIIIZXIX', (-0.25000000000000006+0j)), ('IIIIIXZX', (-0.25000000000000006+0j)), ('IIIIIXIX', (0.25000000000000006+0j))]\n",
      "[('ZYYIIIII', (0.12940952255126037+0j)), ('IIIYZYII', (-0.25000000000000006+0j)), ('IIIYIYII', (0.25000000000000006+0j)), ('ZYIYIIII', (-0.25000000000000006+0j)), ('IIIIZYYI', (0.12940952255126037+0j)), ('IIIIZYYZ', (-0.48296291314453416+0j)), ('IYYIIIII', (-0.12940952255126037+0j)), ('IYIYIIII', (0.25000000000000006+0j)), ('IIIIIYYI', (-0.12940952255126037+0j)), ('IIIIIYYZ', (0.48296291314453416+0j)), ('IIYIZYII', (0.12940952255126037+0j)), ('IIYIIYII', (-0.12940952255126037+0j))]\n",
      "[('ZYYZIIII', (-0.48296291314453416+0j)), ('IYYZIIII', (0.48296291314453416+0j)), ('IIIIZZII', (-5+0j)), ('IIIIIIZZ', (-5+0j))]\n",
      "[('ZYZYIIII', (0.25000000000000006+0j)), ('IYZYIIII', (-0.25000000000000006+0j)), ('IIIIIYZY', (-0.25000000000000006+0j)), ('IIIIIYIY', (0.25000000000000006+0j)), ('IIZYZYII', (0.25000000000000006+0j)), ('IIZYIYII', (-0.25000000000000006+0j)), ('IIIIZYZY', (0.25000000000000006+0j)), ('IIIIZYIY', (-0.25000000000000006+0j))]\n",
      "[('ZZIIIIII', (-5+0j)), ('IIZZIIII', (-5+0j))]\n",
      "[('IIYZZYII', (-0.48296291314453416+0j)), ('IIYZIYII', (0.48296291314453416+0j))]\n"
     ]
    }
   ],
   "source": [
    "# Arrange the Pauli terms into commuting groups based on group_method, for use in cells below\n",
    "pauli_term_groups, pauli_str_list = hamlib_simulation_benchmark.find_pauli_groups(num_qubits, sparse_pauli_terms, group_method)\n",
    "\n",
    "print(f\"... Number of groups created: {len(pauli_term_groups)}\")\n",
    "print(f\"... Pauli Term Groups:\")\n",
    "for group in pauli_term_groups:\n",
    "    print(group)\n",
    "        "
   ]
  },
  {
   "cell_type": "markdown",
   "metadata": {},
   "source": [
    "### Ansatz Definition - Suitable Quantum Circuit for Initial State\n",
    "Select the type of ansatz circuit to use\n",
    "\n",
    "DEVNOTE: this analysis does not currently use the ansatz, but it will later.\n"
   ]
  },
  {
   "cell_type": "code",
   "execution_count": 6,
   "metadata": {},
   "outputs": [
    {
     "name": "stdout",
     "output_type": "stream",
     "text": [
      "[ 0.307  1.352  0.646  0.282 -0.48   0.917 -0.392  2.462  2.913 -0.732\n",
      "  1.833  0.182  0.428  2.674 -2.695 -2.594 -3.015  2.09   1.748  2.325\n",
      "  3.007  1.88  -0.242  1.763 -2.398  0.879 -2.241  2.794  0.137 -0.536\n",
      " -1.479  1.723 -0.276  0.43  -3.024  0.739  0.704  0.735  2.788  1.142\n",
      " -0.883 -0.396  1.242 -2.763  1.048  1.072 -1.82  -2.332 -1.16  -0.856\n",
      "  0.441 -0.386  3.069 -2.5   -1.829 -2.128  0.962 -1.55  -0.212 -1.606\n",
      " -2.143 -2.448  0.982 -2.273]\n",
      "      ┌────────────┐  ┌────────────┐                                    »\n",
      "q_0: ─┤ Ry(0.3067) ├──┤ Rz(2.9133) ├────────────────────────────────────»\n",
      "      ├────────────┤ ┌┴────────────┴┐                                   »\n",
      "q_1: ─┤ Ry(1.3521) ├─┤ Rz(-0.73236) ├───────────────────────────────────»\n",
      "     ┌┴────────────┤ └┬───────────┬─┘                                   »\n",
      "q_2: ┤ Ry(0.64568) ├──┤ Rz(1.833) ├─────────────────────────────────────»\n",
      "     ├─────────────┤ ┌┴───────────┴┐                                    »\n",
      "q_3: ┤ Ry(0.28201) ├─┤ Rz(0.18155) ├────────────────────────────────────»\n",
      "     ├─────────────┴┐├─────────────┤                                    »\n",
      "q_4: ┤ Ry(-0.47969) ├┤ Rz(0.42754) ├───────────────────────────■────────»\n",
      "     ├─────────────┬┘└┬────────────┤                         ┌─┴─┐      »\n",
      "q_5: ┤ Ry(0.91668) ├──┤ Rz(2.6741) ├────────────■────────────┤ X ├──────»\n",
      "     ├─────────────┴┐┌┴────────────┤          ┌─┴─┐     ┌────┴───┴─────┐»\n",
      "q_6: ┤ Ry(-0.39215) ├┤ Rz(-2.6953) ├───■──────┤ X ├─────┤ Ry(-0.24203) ├»\n",
      "     └┬────────────┬┘├─────────────┤ ┌─┴─┐┌───┴───┴────┐└┬────────────┬┘»\n",
      "q_7: ─┤ Ry(2.4616) ├─┤ Rz(-2.5941) ├─┤ X ├┤ Ry(1.7626) ├─┤ Rz(1.7231) ├─»\n",
      "      └────────────┘ └─────────────┘ └───┘└────────────┘ └────────────┘ »\n",
      "«                                                                  »\n",
      "«q_0: ─────────────────────────────────────────────────────■───────»\n",
      "«                                                        ┌─┴─┐     »\n",
      "«q_1: ──────────────────────────────────────■────────────┤ X ├─────»\n",
      "«                                         ┌─┴─┐      ┌───┴───┴────┐»\n",
      "«q_2: ──────────────────────■─────────────┤ X ├──────┤ Ry(1.7477) ├»\n",
      "«                         ┌─┴─┐       ┌───┴───┴────┐ ├────────────┤»\n",
      "«q_3: ───────■────────────┤ X ├───────┤ Ry(2.3249) ├─┤ Rz(2.7939) ├»\n",
      "«          ┌─┴─┐      ┌───┴───┴────┐ ┌┴────────────┤ └────────────┘»\n",
      "«q_4: ─────┤ X ├──────┤ Ry(3.0072) ├─┤ Rz(0.13728) ├───────■───────»\n",
      "«      ┌───┴───┴────┐┌┴────────────┴┐└─────────────┘     ┌─┴─┐     »\n",
      "«q_5: ─┤ Ry(1.8797) ├┤ Rz(-0.53619) ├───────■────────────┤ X ├─────»\n",
      "«     ┌┴────────────┤└──────────────┘     ┌─┴─┐      ┌───┴───┴────┐»\n",
      "«q_6: ┤ Rz(-1.4793) ├───────■─────────────┤ X ├──────┤ Ry(2.7882) ├»\n",
      "«     └─────────────┘     ┌─┴─┐       ┌───┴───┴────┐┌┴────────────┤»\n",
      "«q_7: ────────────────────┤ X ├───────┤ Ry(1.1424) ├┤ Rz(-2.3315) ├»\n",
      "«                         └───┘       └────────────┘└─────────────┘»\n",
      "«     ┌─────────────┐┌─────────────┐                              »\n",
      "«q_0: ┤ Ry(-3.0146) ├┤ Rz(-2.3985) ├──────────────────────■───────»\n",
      "«     └┬────────────┤├─────────────┤                    ┌─┴─┐     »\n",
      "«q_1: ─┤ Ry(2.0899) ├┤ Rz(0.87915) ├───────■────────────┤ X ├─────»\n",
      "«     ┌┴────────────┤└─────────────┘     ┌─┴─┐     ┌────┴───┴────┐»\n",
      "«q_2: ┤ Rz(-2.2409) ├───────■────────────┤ X ├─────┤ Ry(-3.0235) ├»\n",
      "«     └─────────────┘     ┌─┴─┐     ┌────┴───┴────┐├─────────────┤»\n",
      "«q_3: ───────■────────────┤ X ├─────┤ Ry(0.73913) ├┤ Rz(-2.7632) ├»\n",
      "«          ┌─┴─┐     ┌────┴───┴────┐└┬────────────┤└─────────────┘»\n",
      "«q_4: ─────┤ X ├─────┤ Ry(0.70432) ├─┤ Rz(1.0478) ├───────■───────»\n",
      "«     ┌────┴───┴────┐└┬────────────┤ └────────────┘     ┌─┴─┐     »\n",
      "«q_5: ┤ Ry(0.73472) ├─┤ Rz(1.0721) ├───────■────────────┤ X ├─────»\n",
      "«     ├─────────────┤ └────────────┘     ┌─┴─┐     ┌────┴───┴────┐»\n",
      "«q_6: ┤ Rz(-1.8197) ├───────■────────────┤ X ├─────┤ Ry(-1.8292) ├»\n",
      "«     └─────────────┘     ┌─┴─┐     ┌────┴───┴────┐├─────────────┤»\n",
      "«q_7: ────────────────────┤ X ├─────┤ Ry(-2.1281) ├┤ Rz(-2.2734) ├»\n",
      "«                         └───┘     └─────────────┘└─────────────┘»\n",
      "«     ┌──────────────┐┌──────────────┐                               »\n",
      "«q_0: ┤ Ry(-0.27552) ├┤ Rz(-0.88274) ├───────────────────────■───────»\n",
      "«     ├─────────────┬┘├──────────────┤                     ┌─┴─┐     »\n",
      "«q_1: ┤ Ry(0.42998) ├─┤ Rz(-0.39564) ├───────■─────────────┤ X ├─────»\n",
      "«     └┬────────────┤ └──────────────┘     ┌─┴─┐      ┌────┴───┴────┐»\n",
      "«q_2: ─┤ Rz(1.2418) ├────────■─────────────┤ X ├──────┤ Ry(0.44106) ├»\n",
      "«      └────────────┘      ┌─┴─┐      ┌────┴───┴─────┐├─────────────┤»\n",
      "«q_3: ───────■─────────────┤ X ├──────┤ Ry(-0.38578) ├┤ Rz(-1.6058) ├»\n",
      "«          ┌─┴─┐       ┌───┴───┴────┐ ├─────────────┬┘└─────────────┘»\n",
      "«q_4: ─────┤ X ├───────┤ Ry(3.0685) ├─┤ Rz(-2.1428) ├────────────────»\n",
      "«     ┌────┴───┴────┐ ┌┴────────────┤ └─────────────┘                »\n",
      "«q_5: ┤ Ry(-2.5004) ├─┤ Rz(-2.4481) ├────────────────────────────────»\n",
      "«     ├─────────────┤ └─────────────┘                                »\n",
      "«q_6: ┤ Rz(0.98225) ├────────────────────────────────────────────────»\n",
      "«     └─────────────┘                                                »\n",
      "«q_7: ───────────────────────────────────────────────────────────────»\n",
      "«                                                                    »\n",
      "«     ┌─────────────┐ ┌─────────────┐ ░ \n",
      "«q_0: ┤ Ry(-1.1597) ├─┤ Rz(0.96201) ├─░─\n",
      "«     ├─────────────┴┐├─────────────┤ ░ \n",
      "«q_1: ┤ Ry(-0.85633) ├┤ Rz(-1.5501) ├─░─\n",
      "«     ├──────────────┤└─────────────┘ ░ \n",
      "«q_2: ┤ Rz(-0.21168) ├────────────────░─\n",
      "«     └──────────────┘                ░ \n",
      "«q_3: ────────────────────────────────░─\n",
      "«                                     ░ \n",
      "«q_4: ────────────────────────────────░─\n",
      "«                                     ░ \n",
      "«q_5: ────────────────────────────────░─\n",
      "«                                     ░ \n",
      "«q_6: ────────────────────────────────░─\n",
      "«                                     ░ \n",
      "«q_7: ────────────────────────────────░─\n",
      "«                                     ░ \n"
     ]
    }
   ],
   "source": [
    "import numpy as np\n",
    "from qiskit.circuit.library import EfficientSU2\n",
    "from qiskit import QuantumCircuit\n",
    "\n",
    "def get_ansatz(num_qubits, params):\n",
    "    ansatz = EfficientSU2(num_qubits).decompose()\n",
    "    ansatz.barrier()\n",
    "\n",
    "    params_dict = {p: params[i] for i, p in enumerate(ansatz.parameters)}\n",
    "\n",
    "    # Use assign_parameters instead of bind_parameters\n",
    "    ansatz = ansatz.assign_parameters(params_dict)\n",
    "    \n",
    "    return ansatz\n",
    "\n",
    "# Create the ansatz\n",
    "ansatz = EfficientSU2(num_qubits)\n",
    "\n",
    "num_params = ansatz.num_parameters\n",
    "\n",
    "# Generate initial parameters with correct length\n",
    "initial_params = np.random.uniform(-np.pi, np.pi, ansatz.num_parameters)\n",
    "print(initial_params)\n",
    "\n",
    "# Get the ansatz circuit\n",
    "ansatz_circuit = get_ansatz(num_qubits, initial_params)\n",
    "print(ansatz_circuit)\n"
   ]
  },
  {
   "cell_type": "markdown",
   "metadata": {},
   "source": [
    "### Create Measurement Circuits from Base Circuit and Pauli Terms\n",
    "Here, we append basis rotation gates for each Pauli Term group to the base evolution circuit to create an array of circuits for execution."
   ]
  },
  {
   "cell_type": "code",
   "execution_count": 7,
   "metadata": {},
   "outputs": [],
   "source": [
    "# generate an array of circuits, one for each pauli_string in list\n",
    "def create_measurement_circuts(qc, num_qubits, pauli_term_groups, pauli_str_list):\n",
    "    ts = time.time()\n",
    "    \n",
    "    circuits = hamlib_simulation_kernel.create_circuits_for_pauli_terms(qc, num_qubits, pauli_str_list)\n",
    "    \"\"\"\n",
    "    print(f\"... Appended {len(circuits)} circuits, one for each group:\")               \n",
    "    for circuit, group in list(zip(circuits, pauli_term_groups)):\n",
    "        print(group)\n",
    "        #print(circuit)\n",
    "    \"\"\"\n",
    "    append_time = round(time.time()-ts, 3)\n",
    "    ###print(f\"\\n... finished appending {len(circuits)} measurement circuits, total creating time = {append_time} sec.\\n\")\n",
    "\n",
    "    return circuits\n"
   ]
  },
  {
   "cell_type": "code",
   "execution_count": 8,
   "metadata": {},
   "outputs": [],
   "source": [
    "def do_execute(circuits, num_shots):\n",
    "    \n",
    "    # Initialize simulator backend\n",
    "    from qiskit_aer import Aer\n",
    "    backend = Aer.get_backend('qasm_simulator')\n",
    "    #backend = Aer.get_backend('statevector_simulator')     # doesn't work, only returns 1 shot\n",
    "    \n",
    "    ### print(f\"... begin executing {len(circuits)} circuits ...\")\n",
    "    ts = time.time()\n",
    "    \n",
    "    # Execute all of the circuits to obtain array of result objects\n",
    "    results = backend.run(circuits, num_shots=num_shots).result()\n",
    "\n",
    "    #for ca in results.get_counts():\n",
    "    #    print(ca)\n",
    "    \n",
    "    exec_time = round(time.time()-ts, 3)\n",
    "    ###print(f\"... finished executing {len(circuits)} circuits, total execution time = {exec_time} sec.\\n\")\n",
    "\n",
    "    return results\n"
   ]
  },
  {
   "cell_type": "code",
   "execution_count": 9,
   "metadata": {},
   "outputs": [],
   "source": [
    "# Compute the total energy for the Hamiltonian\n",
    "def compute_energy(num_qubits, results, pauli_term_groups):\n",
    "\n",
    "    ###print(f\"... begin computing observable value ...\")\n",
    "    ts = time.time()\n",
    "    \n",
    "    total_energy, term_contributions = observables.calculate_expectation_from_measurements(\n",
    "                                                num_qubits, results, pauli_term_groups)\n",
    "    obs_time = round(time.time()-ts, 3)\n",
    "    ###print(f\"... finished computing observable value, computation time = {obs_time} sec.\\n\")\n",
    "    \n",
    "    #print(f\"    Total Energy: {round(np.real(total_energy), 4)}\")\n",
    "    ### print(f\"    Term Contributions: {term_contributions}\\n\")\n",
    "\n",
    "    create_time = 0\n",
    "    group_time = 0\n",
    "    append_time = 0\n",
    "    exec_time = 0\n",
    "    \n",
    "    total_time = group_time + create_time + append_time + exec_time + obs_time\n",
    "    total_time = round(total_time, 3)\n",
    "    ###print(f\"\\n... total observable computation time = {total_time} sec.\\n\")\n",
    "    \n",
    "    return total_energy\n"
   ]
  },
  {
   "cell_type": "code",
   "execution_count": 10,
   "metadata": {},
   "outputs": [],
   "source": [
    "import random\n",
    "\n",
    "def generate_random_int_and_bitstring(N):\n",
    "    \"\"\"\n",
    "    Generates a random bitstring representing an integer from 0 to N-1,\n",
    "    where N is a power of 2.\n",
    "\n",
    "    Args:\n",
    "        N (int): The upper bound (exclusive), must be a power of 2.\n",
    "\n",
    "    Returns:\n",
    "        str: A random bitstring representation of an integer in range [0, N-1].\n",
    "    \"\"\"\n",
    "    if N <= 0 or (N & (N - 1)) != 0:\n",
    "        raise ValueError(\"N must be a power of 2.\")\n",
    "\n",
    "    num_bits = N.bit_length() - 1  # Determine the number of bits needed\n",
    "    random_number = random.randint(0, N - 1)  # Pick a random number in range [0, N-1]\n",
    "    \n",
    "    return random_number, format(random_number, f'0{num_bits}b')  # Convert to bitstring with leading zeros\n"
   ]
  },
  {
   "cell_type": "markdown",
   "metadata": {},
   "source": [
    "### Generate N Random Input States and Collect Data about Computation of Observable (Energy)\n"
   ]
  },
  {
   "cell_type": "code",
   "execution_count": 11,
   "metadata": {},
   "outputs": [
    {
     "name": "stdout",
     "output_type": "stream",
     "text": [
      "... executing on num_qubits = 8\n",
      "....................................................................................................\n",
      "[220, 196, 74, 193, 136, 68, 99, 154, 108, 123, 177, 161, 229, 235, 228, 19, 26, 252, 35, 221, 114, 235, 185, 245, 104, 37, 89, 217, 84, 67, 250, 120, 141, 211, 23, 236, 73, 2, 108, 151, 148, 254, 84, 122, 245, 46, 43, 162, 22, 10, 112, 37, 36, 207, 32, 229, 64, 46, 101, 116, 114, 109, 208, 142, 72, 197, 223, 217, 73, 161, 44, 44, 76, 218, 52, 56, 97, 67, 87, 18, 7, 39, 47, 149, 163, 75, 13, 24, 149, 43, 25, 8, 246, 108, 238, 41, 215, 120, 112, 137]\n",
      "[50.07574221884191, 40.01351100523465, 29.995626363078728, 40.03854437819933, -0.02025368055324408, 60.09979589613921, 40.06235350426415, 30.27662806008933, 39.99117815586759, 50.132103441493896, 39.97537099708847, 30.045688307451805, 70.10184826017233, 19.765657873399128, 40.05362404075751, 39.98696370673999, 29.963672903498278, 29.896586653480632, 9.912139546061752, 79.8928255481274, 40.04507020094254, 19.88307975471799, 40.0750723402591, 79.92127510508868, 30.089215779939753, 60.07002421916957, 90.15425953131185, 70.0741701083715, 89.893592261497, 40.13689578343596, 19.99540728568094, 40.03500471738161, 40.064089989206465, 49.70593777911951, 69.86514743748437, 20.09668887936752, 60.06338794150045, -0.0008090108640086413, 40.18186261609897, 69.83021284173267, 59.92125225624133, 29.878200475843954, 90.13509740816616, 39.944651002774656, 79.91877328124045, 9.865744553269952, 10.09780981226129, 0.05947534825222078, 59.8593122978522, 0.010830108739778216, 39.952811195901816, 59.83920672433696, 30.024880844267216, 29.987536844882335, 0.07282084228019947, 70.18966019462009, 29.994504948202092, 9.89345090050363, 90.14606377887843, 70.09399288213473, 39.98714073809771, 70.22404141813381, 39.98840035639702, 10.219081277941836, 30.021090283532523, 70.00677758400441, 60.15552313638298, 69.89872427991166, 60.03459907718556, 30.059407022650305, 10.099341932500394, 10.00118893521002, 39.91061440883095, 40.11410159310824, 39.98177658665219, 10.06148380150939, 59.94604258314902, 39.93054148779626, 99.74888044121147, 30.0723121573321, 39.97483850409731, 39.93687441731498, 19.98987482100346, 89.94702254171771, 9.945424277713304, 39.78153463758183, 39.84186308483611, 30.070815278497953, 90.10785602655932, 10.040988757497175, 60.010174658926964, 0.036177659312596186, 49.94577288962141, 39.906419727202405, 20.026647738060433, 29.983379200078023, 79.984920225965, 39.898992806324515, 40.12478042721365, 29.993998901032768]\n"
     ]
    }
   ],
   "source": [
    "# Number of iterations performed with randome initialization\n",
    "iterations = 100\n",
    "count = 0\n",
    "\n",
    "tracker_style = 1     # controls style of output printed each iteration - 1 - dots, 2 - detailed\n",
    "\n",
    "print(f\"... executing on num_qubits = {num_qubits}\")\n",
    "N = 2 ** num_qubits\n",
    "\n",
    "# create arrays to hold metrics\n",
    "init_values = []\n",
    "exact_energies = []\n",
    "computed_energies = []\n",
    "\n",
    "# For each iteration, generate random input, compute observable, and store data\n",
    "for it in range(iterations):\n",
    "    global count\n",
    "    count += 1\n",
    "\n",
    "    #print(f\"... doing iteration {it}\")\n",
    "\n",
    "    \"\"\"\n",
    "    # Create a quantum ansatz circuit with the given parameters (update later to use Parameter)\n",
    "    qc = get_ansatz(num_qubits, params)  \n",
    "    #print(qc)\n",
    "    \"\"\"\n",
    "    init_value, init_state = generate_random_int_and_bitstring(N)\n",
    "    #print(init_state)\n",
    "    init_values.append(init_value)\n",
    "\n",
    "    # create Trotterized evolution circuit for HamLib Hamiltonian\n",
    "    ts = time.time()\n",
    "    qc, _ = hamlib_simulation_kernel.HamiltonianSimulation(\n",
    "        num_qubits=num_qubits, \n",
    "        #ham_op=sparse_pauli_terms,\n",
    "        K = 0, t = 0.0,\n",
    "        init_state = init_state,\n",
    "        append_measurements = False,\n",
    "        method = 1, \n",
    "    )\n",
    "\n",
    "    create_time = round(time.time()-ts, 3)\n",
    "    #print(f\"\\n... finished creating base circuit, total creation time = {create_time} sec.\\n\")\n",
    "\n",
    "    #print(qc)\n",
    "    \n",
    "    # Append measurement circuits for each term group and return an array of circuits\n",
    "    circuits = create_measurement_circuts(qc, num_qubits, pauli_term_groups, pauli_str_list)\n",
    "\n",
    "\n",
    "    #for c in circuits:\n",
    "    #    print(c)\n",
    "\n",
    "    \n",
    "    results = do_execute(circuits, num_shots)\n",
    "\n",
    "    energy = compute_energy(num_qubits, results, pauli_term_groups)\n",
    "    energy = np.real(energy)\n",
    "\n",
    "    computed_energies.append(energy)\n",
    "    \n",
    "    # print important data at each iteration (the cost and the associated parameter values)\n",
    "    if tracker_style > 1:\n",
    "        print(f\"  {count:3} \\t{energy: <7.5}  \\t{[round(params[i], 4) for i in range(len(params))]} \")\n",
    "    else:\n",
    "        print(\".\", end='')\n",
    "        \n",
    "    \"\"\"   \n",
    "    \"\"\"\n",
    "\n",
    "print(\"\")\n",
    "print(init_values)\n",
    "print(computed_energies)\n"
   ]
  },
  {
   "cell_type": "code",
   "execution_count": null,
   "metadata": {},
   "outputs": [],
   "source": []
  },
  {
   "cell_type": "code",
   "execution_count": 12,
   "metadata": {},
   "outputs": [
    {
     "data": {
      "image/png": "[encoded data removed]",
      "text/plain": [
       "<Figure size 800x500 with 1 Axes>"
      ]
     },
     "metadata": {},
     "output_type": "display_data"
    }
   ],
   "source": [
    "import matplotlib.pyplot as plt\n",
    "\n",
    "def plot_scatter(x_values, y_values):\n",
    "    \"\"\"\n",
    "    Plots a scatter plot with x_values on the x-axis and y_values on the y-axis.\n",
    "\n",
    "    Args:\n",
    "        x_values (list or array): Values for the x-axis.\n",
    "        y_values (list or array): Values for the y-axis.\n",
    "    \"\"\"\n",
    "    if len(x_values) != len(y_values):\n",
    "        raise ValueError(\"Both input arrays must have the same length.\")\n",
    "\n",
    "    plt.figure(figsize=(8, 5))  # Set figure size\n",
    "    plt.scatter(x_values, y_values, color='blue', alpha=0.7, edgecolors='black')\n",
    "\n",
    "    plt.xlabel(\"X Values\")\n",
    "    plt.ylabel(\"Y Values\")\n",
    "    plt.title(\"Scatter Plot of X vs Y\")\n",
    "    plt.grid(True)\n",
    "\n",
    "    plt.show()\n",
    "\n",
    "# plot the data we collected\n",
    "plot_scatter(init_values, computed_energies)\n"
   ]
  },
  {
   "cell_type": "code",
   "execution_count": 13,
   "metadata": {},
   "outputs": [
    {
     "data": {
      "image/png": "[encoded data removed]",
      "text/plain": [
       "<Figure size 800x500 with 1 Axes>"
      ]
     },
     "metadata": {},
     "output_type": "display_data"
    }
   ],
   "source": [
    "import matplotlib.pyplot as plt\n",
    "from collections import Counter\n",
    "\n",
    "def plot_value_counts(x_values):\n",
    "    \"\"\"\n",
    "    Plots a scatter plot where the x-axis represents unique values from x_values,\n",
    "    and the y-axis represents their frequency (number of occurrences).\n",
    "\n",
    "    Args:\n",
    "        x_values (list or array): Values for the x-axis.\n",
    "    \"\"\"\n",
    "    # Count occurrences of each unique value\n",
    "    value_counts = Counter(x_values)\n",
    "\n",
    "    # Extract unique values and their counts\n",
    "    unique_x = list(value_counts.keys())\n",
    "    counts = list(value_counts.values())\n",
    "\n",
    "    # Create scatter plot\n",
    "    plt.figure(figsize=(8, 5))\n",
    "    plt.scatter(unique_x, counts, color='blue', alpha=0.7, edgecolors='black')\n",
    "\n",
    "    # Labels and title\n",
    "    plt.xlabel(\"Unique Values\")\n",
    "    plt.ylabel(\"Frequency\")\n",
    "    plt.title(\"Scatter Plot of Value Counts\")\n",
    "    plt.grid(True)\n",
    "\n",
    "    plt.show()\n",
    "\n",
    "plot_value_counts(computed_energies)\n"
   ]
  },
  {
   "cell_type": "code",
   "execution_count": null,
   "metadata": {},
   "outputs": [],
   "source": []
  },
  {
   "cell_type": "code",
   "execution_count": null,
   "metadata": {},
   "outputs": [],
   "source": []
  }
 ],
 "metadata": {
  "kernelspec": {
   "display_name": "qiskit-test-1.2",
   "language": "python",
   "name": "qiskit-test-1.2"
  },
  "language_info": {
   "codemirror_mode": {
    "name": "ipython",
    "version": 3
   },
   "file_extension": ".py",
   "mimetype": "text/x-python",
   "name": "python",
   "nbconvert_exporter": "python",
   "pygments_lexer": "ipython3",
   "version": "3.11.5"
  }
 },
 "nbformat": 4,
 "nbformat_minor": 4
}
