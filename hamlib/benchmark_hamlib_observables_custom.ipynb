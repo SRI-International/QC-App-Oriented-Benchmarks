{
 "cells": [
  {
   "cell_type": "markdown",
   "metadata": {},
   "source": [
    "### QED-C Application-Oriented Benchmarks - Hamiltonian Simulation with HamLib - Observables (Customizable)\n",
    "\n",
    "The notebook contains specific examples for the HamLib-based Hamiltonian Simulation benchmark program.\n",
    "Configure and run the cell below with the desired execution settings.\n",
    "Then configure and run the remaining cell(s), each one a variation of this benchmark.\n",
    "\n",
    "Note: This set of benchmarks surfaces the series of second-level functions used to benchmark HamLib observables.\n",
    "This is a WORK-IN-PROGRESS and is provided to enable experimentation with alternative techniques for computing observables.\n"
   ]
  },
  {
   "cell_type": "code",
   "execution_count": 1,
   "metadata": {},
   "outputs": [],
   "source": [
    "%reload_ext autoreload\n",
    "%autoreload 2"
   ]
  },
  {
   "cell_type": "code",
   "execution_count": 2,
   "metadata": {},
   "outputs": [
    {
     "name": "stdout",
     "output_type": "stream",
     "text": [
      "WARNING: Qiskit-dependent exact evolution functions are not available\n"
     ]
    }
   ],
   "source": [
    "import numpy as np\n",
    "import time\n",
    "\n",
    "# Configure module paths\n",
    "import sys\n",
    "sys.path.insert(1, \"_common\")\n",
    "sys.path.insert(1, \"qiskit\")\n",
    "\n",
    "# Import HamLib and observable helper functions (from _common)\n",
    "import hamlib_utils, observables, evolution_exact\n",
    "\n",
    "# Import Hamlib Simulation kernel (from qiskit)\n",
    "import hamlib_simulation_kernel\n"
   ]
  },
  {
   "cell_type": "markdown",
   "metadata": {},
   "source": [
    "### Configure Options for Execution"
   ]
  },
  {
   "cell_type": "code",
   "execution_count": 3,
   "metadata": {},
   "outputs": [],
   "source": [
    "# Qubit width of the Hamiltonian\n",
    "num_qubits = 6\n",
    "\n",
    "# Number of shots used for execution\n",
    "num_shots = 10000\n",
    "\n",
    "# Parameters of Trotterized simulation\n",
    "K = 1\n",
    "t = 0.1\n",
    "\n",
    "# Define initial state; \"checkerboard\", \"neele\", \"ghz\", or a string consisting of 0s and 1s\n",
    "init_state = \"checkerboard\"\n",
    "\n",
    "# arrange Hamiltonian terms into groups as specified by group method\n",
    "# ... can be None, \"simple\", \"1\", \"2\", or \"N\" where N is < num_qubits\n",
    "group_method = \"simple\"\n",
    "\n",
    "# option to use new method for producing diagonalized measurement circuts with N-qubit groups\n",
    "use_diag_method = False\n",
    "\n",
    "# for testing the new method\n",
    "group_method = \"N\"\n",
    "use_diag_method = True\n",
    "# num_k defines the number for k commute\n",
    "num_k = 4\n",
    "\n",
    "\n",
    "# for debugging Hamlib helper functions\n",
    "hamlib_simulation_kernel.verbose = False\n",
    "hamlib_utils.verbose = False\n",
    "\n",
    "# for debugging observables module\n",
    "observables.verbose_circuits = False\n",
    "\n",
    "verbose = True\n"
   ]
  },
  {
   "cell_type": "markdown",
   "metadata": {},
   "source": [
    "### Specify a Hamiltonian for Testing\n",
    "Choose a Hamiltonian from HamLib or create a custom Hamiltonian\n"
   ]
  },
  {
   "cell_type": "code",
   "execution_count": 4,
   "metadata": {},
   "outputs": [
    {
     "name": "stdout",
     "output_type": "stream",
     "text": [
      "... Hamiltonian name = Heisenberg\n",
      "... dataset_name = graph-1D-grid-pbc-qubitnodes_Lx-6_h-2\n",
      "... sparse_pauli_terms = \n",
      "[({0: 'X', 1: 'X'}, (1+0j)), ({0: 'Y', 1: 'Y'}, (1+0j)), ({0: 'Z', 1: 'Z'}, (1+0j)), ({0: 'X', 5: 'X'}, (1+0j)), ({0: 'Y', 5: 'Y'}, (1+0j)), ({0: 'Z', 5: 'Z'}, (1+0j)), ({1: 'X', 2: 'X'}, (1+0j)), ({1: 'Y', 2: 'Y'}, (1+0j)), ({1: 'Z', 2: 'Z'}, (1+0j)), ({5: 'X', 4: 'X'}, (1+0j)), ({5: 'Y', 4: 'Y'}, (1+0j)), ({5: 'Z', 4: 'Z'}, (1+0j)), ({2: 'X', 3: 'X'}, (1+0j)), ({2: 'Y', 3: 'Y'}, (1+0j)), ({2: 'Z', 3: 'Z'}, (1+0j)), ({3: 'X', 4: 'X'}, (1+0j)), ({3: 'Y', 4: 'Y'}, (1+0j)), ({3: 'Z', 4: 'Z'}, (1+0j)), ({0: 'Z'}, (2+0j)), ({1: 'Z'}, (2+0j)), ({5: 'Z'}, (2+0j)), ({2: 'Z'}, (2+0j)), ({3: 'Z'}, (2+0j)), ({4: 'Z'}, (2+0j))]\n",
      "\n"
     ]
    }
   ],
   "source": [
    "# Specify the desired Hamiltonian from HamLib \n",
    "# Set the hamiltonian_name: 'TFIM', 'Fermi-Hubbard-1D', 'Bose-Hubbard-1D', 'Heisenberg' or 'Max3Sat'\n",
    "\n",
    "hamiltonian_name = 'Heisenberg'\n",
    "\n",
    "print(f\"... Hamiltonian name = {hamiltonian_name}\")\n",
    "\n",
    "########### HamLib Hamiltonians\n",
    "\n",
    "if hamiltonian_name == 'TFIM':\n",
    "    hamiltonian_params = { \"1D-grid\": \"pbc\", \"h\": 2 }\n",
    "\n",
    "if hamiltonian_name == 'Heisenberg':\n",
    "    hamiltonian_params = { \"1D-grid\": \"pbc\", \"h\": 2 }\n",
    "    \n",
    "if hamiltonian_name == 'Fermi-Hubbard-1D':\n",
    "    hamiltonian_params = { \"1D-grid\": \"pbc\", \"enc\": \"bk\", \"U\":12 }\n",
    "\n",
    "if hamiltonian_name == 'Bose-Hubbard-1D':\n",
    "    hamiltonian_params = { \"1D-grid\": \"nonpbc\", \"enc\": \"gray\", \"U\":10 }\n",
    "\n",
    "if hamiltonian_name == 'Max3Sat':\n",
    "    hamiltonian_params = { \"ratio\": \"2\", \"rinst\": \"02\" }\n",
    "\n",
    "if hamiltonian_name == 'chemistry/electronic/standard/H2':\n",
    "    hamiltonian_params = { \"ham_BK\": '' }\n",
    "\n",
    "# load the HamLib file for the given hamiltonian name\n",
    "hamlib_utils.load_hamlib_file(filename=hamiltonian_name)\n",
    "\n",
    "# return a sparse Pauli list of terms queried from the open HamLib file\n",
    "sparse_pauli_terms, dataset_name = hamlib_utils.get_hamlib_sparsepaulilist(num_qubits=num_qubits, params=hamiltonian_params)\n",
    "print(f\"... dataset_name = {dataset_name}\")\n",
    "print(f\"... sparse_pauli_terms = \\n{sparse_pauli_terms}\")\n",
    "\n",
    "print(\"\")\n"
   ]
  },
  {
   "cell_type": "markdown",
   "metadata": {},
   "source": [
    "### Group the Pauli Terms and Generate Merged Terms\n",
    "Here, we optimize the grouping of the Pauli terms, both for creating the base circuit with evolution terms and for generating the measurement circuits."
   ]
  },
  {
   "cell_type": "code",
   "execution_count": 5,
   "metadata": {},
   "outputs": [
    {
     "name": "stdout",
     "output_type": "stream",
     "text": [
      "... using group method: N\n",
      "\n",
      "... Number of groups created: 4\n",
      "... Pauli Term Groups:\n",
      "[('ZIIIII', (2+0j)), ('IZIIII', (2+0j)), ('IIIIIZ', (2+0j)), ('IIZIII', (2+0j)), ('IIIZII', (2+0j)), ('IIIIZI', (2+0j)), ('ZZIIII', (1+0j)), ('ZIIIIZ', (1+0j)), ('IZZIII', (1+0j)), ('IIIIZZ', (1+0j)), ('IIZZII', (1+0j)), ('IIIZZI', (1+0j))]\n",
      "[('XXIIII', (1+0j)), ('YYIIII', (1+0j)), ('IIIIXX', (1+0j)), ('IIIIYY', (1+0j)), ('IIXXII', (1+0j)), ('IIYYII', (1+0j))]\n",
      "[('XIIIIX', (1+0j)), ('IXXIII', (1+0j)), ('IYYIII', (1+0j)), ('IIIXXI', (1+0j))]\n",
      "[('YIIIIY', (1+0j)), ('IIIYYI', (1+0j))]\n",
      "\n",
      "... finished grouping terms, total grouping time = 0.001 sec.\n",
      "\n",
      "\n",
      "... Merged Pauli strings, one per group:\n",
      "  ['ZZZZZZ', 'YYYYYY', 'XYYXXX', 'YIIYYY']\n",
      "\n"
     ]
    }
   ],
   "source": [
    "print(f\"... using group method: {group_method}\")\n",
    "\n",
    "ts = time.time()\n",
    "\n",
    "# use no grouping or the most basic method \"simple\"\n",
    "if group_method == None or group_method == \"simple\":\n",
    "\n",
    "    # Flag to control optimize by use of commuting groups\n",
    "    use_commuting_groups = False\n",
    "    if group_method == \"simple\":\n",
    "        use_commuting_groups = True\n",
    "\n",
    "    # group Pauli terms for quantum execution, optionally combining commuting terms into groups.\n",
    "    pauli_term_groups, pauli_str_list = observables.group_pauli_terms_for_execution(\n",
    "            num_qubits, sparse_pauli_terms, use_commuting_groups)\n",
    "\n",
    "# use k-commuting algorithm\n",
    "else:\n",
    "    from generate_pauli_groups import compute_groups\n",
    "    pauli_term_groups = compute_groups(num_qubits, sparse_pauli_terms, num_k)\n",
    "\n",
    "print(f\"\\n... Number of groups created: {len(pauli_term_groups)}\")\n",
    "print(f\"... Pauli Term Groups:\")\n",
    "for group in pauli_term_groups:\n",
    "    print(group)\n",
    "\n",
    "group_time = round(time.time()-ts, 3)\n",
    "print(f\"\\n... finished grouping terms, total grouping time = {group_time} sec.\\n\")\n",
    "\n",
    "# for each group, create a merged pauli string from all the terms in the group\n",
    "# DEVNOTE: move these 4 lines to a function in observables\n",
    "pauli_str_list = []\n",
    "for group in pauli_term_groups:\n",
    "    merged_pauli_str = observables.merge_pauli_terms(group, num_qubits)\n",
    "    pauli_str_list.append(merged_pauli_str)\n",
    "\n",
    "print(f\"\\n... Merged Pauli strings, one per group:\\n  {pauli_str_list}\\n\")\n"
   ]
  },
  {
   "cell_type": "markdown",
   "metadata": {},
   "source": [
    "### Create a Hamiltonian Simulation Circuit\n",
    "Initialize the circuit to a known initial state, append 'K' Trotter steps for total time 't', followed by basis rotation gates.\n",
    "\n",
    "Optionally, create the base circuit using grouped terms (TBD)."
   ]
  },
  {
   "cell_type": "code",
   "execution_count": 6,
   "metadata": {
    "scrolled": true
   },
   "outputs": [
    {
     "name": "stdout",
     "output_type": "stream",
     "text": [
      "\n",
      "... finished creating base circuit, total creation time = 0.01 sec.\n",
      "\n",
      "... Trotterized Circuit, K=1, t=0.1\n",
      "Sample Circuit:\n",
      "  H = [({0: 'X', 1: 'X'}, (1+0j)), ({0: 'Y', 1: 'Y'}, (1+0j)), ({0: 'Z', 1: 'Z'}, (1+0j)), ({0: 'X', 5: 'X'}, (1+0j)), ({0: 'Y', 5: 'Y'}, (1+0j)), ({0: 'Z', 5: 'Z'}, (1+0j)), ({1: 'X', 2: 'X'}, (1+0j)), ({1: 'Y', 2: 'Y'}, (1+0j)), ({1: 'Z', 2: 'Z'}, (1+0j)), ({5: 'X', 4: 'X'}, (1+0j)), ({5: 'Y', 4: 'Y'}, (1+0j)), ({5: 'Z', 4: 'Z'}, (1+0j)), ({2: 'X', 3: 'X'}, (1+0j)), ({2: 'Y', 3: 'Y'}, (1+0j)), ({2: 'Z', 3: 'Z'}, (1+0j)), ({3: 'X', 4: 'X'}, (1+0j)), ({3: 'Y', 4: 'Y'}, (1+0j)), ({3: 'Z', 4: 'Z'}, (1+0j)), ({0: 'Z'}, (2+0j)), ({1: 'Z'}, (2+0j)), ({5: 'Z'}, (2+0j)), ({2: 'Z'}, (2+0j)), ({3: 'Z'}, (2+0j)), ({4: 'Z'}, (2+0j))]\n",
      "     ┌────────┐ ░ ┌──────────────┐ ░ \n",
      "q_0: ┤0       ├─░─┤0             ├─░─\n",
      "     │        │ ░ │              │ ░ \n",
      "q_1: ┤1       ├─░─┤1             ├─░─\n",
      "     │        │ ░ │              │ ░ \n",
      "q_2: ┤2       ├─░─┤2             ├─░─\n",
      "     │  Neele │ ░ │  e^-iHt(0.1) │ ░ \n",
      "q_3: ┤3       ├─░─┤3             ├─░─\n",
      "     │        │ ░ │              │ ░ \n",
      "q_4: ┤4       ├─░─┤4             ├─░─\n",
      "     │        │ ░ │              │ ░ \n",
      "q_5: ┤5       ├─░─┤5             ├─░─\n",
      "     └────────┘ ░ └──────────────┘ ░ \n",
      "  Initial State Neele:\n",
      "     ┌───┐\n",
      "q_0: ┤ X ├\n",
      "     └───┘\n",
      "q_1: ─────\n",
      "     ┌───┐\n",
      "q_2: ┤ X ├\n",
      "     └───┘\n",
      "q_3: ─────\n",
      "     ┌───┐\n",
      "q_4: ┤ X ├\n",
      "     └───┘\n",
      "q_5: ─────\n",
      "          \n",
      "  Evolution Operator (e^-iHt) =\n",
      "                                         ┌───────────┐             »\n",
      "q_0: ────────────────────────────────────┤0          ├─────────────»\n",
      "                                         │           │             »\n",
      "q_1: ────────────────────────────────────┤           ├─────────────»\n",
      "                                         │           │             »\n",
      "q_2: ────────────────────────────────────┤           ├─────────────»\n",
      "                                         │  Rxx(0.2) │┌───────────┐»\n",
      "q_3: ────────────────────────────────────┤           ├┤0          ├»\n",
      "     ┌───────────┐┌───────────┐          │           ││  Rxx(0.2) │»\n",
      "q_4: ┤0          ├┤0          ├─■────────┤           ├┤1          ├»\n",
      "     │  Rxx(0.2) ││  Ryy(0.2) │ │ZZ(0.2) │           │└───────────┘»\n",
      "q_5: ┤1          ├┤1          ├─■────────┤1          ├─────────────»\n",
      "     └───────────┘└───────────┘          └───────────┘             »\n",
      "«     ┌───────────┐                       ┌───────────┐┌───────────┐»\n",
      "«q_0: ┤0          ├──────────────■────────┤0          ├┤0          ├»\n",
      "«     │           │              │        │  Rxx(0.2) ││  Ryy(0.2) │»\n",
      "«q_1: ┤           ├──────────────┼────────┤1          ├┤1          ├»\n",
      "«     │           │              │        └───────────┘├───────────┤»\n",
      "«q_2: ┤           ├──────────────┼─────────────────────┤0          ├»\n",
      "«     │  Ryy(0.2) │┌───────────┐ │                     │  Rxx(0.2) │»\n",
      "«q_3: ┤           ├┤0          ├─┼───────────■─────────┤1          ├»\n",
      "«     │           ││  Ryy(0.2) │ │           │ZZ(0.2)  └┬─────────┬┘»\n",
      "«q_4: ┤           ├┤1          ├─┼───────────■──────────┤ Rz(0.4) ├─»\n",
      "«     │           │└───────────┘ │ZZ(0.2)  ┌─────────┐  └─────────┘ »\n",
      "«q_5: ┤1          ├──────────────■─────────┤ Rz(0.4) ├──────────────»\n",
      "«     └───────────┘                        └─────────┘              »\n",
      "«                  ┌─────────┐                                               \n",
      "«q_0: ───■─────────┤ Rz(0.4) ├───────────────────────────────────────────────\n",
      "«        │ZZ(0.2)  └─────────┘┌───────────┐┌───────────┐          ┌─────────┐\n",
      "«q_1: ───■────────────────────┤0          ├┤0          ├─■────────┤ Rz(0.4) ├\n",
      "«     ┌───────────┐           │  Rxx(0.2) ││  Ryy(0.2) │ │ZZ(0.2) ├─────────┤\n",
      "«q_2: ┤0          ├──■────────┤1          ├┤1          ├─■────────┤ Rz(0.4) ├\n",
      "«     │  Ryy(0.2) │  │ZZ(0.2) └┬─────────┬┘└───────────┘          └─────────┘\n",
      "«q_3: ┤1          ├──■─────────┤ Rz(0.4) ├───────────────────────────────────\n",
      "«     └───────────┘            └─────────┘                                   \n",
      "«q_4: ───────────────────────────────────────────────────────────────────────\n",
      "«                                                                            \n",
      "«q_5: ───────────────────────────────────────────────────────────────────────\n",
      "«                                                                            \n",
      "\n"
     ]
    }
   ],
   "source": [
    "# create Trotterized evolution circuit for HamLib Hamiltonian\n",
    "ts = time.time()\n",
    "qc, _ = hamlib_simulation_kernel.HamiltonianSimulation(\n",
    "    num_qubits=num_qubits, \n",
    "    ham_op=sparse_pauli_terms,\n",
    "    K=K, t=t,\n",
    "    init_state = init_state,\n",
    "    append_measurements = False,\n",
    "    method = 1, \n",
    ")\n",
    "\n",
    "create_time = round(time.time()-ts, 3)\n",
    "print(f\"\\n... finished creating base circuit, total creation time = {create_time} sec.\\n\")\n",
    "\n",
    "print(f\"... Trotterized Circuit, K={K}, t={t}\")\n",
    "if num_qubits < 11:\n",
    "    if hamiltonian_name != '':\n",
    "        hamlib_simulation_kernel.kernel_draw(qc, method=1)\n",
    "    else:\n",
    "        print(qc)\n",
    "else:\n",
    "    print(\"  ... circuit is too large to draw.\")\n",
    "\n",
    "print(\"\")\n"
   ]
  },
  {
   "cell_type": "markdown",
   "metadata": {},
   "source": [
    "### Create Measurement Circuits from Base Circuit and Pauli Terms\n",
    "Here, we append basis rotation gates for each Pauli Term group to the base evolution circuit to create an array of circuits for execution."
   ]
  },
  {
   "cell_type": "code",
   "execution_count": 7,
   "metadata": {},
   "outputs": [
    {
     "name": "stdout",
     "output_type": "stream",
     "text": [
      "... ****** using diagonalization method for measurement circuits\n",
      "... Appended 4 circuits, one for each group:\n",
      "[('ZIIIII', (2+0j)), ('IZIIII', (2+0j)), ('IIIIIZ', (2+0j)), ('IIZIII', (2+0j)), ('IIIZII', (2+0j)), ('IIIIZI', (2+0j)), ('ZZIIII', (1+0j)), ('ZIIIIZ', (1+0j)), ('IZZIII', (1+0j)), ('IIIIZZ', (1+0j)), ('IIZZII', (1+0j)), ('IIIZZI', (1+0j))]\n",
      "[('XXIIII', (1+0j)), ('YYIIII', (1+0j)), ('IIIIXX', (1+0j)), ('IIIIYY', (1+0j)), ('IIXXII', (1+0j)), ('IIYYII', (1+0j))]\n",
      "[('XIIIIX', (1+0j)), ('IXXIII', (1+0j)), ('IYYIII', (1+0j)), ('IIIXXI', (1+0j))]\n",
      "[('YIIIIY', (1+0j)), ('IIIYYI', (1+0j))]\n",
      "\n",
      "... finished appending 4 measurement circuits, total creating time = 0.003 sec.\n",
      "\n"
     ]
    }
   ],
   "source": [
    "# generate an array of circuits, one for each pauli_string in list\n",
    "ts = time.time()\n",
    "\n",
    "# use normal basis rotation and measurement circuits\n",
    "if not use_diag_method:\n",
    "    circuits = hamlib_simulation_kernel.create_circuits_for_pauli_terms(qc, num_qubits, pauli_str_list)\n",
    "\n",
    "# option to use new method for producing diagonalized measurement circuts with N-qubit groups\n",
    "else:\n",
    "    print(f\"... ****** using diagonalization method for measurement circuits\")\n",
    "    \n",
    "    # generate an array of circuits, one for each pauli_string in list\n",
    "    from generate_measurement_circuits import create_circuits_for_pauli_terms_k_commute    \n",
    "    circuits = [create_circuits_for_pauli_terms_k_commute(qc, ops, num_k) for ops in pauli_term_groups]\n",
    "\n",
    "print(f\"... Appended {len(circuits)} circuits, one for each group:\")               \n",
    "for circuit, group in list(zip(circuits, pauli_term_groups)):\n",
    "    print(group)\n",
    "    #print(circuit)\n",
    "\n",
    "append_time = round(time.time()-ts, 3)\n",
    "print(f\"\\n... finished appending {len(circuits)} measurement circuits, total creating time = {append_time} sec.\\n\")\n"
   ]
  },
  {
   "cell_type": "markdown",
   "metadata": {},
   "source": [
    "### Execute Circuits to Produce Measurement Distributions\n",
    "For now, we execute using the Aer simulator. This will be enhanced to use the QED-C execution module to enable execution on multiple programming APIs and backend systems. "
   ]
  },
  {
   "cell_type": "code",
   "execution_count": 8,
   "metadata": {},
   "outputs": [
    {
     "name": "stdout",
     "output_type": "stream",
     "text": [
      "... begin executing 4 circuits ...\n",
      "... finished executing 4 circuits, total execution time = 0.05 sec.\n",
      "\n"
     ]
    }
   ],
   "source": [
    "# Initialize simulator backend\n",
    "from qiskit_aer import Aer\n",
    "backend = Aer.get_backend('qasm_simulator')\n",
    "\n",
    "print(f\"... begin executing {len(circuits)} circuits ...\")\n",
    "ts = time.time()\n",
    "# Execute all of the circuits to obtain array of result objects\n",
    "results = backend.run(circuits, shots=num_shots).result()\n",
    "\n",
    "\n",
    "exec_time = round(time.time()-ts, 3)\n",
    "print(f\"... finished executing {len(circuits)} circuits, total execution time = {exec_time} sec.\\n\")\n"
   ]
  },
  {
   "cell_type": "code",
   "execution_count": 9,
   "metadata": {},
   "outputs": [],
   "source": [
    "# exp_x = 0\n",
    "# pauli_x_terms = ['ZIII', 'IZII', 'IIZI', 'IIIZ']\n",
    "# for idx in range(len(pauli_x_terms)):\n",
    "#     for key, val in res_x.items():\n",
    "#         if key[idx] == '1':\n",
    "#             exp_x -= val\n",
    "#         else:\n",
    "#             exp_x += val\n",
    "# exp_x_total = 2 * exp_x / num_shots"
   ]
  },
  {
   "cell_type": "code",
   "execution_count": 10,
   "metadata": {},
   "outputs": [],
   "source": [
    "# exp_z = 0\n",
    "# pauli_z_terms = ['IZII', 'ZIIZ', 'ZZZI', 'IIZZ']\n",
    "# # pauli_z_terms = ['ZZII', 'ZIIZ', 'IZZI', 'IIZZ']\n",
    "# for key, val in res_z.items():\n",
    "# #     print(key, val)\n",
    "#     for z_term in pauli_z_terms:\n",
    "# #         print(z_term)\n",
    "#         sign = 1\n",
    "#         for idx, p in enumerate(z_term):\n",
    "# #             print(f'term idx {idx} and count is {key[idx]} and pauli is {p}')\n",
    "# #             print(type(key[idx]))\n",
    "#             if key[idx] == '1' and p == 'Z':\n",
    "# #                 print('change sign!')\n",
    "#                 sign = -sign\n",
    "#         exp_z += sign * val\n",
    "# #         print('sign:', sign)\n",
    "# #         print('current exp:', exp_z)\n",
    "            \n",
    "# exp_z = exp_z / num_shots"
   ]
  },
  {
   "cell_type": "markdown",
   "metadata": {},
   "source": [
    "### Compute the Energy of the Evolved State from the Hamiltonian and the Measurement Distributions\n",
    "Here, we process the measurement results from circuit execution using the Hamiltonian terms to compute the expectation value of the energy observable.\n",
    "\n",
    "We also, retain the contributions from each terms so that we can use those in calcuating other observables from the same measurement results."
   ]
  },
  {
   "cell_type": "code",
   "execution_count": 13,
   "metadata": {},
   "outputs": [
    {
     "name": "stdout",
     "output_type": "stream",
     "text": [
      "... begin computing observable value ...\n",
      "z expectation: (-0.594+0j)\n",
      "x expectation: (-5.361000000000001+0j)\n",
      "... finished computing observable value, computation time = 0.002 sec.\n",
      "\n",
      "    Total Energy: -5.955\n",
      "\n",
      "    Term Contributions: {'Z-----': 0.8474, '-Z----': -0.8456, '-----Z': -0.8422, '--Z---': 0.8462, '---Z--': -0.8512, '----Z-': 0.8454, 'ZZ----': -0.853, 'Z----Z': -0.85, '-ZZ---': -0.851, '----ZZ': -0.8568, '--ZZ--': -0.8538, '---ZZ-': -0.8478, 'XX----': -0.1448, 'YY----': 0.1514, '----XX': -0.0658, '----YY': 0.0646, '--XX--': -0.0826, '--YY--': 0.0848, 'X----X': -0.0704, '-XX---': -0.059, '-YY---': 0.0624, '---XX-': -0.005, 'Y----Y': -0.0554, '---YY-': 0.0036}\n",
      "\n",
      "\n",
      "... total observable computation time = 0.066 sec.\n",
      "\n"
     ]
    }
   ],
   "source": [
    "# Compute the total energy for the Hamiltonian\n",
    "\n",
    "print(f\"... begin computing observable value ...\")\n",
    "ts = time.time()\n",
    "\n",
    "if not use_diag_method:\n",
    "    total_energy, term_contributions = observables.calculate_expectation_from_measurements(\n",
    "                                            num_qubits, results, pauli_term_groups)\n",
    "\n",
    "else:\n",
    "    from generate_measurement_circuits import diagonalized_pauli_strings\n",
    "    diag_pauli_term_groups = [diagonalized_pauli_strings(pauli_term_group, num_k, num_qubits) for pauli_term_group in pauli_term_groups]\n",
    "#     for g in diag_pauli_term_groups:\n",
    "#         for i in g:\n",
    "#             print(i)\n",
    "#         print('------')\n",
    "    total_energy, term_contributions = observables.calculate_expectation_from_measurements_k_commute(\n",
    "                                            num_qubits, results, diag_pauli_term_groups)\n",
    "\n",
    "obs_time = round(time.time()-ts, 3)\n",
    "print(f\"... finished computing observable value, computation time = {obs_time} sec.\\n\")\n",
    "\n",
    "print(f\"    Total Energy: {round(np.real(total_energy), 4)}\\n\")\n",
    "print(f\"    Term Contributions: {term_contributions}\\n\")\n",
    "\n",
    "total_time = group_time + create_time + append_time + exec_time + obs_time\n",
    "total_time = round(total_time, 3)\n",
    "print(f\"\\n... total observable computation time = {total_time} sec.\\n\")\n"
   ]
  },
  {
   "cell_type": "markdown",
   "metadata": {},
   "source": [
    "### Compute Energy of the Evolved State Classically and Compare to Quantum Result\n",
    "Here, we use a classical computation to determine the exact expectation value and produce a quality score for the quantum computation."
   ]
  },
  {
   "cell_type": "code",
   "execution_count": 14,
   "metadata": {},
   "outputs": [
    {
     "name": "stdout",
     "output_type": "stream",
     "text": [
      "... begin classical computation of expectation value ...\n",
      "... exact computation time = 0.043 sec\n",
      "\n",
      "Exact expectation value, computed classically: -6.0\n",
      "Estimated expectation value, computed using quantum algorithm: -5.955\n",
      "\n",
      "    ==> Simulation Quality: 0.993\n",
      "\n"
     ]
    }
   ],
   "source": [
    "print(f\"... begin classical computation of expectation value ...\")\n",
    "                    \n",
    "ts = time.time()\n",
    "\n",
    "if num_qubits <= 20:\n",
    "    correct_exp, correct_dist = evolution_exact.compute_expectation_exact(\n",
    "            init_state,\n",
    "            observables.ensure_pauli_terms(sparse_pauli_terms, num_qubits),\n",
    "            1.0            # time\n",
    "            )\n",
    "else:\n",
    "    correct_exp = 0.001\n",
    "    correct_dist = None\n",
    "    \n",
    "exact_time = round(time.time()-ts, 3)\n",
    "print(f\"... exact computation time = {exact_time} sec\")\n",
    "\n",
    "print(f\"\\nExact expectation value, computed classically: {round(np.real(correct_exp), 4)}\")\n",
    "print(f\"Estimated expectation value, computed using quantum algorithm: {round(np.real(total_energy), 4)}\\n\")\n",
    "\n",
    "simulation_quality = round(np.real(total_energy) / np.real(correct_exp), 3)\n",
    "print(f\"    ==> Simulation Quality: {np.real(simulation_quality)}\\n\")\n",
    "\n"
   ]
  },
  {
   "cell_type": "markdown",
   "metadata": {},
   "source": [
    "### Compute Expectation with Estimator\n",
    "Here, we do a sanity check on the above processes by comparing with energy obtained using the Qiskit Estimator."
   ]
  },
  {
   "cell_type": "code",
   "execution_count": 15,
   "metadata": {},
   "outputs": [],
   "source": [
    "# Call the Qiskit Estimator using the function wrapper in 'observables' module.\n",
    "\n",
    "# DEVNOTE: We may want to surface the actual Estimator call instead. \n",
    "\n",
    "# Ensure that the pauli_terms are in 'full' format, not 'sparse' - convert if necessary\n",
    "pauli_terms = observables.ensure_pauli_terms(sparse_pauli_terms, num_qubits=num_qubits)\n",
    "pauli_terms = observables.swap_pauli_list(pauli_terms)\n",
    "\n",
    "# pauli_terms_z = []\n",
    "# pauli_terms_x = []\n",
    "# for term in pauli_terms:\n",
    "#     if 'X' not in term[1]:\n",
    "#         pauli_terms_z.append(term)\n",
    "#     else:\n",
    "#         pauli_terms_x.append(term)"
   ]
  },
  {
   "cell_type": "code",
   "execution_count": 16,
   "metadata": {},
   "outputs": [
    {
     "name": "stdout",
     "output_type": "stream",
     "text": [
      "... Estimator computation time = 0.197 sec\n",
      "Expectation value, computed using Qiskit Estimator: -5.9356\n",
      "\n"
     ]
    }
   ],
   "source": [
    "ts = time.time()\n",
    "# estimator_energy_z = observables.estimate_expectation_with_estimator(backend, qc, pauli_terms_z, num_shots=num_shots)\n",
    "# estimator_energy_x = observables.estimate_expectation_with_estimator(backend, qc, pauli_terms_x, num_shots=num_shots)\n",
    "estimator_energy = observables.estimate_expectation_with_estimator(backend, qc, pauli_terms, num_shots=num_shots)\n",
    "\n",
    "\n",
    "estimator_time = round(time.time()-ts, 3)\n",
    "print(f\"... Estimator computation time = {estimator_time} sec\")\n",
    "\n",
    "# print(f\"Expectation value for Z, computed using Qiskit Estimator: {round(np.real(estimator_energy_z), 4)}\\n\")\n",
    "# print(f\"Expectation value for X, computed using Qiskit Estimator: {round(np.real(estimator_energy_x), 4)}\\n\")\n",
    "print(f\"Expectation value, computed using Qiskit Estimator: {round(np.real(estimator_energy), 4)}\\n\")\n"
   ]
  },
  {
   "cell_type": "markdown",
   "metadata": {},
   "source": [
    "### Compute expectation value of other observables.\n",
    "WORK-IN-PROGRESS: This code attempts to derive spin correlation and magenetization Hamiltonians from the Hamiltonian under test.\n",
    "We do not currently check whether the terms actually make sense.  We also do not consider other observable types at this point."
   ]
  },
  {
   "cell_type": "code",
   "execution_count": 17,
   "metadata": {},
   "outputs": [
    {
     "name": "stdout",
     "output_type": "stream",
     "text": [
      "Hamiltonian under test:\n",
      "[[('ZIIIII', (2+0j)), ('IZIIII', (2+0j)), ('IIIIIZ', (2+0j)), ('IIZIII', (2+0j)), ('IIIZII', (2+0j)), ('IIIIZI', (2+0j)), ('ZZIIII', (1+0j)), ('ZIIIIZ', (1+0j)), ('IZZIII', (1+0j)), ('IIIIZZ', (1+0j)), ('IIZZII', (1+0j)), ('IIIZZI', (1+0j))], [('XXIIII', (1+0j)), ('YYIIII', (1+0j)), ('IIIIXX', (1+0j)), ('IIIIYY', (1+0j)), ('IIXXII', (1+0j)), ('IIYYII', (1+0j))], [('XIIIIX', (1+0j)), ('IXXIII', (1+0j)), ('IYYIII', (1+0j)), ('IIIXXI', (1+0j))], [('YIIIIY', (1+0j)), ('IIIYYI', (1+0j))]]\n",
      "\n",
      "****\n",
      "... mean spin correlation terms:  [('IIIIZZ', (0.2+0j)), ('IIIZZI', (0.2+0j)), ('IIZZII', (0.2+0j)), ('IZZIII', (0.2+0j)), ('ZZIIII', (0.2+0j))]\n",
      "****\n",
      "... magnetization terms:  [('IIIIIZ', (1+0j)), ('IIIIZI', (1+0j)), ('IIIZII', (1+0j)), ('IIZIII', (1+0j)), ('IZIIII', (1+0j)), ('ZIIIII', (1+0j))]\n",
      "\n",
      "WARN: term not found in term_contributions: IIIIZZ\n",
      "WARN: term not found in term_contributions: IIIZZI\n",
      "WARN: term not found in term_contributions: IIZZII\n",
      "WARN: term not found in term_contributions: IZZIII\n",
      "WARN: term not found in term_contributions: ZZIIII\n",
      "Spin Correlation: 0.0\n",
      "WARN: term not found in term_contributions: IIIIIZ\n",
      "WARN: term not found in term_contributions: IIIIZI\n",
      "WARN: term not found in term_contributions: IIIZII\n",
      "WARN: term not found in term_contributions: IIZIII\n",
      "WARN: term not found in term_contributions: IZIIII\n",
      "WARN: term not found in term_contributions: ZIIIII\n",
      "Magnetization: 0.0\n",
      "\n"
     ]
    }
   ],
   "source": [
    "\n",
    "print(f\"Hamiltonian under test:\")\n",
    "print(pauli_term_groups)\n",
    "print(\"\")\n",
    "\n",
    "################\n",
    "### DEVNOTE: We don't want to use SparsePauliOp if possible\n",
    "\n",
    "from qiskit.quantum_info import SparsePauliOp\n",
    "\n",
    "# need to check if the below terms are actually in the Hamiltonian\n",
    "\n",
    "L = num_qubits\n",
    "\n",
    "# this doesn't include the Z's at the ends of the chain; OK, if we assume an open chain\n",
    "print(\"****\")\n",
    "correlation_op = SparsePauliOp.from_sparse_list(\n",
    "    [(\"ZZ\", [i, i + 1], 1.0) for i in range(0, L - 1)],\n",
    "    num_qubits=L\n",
    ") / (L - 1)\n",
    "H_terms_spin_correlation = correlation_op.to_list()\n",
    "print(\"... mean spin correlation terms: \", H_terms_spin_correlation)\n",
    "\n",
    "print(\"****\")\n",
    "magnetization_op = SparsePauliOp.from_sparse_list(\n",
    "    #[(\"Z\", [i], 1.0) for i in range(0, 6)], num_qubits=6\n",
    "    [(\"Z\", [i], 1.0) for i in range(0, L)], num_qubits=L\n",
    ")\n",
    "H_terms_magnetization = magnetization_op.to_list()\n",
    "print(\"... magnetization terms: \", H_terms_magnetization)\n",
    "\n",
    "print(\"\")\n",
    "\n",
    "spin_correlation = observables.calculate_expectation_from_contributions(term_contributions, H_terms_spin_correlation)\n",
    "print(f\"Spin Correlation: {round(np.real(spin_correlation), 3)}\")\n",
    "\n",
    "magnetization = observables.calculate_expectation_from_contributions(term_contributions, H_terms_magnetization)\n",
    "print(f\"Magnetization: {round(np.real(magnetization), 3)}\")\n",
    "\n",
    "print(\"\")\n"
   ]
  },
  {
   "cell_type": "code",
   "execution_count": null,
   "metadata": {},
   "outputs": [],
   "source": []
  },
  {
   "cell_type": "code",
   "execution_count": null,
   "metadata": {},
   "outputs": [],
   "source": []
  }
 ],
 "metadata": {
  "kernelspec": {
   "display_name": "Python 3.12",
   "language": "python",
   "name": "python312"
  },
  "language_info": {
   "codemirror_mode": {
    "name": "ipython",
    "version": 3
   },
   "file_extension": ".py",
   "mimetype": "text/x-python",
   "name": "python",
   "nbconvert_exporter": "python",
   "pygments_lexer": "ipython3",
   "version": "3.12.8"
  }
 },
 "nbformat": 4,
 "nbformat_minor": 5
}
