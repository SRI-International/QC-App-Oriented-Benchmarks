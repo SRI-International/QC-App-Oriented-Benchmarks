{
 "cells": [
  {
   "cell_type": "markdown",
   "id": "444c2c24-909a-4dd3-a80f-d4df84bebc3d",
   "metadata": {},
   "source": [
    "### QED-C Application-Oriented Benchmarks - Hamiltonian Simulation with HamLib - Observables (Customizable)\n",
    "\n",
    "The notebook contains specific examples for the HamLib-based Hamiltonian Simulation benchmark program.\n",
    "Configure and run the cell below with the desired execution settings.\n",
    "Then configure and run the remaining cell(s), each one a variation of this benchmark.\n",
    "\n",
    "Note: This set of benchmarks surfaces the series of second-level functions used to benchmark HamLib observables.\n",
    "This is a WORK-IN-PROGRESS and is provided to enable experimentation with alternative techniques for computing observables.\n"
   ]
  },
  {
   "cell_type": "code",
   "execution_count": 11,
   "id": "736e7d08-1e3c-4694-8648-6de6ad1ca299",
   "metadata": {},
   "outputs": [],
   "source": [
    "%reload_ext autoreload\n",
    "%autoreload 2"
   ]
  },
  {
   "cell_type": "code",
   "execution_count": 12,
   "id": "67e7efbd-318c-44c2-ad58-8d4b03403e49",
   "metadata": {},
   "outputs": [],
   "source": [
    "import numpy as np\n",
    "from math import sin, cos, pi\n",
    "import time\n",
    "\n",
    "# Configure module paths\n",
    "import sys\n",
    "sys.path.insert(1, \"_common\")\n",
    "sys.path.insert(1, \"qiskit\")\n",
    "\n",
    "# Import HamLib helper functions (from _common)\n",
    "import hamlib_utils\n",
    "\n",
    "# Import Hamlib Simulation kernel (from qiskit)\n",
    "import hamlib_simulation_kernel\n",
    "\n",
    "# Import Observable helper functions\n",
    "import observables\n",
    "import evolution_exact\n",
    "\n",
    "verbose = True\n",
    "\n",
    "#### for executing circuits to compute observables ...\n",
    "\n",
    "# Import Qiskit and Qiskit Pauli operator classes\n",
    "#from qiskit.quantum_info import Pauli, SparsePauliOp\n",
    "#from qiskit import QuantumCircuit\n",
    "\n",
    "# Initialize simulator backend\n",
    "#from qiskit_aer import Aer\n",
    "#backend = Aer.get_backend('qasm_simulator')\n"
   ]
  },
  {
   "cell_type": "markdown",
   "id": "da34b34e-fa01-41a6-a2ff-a03ce1d63b25",
   "metadata": {},
   "source": [
    "### Configure Options for Execution"
   ]
  },
  {
   "cell_type": "code",
   "execution_count": 13,
   "id": "f8fc95a9-5621-47b1-b7c6-fbea0b8dc814",
   "metadata": {},
   "outputs": [],
   "source": [
    "# Qubit width of the Hamiltonian\n",
    "num_qubits = 8\n",
    "\n",
    "# Number of shots used for execution\n",
    "num_shots = 10000\n",
    "\n",
    "# Parameters of Trotterized simulation\n",
    "K = 5\n",
    "t = 1\n",
    "\n",
    "# Define initial state; \"checkerboard\", \"neele\", \"ghz\", or a string consisting of 0s and 1s\n",
    "init_state = \"checkerboard\"\n",
    "\n",
    "# for debugging Hamlib helper functions\n",
    "hamlib_simulation_kernel.verbose = False\n",
    "hamlib_utils.verbose = False\n",
    "\n",
    "# for debugging observables module\n",
    "observables.verbose_circuits = False\n"
   ]
  },
  {
   "cell_type": "markdown",
   "id": "2d35830f-d921-4509-aaac-ee0fdae6a999",
   "metadata": {},
   "source": [
    "### Specify a Hamiltonian for Testing\n",
    "Choose a Hamiltonian from HamLib or create a custom Hamiltonian\n"
   ]
  },
  {
   "cell_type": "code",
   "execution_count": 14,
   "id": "a5ec42f1-790c-4050-94c0-9c2a313b488b",
   "metadata": {},
   "outputs": [
    {
     "name": "stdout",
     "output_type": "stream",
     "text": [
      "... Hamiltonian name = TFIM\n",
      "... dataset_name = graph-1D-grid-pbc-qubitnodes_Lx-8_h-2\n",
      "... sparse_pauli_terms = \n",
      "[({0: 'Z', 1: 'Z'}, (1+0j)), ({0: 'Z', 7: 'Z'}, (1+0j)), ({1: 'Z', 2: 'Z'}, (1+0j)), ({7: 'Z', 6: 'Z'}, (1+0j)), ({2: 'Z', 3: 'Z'}, (1+0j)), ({3: 'Z', 4: 'Z'}, (1+0j)), ({4: 'Z', 5: 'Z'}, (1+0j)), ({5: 'Z', 6: 'Z'}, (1+0j)), ({0: 'X'}, (2+0j)), ({1: 'X'}, (2+0j)), ({7: 'X'}, (2+0j)), ({2: 'X'}, (2+0j)), ({3: 'X'}, (2+0j)), ({4: 'X'}, (2+0j)), ({5: 'X'}, (2+0j)), ({6: 'X'}, (2+0j))]\n",
      "\n"
     ]
    }
   ],
   "source": [
    "# Specify the desired Hamiltonian from HamLib \n",
    "# Set the hamiltonian_name: 'TFIM', 'Fermi-Hubbard-1D', 'Bose-Hubbard-1D', 'Heisenberg' or 'Max3Sat'\n",
    "\n",
    "hamiltonian_name = 'TFIM'\n",
    "\n",
    "print(f\"... Hamiltonian name = {hamiltonian_name}\")\n",
    "\n",
    "########### HamLib Hamiltonians\n",
    "\n",
    "if hamiltonian_name == 'TFIM':\n",
    "    hamiltonian_params = { \"1D-grid\": \"pbc\", \"h\": 2 }\n",
    "\n",
    "if hamiltonian_name == 'Heisenberg':\n",
    "    hamiltonian_params = { \"1D-grid\": \"pbc\", \"h\": 2 }\n",
    "    \n",
    "if hamiltonian_name == 'Fermi-Hubbard-1D':\n",
    "    hamiltonian_params = { \"1D-grid\": \"pbc\", \"enc\": \"bk\", \"U\":12 }\n",
    "\n",
    "if hamiltonian_name == 'Bose-Hubbard-1D':\n",
    "    hamiltonian_params = { \"1D-grid\": \"nonpbc\", \"enc\": \"gray\", \"U\":10 }\n",
    "\n",
    "if hamiltonian_name == 'Max3Sat':\n",
    "    hamiltonian_params = { \"ratio\": \"2\", \"rinst\": \"02\" }\n",
    "\n",
    "if hamiltonian_name == 'chemistry/electronic/standard/H2':\n",
    "    hamiltonian_params = { \"ham_BK\": '' }\n",
    "\n",
    "# load the HamLib file for the given hamiltonian name\n",
    "hamlib_utils.load_hamlib_file(filename=hamiltonian_name)\n",
    "\n",
    "# return a sparse Pauli list of terms queried from the open HamLib file\n",
    "sparse_pauli_terms, dataset_name = hamlib_utils.get_hamlib_sparsepaulilist(num_qubits=num_qubits, params=hamiltonian_params)\n",
    "print(f\"... dataset_name = {dataset_name}\")\n",
    "print(f\"... sparse_pauli_terms = \\n{sparse_pauli_terms}\")\n",
    "\n",
    "print(\"\")\n"
   ]
  },
  {
   "cell_type": "markdown",
   "id": "d405a810-09a4-4397-80d6-2b1b2c7126b9",
   "metadata": {},
   "source": [
    "### Group the Pauli Terms and Generate Merged Terms\n",
    "Here, we optimize the grouping of the Pauli terms, both for creating the base circuit with evolution terms and for generating the measurement circuits."
   ]
  },
  {
   "cell_type": "code",
   "execution_count": 15,
   "id": "f7670614-3f1b-43ed-9873-d1f3f10c1cbc",
   "metadata": {
    "scrolled": true
   },
   "outputs": [
    {
     "name": "stdout",
     "output_type": "stream",
     "text": [
      "... Pauli Term Groups:\n",
      "[('ZZIIIIII', (1+0j)), ('ZIIIIIIZ', (1+0j)), ('IZZIIIII', (1+0j)), ('IIIIIIZZ', (1+0j)), ('IIZZIIII', (1+0j)), ('IIIZZIII', (1+0j)), ('IIIIZZII', (1+0j)), ('IIIIIZZI', (1+0j))]\n",
      "[('XIIIIIII', (2+0j)), ('IXIIIIII', (2+0j)), ('IIIIIIIX', (2+0j)), ('IIXIIIII', (2+0j)), ('IIIXIIII', (2+0j)), ('IIIIXIII', (2+0j)), ('IIIIIXII', (2+0j)), ('IIIIIIXI', (2+0j))]\n",
      "\n",
      "... Merged Pauli strings, one per group:\n",
      "  ['ZZZZZZZZ', 'XXXXXXXX']\n",
      "\n"
     ]
    }
   ],
   "source": [
    "# DEVNOTE: expand later to include new types of optimizations\n",
    "\n",
    "# Flag to control optimize by use of commuting groups\n",
    "use_commuting_groups = True\n",
    "\n",
    "# group Pauli terms for quantum execution, optionally combining commuting terms into groups.\n",
    "pauli_term_groups, pauli_str_list = observables.group_pauli_terms_for_execution(\n",
    "        num_qubits, sparse_pauli_terms, use_commuting_groups)\n",
    "\n",
    "print(f\"... Pauli Term Groups:\")\n",
    "for group in pauli_term_groups:\n",
    "    print(group)\n",
    "\n",
    "print(f\"\\n... Merged Pauli strings, one per group:\\n  {pauli_str_list}\\n\")\n"
   ]
  },
  {
   "cell_type": "markdown",
   "id": "5848a55b-830f-440e-a57a-1b08b0711881",
   "metadata": {},
   "source": [
    "### Create a Hamiltonian Simulation Circuit\n",
    "Initialize the circuit to a known initial state, append 'K' Trotter steps for total time 't', followed by basis rotation gates.\n",
    "\n",
    "Optionally, create the base circuit using grouped terms (TBD)."
   ]
  },
  {
   "cell_type": "code",
   "execution_count": 16,
   "id": "8ec99e2e-2e87-4555-85a1-d2aeedf0e604",
   "metadata": {
    "scrolled": true
   },
   "outputs": [
    {
     "name": "stdout",
     "output_type": "stream",
     "text": [
      "... Trotterized Circuit, K=5, t=1\n",
      "Sample Circuit:\n",
      "  ... circuit too large!\n",
      "\n",
      "... Number of gates in circuit: OrderedDict({'cx': 80, 'rz': 40, 'r': 40, 'u3': 4, 'barrier': 2})\n"
     ]
    }
   ],
   "source": [
    "# create Trotterized evolution circuit for HamLib Hamiltonian\n",
    "\n",
    "#Choose between sparse_pauli_terms and pauli_term_groups\n",
    "ham_op = pauli_term_groups\n",
    "\n",
    "#Turn on or off IBM optimization\n",
    "optimize = True\n",
    "\n",
    "qc, _ = hamlib_simulation_kernel.HamiltonianSimulation(\n",
    "    num_qubits=num_qubits, \n",
    "    ham_op=ham_op,\n",
    "    K=K, t=t,\n",
    "    init_state = init_state,\n",
    "    append_measurements = False,\n",
    "    method = 1, \n",
    "    optimize = optimize\n",
    ")\n",
    "\n",
    "print(f\"... Trotterized Circuit, K={K}, t={t}\")\n",
    "if num_qubits < 11:\n",
    "    if hamiltonian_name != '':\n",
    "        hamlib_simulation_kernel.kernel_draw(qc, method=1)\n",
    "    else:\n",
    "        print(qc)\n",
    "else:\n",
    "    print(\"  ... circuit is too large to draw.\")\n",
    "\n",
    "print(\"\")\n",
    "\n",
    "#Print number of gates in circuit\n",
    "print(f\"... Number of gates in circuit: {qc.count_ops()}\")\n"
   ]
  },
  {
   "cell_type": "markdown",
   "id": "022a5fcb-ec05-4535-8aec-5e3c214caae4",
   "metadata": {},
   "source": [
    "### Create Measurement Circuits from Base Circuit and Pauli Terms\n",
    "Here, we append basis rotation gates for each Pauli Term group to the base evolution circuit to create an array of circuits for execution."
   ]
  },
  {
   "cell_type": "code",
   "execution_count": 17,
   "id": "29ea3650-4831-41d9-83e4-1d7cd69f74eb",
   "metadata": {},
   "outputs": [
    {
     "name": "stdout",
     "output_type": "stream",
     "text": [
      "... Created 2 circuits, one for each group:\n",
      "[('ZZIIIIII', (1+0j)), ('ZIIIIIIZ', (1+0j)), ('IZZIIIII', (1+0j)), ('IIIIIIZZ', (1+0j)), ('IIZZIIII', (1+0j)), ('IIIZZIII', (1+0j)), ('IIIIZZII', (1+0j)), ('IIIIIZZI', (1+0j))]\n",
      "[('XIIIIIII', (2+0j)), ('IXIIIIII', (2+0j)), ('IIIIIIIX', (2+0j)), ('IIXIIIII', (2+0j)), ('IIIXIIII', (2+0j)), ('IIIIXIII', (2+0j)), ('IIIIIXII', (2+0j)), ('IIIIIIXI', (2+0j))]\n"
     ]
    }
   ],
   "source": [
    "# generate an array of circuits, one for each pauli_string in list\n",
    "circuits = hamlib_simulation_kernel.create_circuits_for_pauli_terms(qc, num_qubits, pauli_str_list)\n",
    "\n",
    "print(f\"... Created {len(circuits)} circuits, one for each group:\")               \n",
    "for circuit, group in list(zip(circuits, pauli_term_groups)):\n",
    "    print(group)\n",
    "    #print(circuit)\n",
    "    "
   ]
  },
  {
   "cell_type": "markdown",
   "id": "87483ec7-bbe5-4584-b4cf-b0cfe479c3cc",
   "metadata": {},
   "source": [
    "### Execute Circuits to Produce Measurement Distributions\n",
    "For now, we execute using the Aer simulator. This will be enhanced to use the QED-C execution module to enable execution on multiple programming APIs and backend systems. "
   ]
  },
  {
   "cell_type": "code",
   "execution_count": 18,
   "id": "40010c08-d005-4ca8-b1d4-cfe472329d1a",
   "metadata": {},
   "outputs": [
    {
     "name": "stdout",
     "output_type": "stream",
     "text": [
      "... begin executing 2 circuits ...\n",
      "... finished executing 2 circuits, total execution time = 0.072 sec.\n",
      "\n"
     ]
    }
   ],
   "source": [
    "# Initialize simulator backend\n",
    "from qiskit_aer import Aer\n",
    "backend = Aer.get_backend('qasm_simulator')\n",
    "\n",
    "print(f\"... begin executing {len(circuits)} circuits ...\")\n",
    "ts = time.time()\n",
    "\n",
    "# Execute all of the circuits to obtain array of result objects\n",
    "results = backend.run(circuits, num_shots=num_shots).result()\n",
    "\n",
    "exec_time = round(time.time()-ts, 3)\n",
    "print(f\"... finished executing {len(circuits)} circuits, total execution time = {exec_time} sec.\\n\")\n"
   ]
  },
  {
   "cell_type": "markdown",
   "id": "ab8113ad-fb73-4e25-886c-4d00f547adde",
   "metadata": {},
   "source": [
    "### Compute the Energy of the Evolved State from the Hamiltonian and the Measurement Distributions\n",
    "Here, we process the measurement results from circuit execution using the Hamiltonian terms to compute the expectation value of the energy observable.\n",
    "\n",
    "We also, retain the contributions from each terms so that we can use those in calcuating other observables from the same measurement results."
   ]
  },
  {
   "cell_type": "code",
   "execution_count": 19,
   "id": "7e9d7457-2481-4c34-96f0-4fdcc4ea4234",
   "metadata": {},
   "outputs": [
    {
     "name": "stdout",
     "output_type": "stream",
     "text": [
      "... begin computing observable value ...\n",
      "... finished computing observable value, computation time = 0.002 sec.\n",
      "\n",
      "    Total Energy: -6.8047\n",
      "\n",
      "    Term Contributions: {'ZZIIIIII': -0.517578125, 'ZIIIIIIZ': -0.5, 'IZZIIIII': -0.521484375, 'IIIIIIZZ': -0.482421875, 'IIZZIIII': -0.4921875, 'IIIZZIII': -0.46484375, 'IIIIZZII': -0.478515625, 'IIIIIZZI': -0.49609375, 'XIIIIIII': -0.173828125, 'IXIIIIII': -0.18359375, 'IIIIIIIX': -0.1796875, 'IIXIIIII': -0.16015625, 'IIIXIIII': -0.150390625, 'IIIIXIII': -0.177734375, 'IIIIIXII': -0.19140625, 'IIIIIIXI': -0.208984375}\n",
      "\n"
     ]
    }
   ],
   "source": [
    "# Compute the total energy for the Hamiltonian\n",
    "\n",
    "print(f\"... begin computing observable value ...\")\n",
    "ts = time.time()\n",
    "\n",
    "total_energy, term_contributions = observables.calculate_expectation_from_measurements(\n",
    "                                            num_qubits, results, pauli_term_groups)\n",
    "obs_time = round(time.time()-ts, 3)\n",
    "print(f\"... finished computing observable value, computation time = {obs_time} sec.\\n\")\n",
    "\n",
    "print(f\"    Total Energy: {round(np.real(total_energy), 4)}\\n\")\n",
    "print(f\"    Term Contributions: {term_contributions}\\n\")\n"
   ]
  },
  {
   "cell_type": "markdown",
   "id": "9dba04a4-2e59-4f42-80f9-be6ec8897391",
   "metadata": {},
   "source": [
    "### Compute Energy of the Evolved State Classically and Compare to Quantum Result\n",
    "Here, we use a classical computation to determine the exact expectation value and produce a quality score for the quantum computation."
   ]
  },
  {
   "cell_type": "code",
   "execution_count": 20,
   "id": "b8a6d1bf-f8f2-431e-b006-b8fb5d2c3216",
   "metadata": {
    "scrolled": true
   },
   "outputs": [
    {
     "name": "stdout",
     "output_type": "stream",
     "text": [
      "... begin classical computation of expectation value ...\n",
      "... exact computation time = 0.073 sec\n",
      "\n",
      "Exact expectation value, computed classically: -8.0\n",
      "Estimated expectation value, computed using quantum algorithm: -6.8047\n",
      "\n",
      "    ==> Simulation Quality: 0.851\n",
      "\n"
     ]
    }
   ],
   "source": [
    "print(f\"... begin classical computation of expectation value ...\")\n",
    "                    \n",
    "ts = time.time()\n",
    "\n",
    "correct_exp, correct_dist = evolution_exact.compute_expectation_exact(\n",
    "        init_state,\n",
    "        observables.ensure_pauli_terms(sparse_pauli_terms, num_qubits),\n",
    "        1.0            # time\n",
    "        )\n",
    "    \n",
    "exact_time = round(time.time()-ts, 3)\n",
    "print(f\"... exact computation time = {exact_time} sec\")\n",
    "\n",
    "print(f\"\\nExact expectation value, computed classically: {round(np.real(correct_exp), 4)}\")\n",
    "print(f\"Estimated expectation value, computed using quantum algorithm: {round(np.real(total_energy), 4)}\\n\")\n",
    "\n",
    "simulation_quality = round(np.real(total_energy) / np.real(correct_exp), 3)\n",
    "print(f\"    ==> Simulation Quality: {np.real(simulation_quality)}\\n\")\n",
    "\n"
   ]
  },
  {
   "cell_type": "markdown",
   "id": "1ce460a7-27b2-4865-9e15-e96355f387a2",
   "metadata": {},
   "source": [
    "### Compute Expectation with Estimator\n",
    "Here, we do a sanity check on the above processes by comparing with energy obtained using the Qiskit Estimator."
   ]
  },
  {
   "cell_type": "code",
   "execution_count": 21,
   "id": "a9a0990c-2b2f-42e6-ac72-8c4fa3c47c1f",
   "metadata": {},
   "outputs": [
    {
     "name": "stdout",
     "output_type": "stream",
     "text": [
      "... Estimator computation time = 0.007 sec\n",
      "Expectation value, computed using Qiskit Estimator: -6.9028\n",
      "\n"
     ]
    }
   ],
   "source": [
    "# Call the Qiskit Estimator using the function wrapper in 'observables' module.\n",
    "\n",
    "# DEVNOTE: We may want to surface the actual Estimator call instead. \n",
    "\n",
    "# Ensure that the pauli_terms are in 'full' format, not 'sparse' - convert if necessary\n",
    "pauli_terms = observables.ensure_pauli_terms(sparse_pauli_terms, num_qubits=num_qubits)\n",
    "pauli_terms = observables.swap_pauli_list(pauli_terms)\n",
    "\n",
    "ts = time.time()\n",
    "\n",
    "estimator_energy = observables.estimate_expectation_with_estimator(backend, qc, pauli_terms, num_shots=num_shots)\n",
    "\n",
    "estimator_time = round(time.time()-ts, 3)\n",
    "print(f\"... Estimator computation time = {estimator_time} sec\")\n",
    "\n",
    "print(f\"Expectation value, computed using Qiskit Estimator: {round(np.real(estimator_energy), 4)}\\n\")\n"
   ]
  },
  {
   "cell_type": "markdown",
   "id": "bf88fc0a-98f4-4278-aa55-3205bba345fa",
   "metadata": {},
   "source": [
    "### Compute expectation value of other observables.\n",
    "WORK-IN-PROGRESS: This code attempts to derive spin correlation and magenetization Hamiltonians from the Hamiltonian under test.\n",
    "We do not currently check whether the terms actually make sense.  We also do not consider other observable types at this point."
   ]
  },
  {
   "cell_type": "code",
   "execution_count": 22,
   "id": "6c24ca2a-522f-4902-b488-6393bc61cfd8",
   "metadata": {},
   "outputs": [
    {
     "name": "stdout",
     "output_type": "stream",
     "text": [
      "Hamiltonian under test:\n",
      "[[('ZZIIIIII', (1+0j)), ('ZIIIIIIZ', (1+0j)), ('IZZIIIII', (1+0j)), ('IIIIIIZZ', (1+0j)), ('IIZZIIII', (1+0j)), ('IIIZZIII', (1+0j)), ('IIIIZZII', (1+0j)), ('IIIIIZZI', (1+0j))], [('XIIIIIII', (2+0j)), ('IXIIIIII', (2+0j)), ('IIIIIIIX', (2+0j)), ('IIXIIIII', (2+0j)), ('IIIXIIII', (2+0j)), ('IIIIXIII', (2+0j)), ('IIIIIXII', (2+0j)), ('IIIIIIXI', (2+0j))]]\n",
      "\n",
      "****\n",
      "... mean spin correlation terms:  [('IIIIIIZZ', (0.14285714285714285+0j)), ('IIIIIZZI', (0.14285714285714285+0j)), ('IIIIZZII', (0.14285714285714285+0j)), ('IIIZZIII', (0.14285714285714285+0j)), ('IIZZIIII', (0.14285714285714285+0j)), ('IZZIIIII', (0.14285714285714285+0j)), ('ZZIIIIII', (0.14285714285714285+0j))]\n",
      "****\n",
      "... magnetization terms:  [('IIIIIIIZ', (1+0j)), ('IIIIIIZI', (1+0j)), ('IIIIIZII', (1+0j)), ('IIIIZIII', (1+0j)), ('IIIZIIII', (1+0j)), ('IIZIIIII', (1+0j)), ('IZIIIIII', (1+0j)), ('ZIIIIIII', (1+0j))]\n",
      "\n",
      "Spin Correlation: -0.493\n",
      "WARN: term not found in term_contributions: IIIIIIIZ\n",
      "WARN: term not found in term_contributions: IIIIIIZI\n",
      "WARN: term not found in term_contributions: IIIIIZII\n",
      "WARN: term not found in term_contributions: IIIIZIII\n",
      "WARN: term not found in term_contributions: IIIZIIII\n",
      "WARN: term not found in term_contributions: IIZIIIII\n",
      "WARN: term not found in term_contributions: IZIIIIII\n",
      "WARN: term not found in term_contributions: ZIIIIIII\n",
      "Magnetization: 0.0\n",
      "\n"
     ]
    }
   ],
   "source": [
    "\n",
    "print(f\"Hamiltonian under test:\")\n",
    "print(pauli_term_groups)\n",
    "print(\"\")\n",
    "\n",
    "################\n",
    "### DEVNOTE: We don't want to use SparsePauliOp if possible\n",
    "\n",
    "from qiskit.quantum_info import SparsePauliOp\n",
    "\n",
    "# need to check if the below terms are actually in the Hamiltonian\n",
    "\n",
    "L = num_qubits\n",
    "\n",
    "# this doesn't include the Z's at the ends of the chain; OK, if we assume an open chain\n",
    "print(\"****\")\n",
    "correlation_op = SparsePauliOp.from_sparse_list(\n",
    "    [(\"ZZ\", [i, i + 1], 1.0) for i in range(0, L - 1)],\n",
    "    num_qubits=L\n",
    ") / (L - 1)\n",
    "H_terms_spin_correlation = correlation_op.to_list()\n",
    "print(\"... mean spin correlation terms: \", H_terms_spin_correlation)\n",
    "\n",
    "print(\"****\")\n",
    "magnetization_op = SparsePauliOp.from_sparse_list(\n",
    "    #[(\"Z\", [i], 1.0) for i in range(0, 6)], num_qubits=6\n",
    "    [(\"Z\", [i], 1.0) for i in range(0, L)], num_qubits=L\n",
    ")\n",
    "H_terms_magnetization = magnetization_op.to_list()\n",
    "print(\"... magnetization terms: \", H_terms_magnetization)\n",
    "\n",
    "print(\"\")\n",
    "\n",
    "spin_correlation = observables.calculate_expectation_from_contributions(term_contributions, H_terms_spin_correlation)\n",
    "print(f\"Spin Correlation: {round(np.real(spin_correlation), 3)}\")\n",
    "\n",
    "magnetization = observables.calculate_expectation_from_contributions(term_contributions, H_terms_magnetization)\n",
    "print(f\"Magnetization: {round(np.real(magnetization), 3)}\")\n",
    "\n",
    "print(\"\")\n"
   ]
  },
  {
   "cell_type": "code",
   "execution_count": null,
   "id": "4f7de6f8-64cb-4266-9fc2-633d1d30c092",
   "metadata": {},
   "outputs": [],
   "source": []
  }
 ],
 "metadata": {
  "kernelspec": {
   "display_name": "benchmarks",
   "language": "python",
   "name": "python3"
  },
  "language_info": {
   "codemirror_mode": {
    "name": "ipython",
    "version": 3
   },
   "file_extension": ".py",
   "mimetype": "text/x-python",
   "name": "python",
   "nbconvert_exporter": "python",
   "pygments_lexer": "ipython3",
   "version": "3.12.4"
  }
 },
 "nbformat": 4,
 "nbformat_minor": 5
}
