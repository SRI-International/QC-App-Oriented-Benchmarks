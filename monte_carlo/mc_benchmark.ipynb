{
 "cells": [
  {
   "cell_type": "code",
   "execution_count": 8,
   "metadata": {},
   "outputs": [],
   "source": [
    "from qiskit import QuantumCircuit, QuantumRegister, ClassicalRegister\n",
    "from qiskit.circuit.library import QFT\n",
    "from collections.abc import Iterable\n",
    "import functools\n",
    "\n",
    "from numpy.polynomial.polynomial import Polynomial\n",
    "from numpy.polynomial.polynomial import polyfit\n",
    "import matplotlib.pyplot as plt\n",
    "import numpy as np       \n",
    "import copy"
   ]
  },
  {
   "cell_type": "code",
   "execution_count": null,
   "metadata": {},
   "outputs": [],
   "source": [
    "def MonteCarloSampling(target_dist, f, num_qubits, num_ancillas, epsilon=0.05, degree=1, scale=1, order=None):\n",
    "    A_qr = QuantumRegister(num_qubits+1)\n",
    "    A = QuantumCircuit(A_qr)\n",
    "    \n",
    "    state_prep(A, A_qr, target_dist, num_qubits)\n",
    "    f_on_objective(A, A_qr, f, epsilon=epsilon, degree=degree, scale=scale, order=order)\n",
    "    \n",
    "    qc = AE_Subroutine(num_qubits, num_ancillas, A)\n",
    "    \n",
    "    return qc    "
   ]
  },
  {
   "cell_type": "code",
   "execution_count": null,
   "metadata": {},
   "outputs": [],
   "source": []
  },
  {
   "cell_type": "code",
   "execution_count": null,
   "metadata": {},
   "outputs": [],
   "source": [
    "def state_prep(qc, qr, target_dist, num_qubits):\n",
    "    \"\"\"\n",
    "    Use controlled Ry gates to construct the superposition Sum \\sqrt{p_i} |i>\n",
    "    \"\"\"\n",
    "    r_probs = region_probs(target_dist, num_qubits)\n",
    "    regions = r_probs.keys()\n",
    "    \n",
    "    qr = QuantumRegister(num_qubits)\n",
    "    cr = ClassicalRegister(num_qubits)\n",
    "    qc = QuantumCircuit(qr, cr)\n",
    "    \n",
    "    for r in regions:\n",
    "        norm = 1\n",
    "        num_controls = len(r) - 1\n",
    "        \n",
    "        super_key = r[:num_controls]\n",
    "        try:\n",
    "            norm = r_probs[super_key]\n",
    "        except KeyError:\n",
    "            if len(super_key) == 0:\n",
    "                pass\n",
    "            else:\n",
    "                flipped_last = 1-int(super_key[-1])\n",
    "                norm = 1 - r_probs[super_key[:num_controls-1] + str(flipped_last)]\n",
    "        \n",
    "        p = r_probs[r] / norm\n",
    "        theta = -2*np.arcsin(np.sqrt(p))\n",
    "        \n",
    "        if r == '1':\n",
    "            qc.ry(theta, num_qubits-1)\n",
    "            \n",
    "        else:\n",
    "            \n",
    "            for k in range(num_controls):    \n",
    "                if r[k] == '0':\n",
    "                    qc.x(num_qubits-1 - k)\n",
    "            \n",
    "            controls = [qr[num_qubits-1 - i] for i in range(num_controls)]\n",
    "            qc.mcry(theta, controls, qr[num_qubits-1 - num_controls], q_ancillae=None)\n",
    "            \n",
    "            for k in range(num_controls):    \n",
    "                if r[k] == '0':\n",
    "                    qc.x(num_qubits-1 - k)"
   ]
  },
  {
   "cell_type": "code",
   "execution_count": 205,
   "metadata": {},
   "outputs": [
    {
     "name": "stdout",
     "output_type": "stream",
     "text": [
      "0.5848035476425733\n"
     ]
    },
    {
     "data": {
      "text/plain": [
       "<qiskit.circuit.instructionset.InstructionSet at 0x1aec7d81070>"
      ]
     },
     "execution_count": 205,
     "metadata": {},
     "output_type": "execute_result"
    }
   ],
   "source": [
    "qr_ = QuantumRegister(4)\n",
    "cr_ = ClassicalRegister(1)\n",
    "qc_ = QuantumCircuit(qr_, cr_)\n",
    "\n",
    "#qc_.x(0)\n",
    "#qc_.x(1)\n",
    "#qc_.x(2)\n",
    "\n",
    "f_on_objective(qc_, qr_, power_f)\n",
    "\n",
    "qc_.measure([3], [0])"
   ]
  },
  {
   "cell_type": "code",
   "execution_count": 206,
   "metadata": {},
   "outputs": [
    {
     "name": "stdout",
     "output_type": "stream",
     "text": [
      "{'0': 784, '1': 216}\n"
     ]
    }
   ],
   "source": [
    "from qiskit import execute, Aer\n",
    "backend = Aer.get_backend(\"qasm_simulator\")\n",
    "job = execute(qc_, backend, shots=1000)\n",
    "result = job.result()\n",
    "counts = result.get_counts()\n",
    "\n",
    "print(counts)"
   ]
  },
  {
   "cell_type": "code",
   "execution_count": 204,
   "metadata": {},
   "outputs": [],
   "source": [
    "def f_on_objective(qc, qr, f, epsilon=0.1, degree=2, scale=1, order=None):\n",
    "    \"\"\"\n",
    "    Assume last qubit is the objective. Function f is evaluated on first n-1 qubits\n",
    "    \"\"\"\n",
    "    num_qubits = qc.num_qubits - 1\n",
    "    c_star = (2*epsilon)**(1/(degree+1))\n",
    "    \n",
    "    f_ = functools.partial(f, num_qubits=num_qubits, power=2)\n",
    "    zeta_ = functools.partial(zeta_from_f, f=f_, epsilon=epsilon, degree=degree, c=c_star)\n",
    "    \n",
    "    x = np.linspace(0.0, 2**(num_qubits) - 1, num= degree+1)\n",
    "    poly_fitted = Polynomial.fit(x, zeta_(x), degree) #scale, order) \n",
    "    poly = c_star*poly_fitted + (np.pi/4)\n",
    "    \n",
    "    \n",
    "    \n",
    "    b_exp = binary_expansion(num_qubits, poly)\n",
    "    \n",
    "    for controls in b_exp.keys():\n",
    "        theta = b_exp[controls]\n",
    "        if len(controls)==0:\n",
    "            qc.ry(theta, qr[num_qubits])\n",
    "        else:\n",
    "            qc.mcry(theta, [qr[num_qubits - 1 - i] for i in list(controls)], qr[num_qubits], q_ancillae=None)"
   ]
  },
  {
   "cell_type": "code",
   "execution_count": 134,
   "metadata": {},
   "outputs": [
    {
     "data": {
      "text/plain": [
       "[<matplotlib.lines.Line2D at 0x1aec7d49100>]"
      ]
     },
     "execution_count": 134,
     "metadata": {},
     "output_type": "execute_result"
    },
    {
     "data": {
      "image/png": "[encoded data removed]",
      "text/plain": [
       "<Figure size 432x288 with 1 Axes>"
      ]
     },
     "metadata": {
      "needs_background": "light"
     },
     "output_type": "display_data"
    }
   ],
   "source": [
    "num_qubits=3\n",
    "epsilon=0.1\n",
    "degree=2\n",
    "\n",
    "f_ = functools.partial(power_f, num_qubits=num_qubits, power=2)\n",
    "plt.plot(x_plot, f_(x_plot), label=\"f\")\n",
    "\n",
    "c_star = (2*epsilon)**(1/(degree+1))\n",
    "x_plot = np.linspace(0.0, 2**(num_qubits) - 1, num=100)\n",
    "poly = f_on_objective([],[],power_f)\n",
    "def better_fit(x):\n",
    "    return (((np.sin(c_star*poly(x) + (np.pi/4))**2) - 0.5) / c_star) + 0.5\n",
    "plt.plot(x_plot, better_fit(x_plot), label=f\"degree={degree}\")"
   ]
  },
  {
   "cell_type": "code",
   "execution_count": 5,
   "metadata": {},
   "outputs": [],
   "source": [
    "def power_f(i, num_qubits, power):\n",
    "    if isinstance(i, Iterable):\n",
    "        out = []\n",
    "        for val in i:\n",
    "            out.append((val / ((2**num_qubits) - 1))**power)\n",
    "        return np.array(out)\n",
    "    else:\n",
    "        return (i / ((2**num_qubits) - 1))**power"
   ]
  },
  {
   "cell_type": "code",
   "execution_count": 60,
   "metadata": {},
   "outputs": [],
   "source": [
    "def zeta_from_f(i, f, epsilon, degree, c):\n",
    "    \"\"\"\n",
    "    Intermediate polynomial derived from f to serve as angle for controlled Ry gates.\n",
    "    \"\"\"\n",
    "    rad = np.sqrt(c*(f(i) - 0.5) + 0.5)\n",
    "    return (np.arcsin(rad) - (np.pi/4)) / c\n",
    "\n",
    "def simplex(n, k):\n",
    "    \"\"\"\n",
    "    Get all ordered combinations of n integers (zero inclusive) which add up to k; the n-dimensional k simplex.\n",
    "    \"\"\"\n",
    "    if k == 0:\n",
    "        z = [0]*n\n",
    "        return [z]\n",
    "    l = [] \n",
    "    \n",
    "    for p in simplex(n,k-1):\n",
    "        \n",
    "        for i in range(n):\n",
    "            a = p[i]+1\n",
    "            ns = copy.copy(p)\n",
    "            ns[i] = a\n",
    "            if ns not in l:\n",
    "                l.append(ns)\n",
    "    return l\n",
    "\n",
    "def binary_expansion(num_qubits, poly):\n",
    "    \"\"\"\n",
    "    Convert a polynomial into expression replacing x with its binary decomposition x_0 + 2 x_1 + 4 x_2 + ... \n",
    "    \n",
    "    Simplify using (x_i)^p = x_i for all integer p > 0 and collect coefficients of equivalent expression\n",
    "    \n",
    "    \"\"\"\n",
    "    n = num_qubits\n",
    "    if isinstance(poly, Polynomial):\n",
    "        poly_c = poly.coef[::-1]\n",
    "    else:\n",
    "        poly_c = poly\n",
    "        \n",
    "    out_front = {}\n",
    "    out_front[()] = poly_c[0]\n",
    "    for k in range(1,len(poly_c)):\n",
    "        for pow_list in simplex(n,k):\n",
    "            two_exp, denom, t = 0, 1, 0\n",
    "            for power in pow_list:\n",
    "                two_exp += t*power\n",
    "                denom *= np.math.factorial(power)\n",
    "                t+=1\n",
    "            nz = np.nonzero(pow_list)[0]\n",
    "            key = tuple(nz)\n",
    "            if key not in out_front.keys():\n",
    "                out_front[key] = 0\n",
    "            out_front[key] += poly_c[k]*((np.math.factorial(k) / denom) * (2**(two_exp)))\n",
    "    return out_front"
   ]
  },
  {
   "cell_type": "code",
   "execution_count": 4,
   "metadata": {},
   "outputs": [],
   "source": [
    "def starting_regions(num_qubits):\n",
    "    \"\"\"\n",
    "    For use in bisection search for state preparation subroutine. Fill out the necessary region labels for num_qubits.    \n",
    "    \"\"\"\n",
    "    sub_regions = []\n",
    "    sub_regions.append(['1'])\n",
    "    for d in range(1,num_qubits):\n",
    "        region = []\n",
    "        for i in range(2**d):\n",
    "            key = bin(i)[2:].zfill(d) + '1'\n",
    "            region.append(key)\n",
    "        sub_regions.append(region)\n",
    "        \n",
    "    return sub_regions\n",
    "\n",
    "def region_probs(target_dist, num_qubits):\n",
    "    \"\"\"\n",
    "    Fetch bisected region probabilities for the desired probability distribution {[p1], [p01, p11], [p001, p011, p101, p111], ...}.\n",
    "    \"\"\"\n",
    "    \n",
    "    regions = starting_regions(num_qubits)\n",
    "    probs = {}\n",
    "    n = len(regions)\n",
    "    for k in range(n):\n",
    "        for string in regions[k]:\n",
    "            p = 0\n",
    "            b = n-k-1\n",
    "            for i in range(2**b):\n",
    "                subkey = bin(i)[2:].zfill(b)\n",
    "                if b == 0:\n",
    "                    subkey = ''\n",
    "                p += target_dist[string+subkey]\n",
    "            probs[string] = p\n",
    "    return probs"
   ]
  },
  {
   "cell_type": "code",
   "execution_count": null,
   "metadata": {},
   "outputs": [],
   "source": [
    "def AE_Subroutine(num_qubits, num_ancillas, A_circ):\n",
    "    \n",
    "    qr_state = QuantumRegister(num_qubits+1)\n",
    "    qr_ancilla = QuantumRegister(num_ancillas)\n",
    "    cr = ClassicalRegister(num_ancillas)\n",
    "\n",
    "    cQ_ = Ctrl_Q(num_qubits, A_circ)\n",
    "    \n",
    "    qc = QuantumCircuit(qr_state, qr_ancilla, cr)\n",
    "    \n",
    "    # Prepare state from A, and \n",
    "    qc.append(A_circ, qr_state)\n",
    "    for i in range(num_ancillas):\n",
    "        qc.h(qr_ancilla[i])\n",
    "    \n",
    "    repeat = 1\n",
    "    for j in range(num_ancillas):\n",
    "        for k in range(repeat):\n",
    "            qc.append(cQ_, [qr_ancilla[j]] + [qr_state[l] for l in range(num_qubits+1)])\n",
    "        repeat *= 2\n",
    "    \n",
    "    qc.barrier()\n",
    "    \n",
    "    qc.append(QFT(num_qubits=num_ancillas, inverse=True), qr_ancilla[::-1])\n",
    "    \n",
    "    qc.barrier()\n",
    "    \n",
    "    qc.measure([qr_ancilla[m] for m in range(num_ancillas)], list(range(num_ancillas)))\n",
    "    \n",
    "    return qc"
   ]
  },
  {
   "cell_type": "code",
   "execution_count": null,
   "metadata": {},
   "outputs": [],
   "source": [
    "# Get the controlled grover-like operator\n",
    "def Ctrl_Q(num_qubits, A_circ):\n",
    "    # index 0 is the objective qubit, and indexes 1 through n are state qubits\n",
    "    qc = QuantumCircuit(num_qubits+1)\n",
    "    \n",
    "    temp_A = copy.copy(A_circ)\n",
    "    A_gate = temp_A.to_gate()\n",
    "    A_gate_inv = temp_A.inverse().to_gate()\n",
    "    \n",
    "    ### Each cycle in Q applies S_chi, A_circ_inverse, S_0, A_circ\n",
    "    # S_chi\n",
    "    qc.z(0)\n",
    "        \n",
    "    # A_circ_inverse\n",
    "    qc.append(A_gate_inv, [i for i in range(num_qubits+1)])\n",
    "        \n",
    "    # S_0\n",
    "    for i in range(num_qubits):\n",
    "        qc.x(i+1)\n",
    "    qc.x(0)\n",
    "    qc.h(0)\n",
    "    \n",
    "    qc.mcx([x+1 for x in range(num_qubits)], 0)\n",
    "    \n",
    "    qc.h(0)\n",
    "    qc.x(0)\n",
    "    for i in range(num_qubits):\n",
    "        qc.x(i+1)\n",
    "        \n",
    "    # A_circ\n",
    "    qc.append(A_gate, [i for i in range(num_qubits+1)])\n",
    "    \n",
    "    \n",
    "    qc.to_gate(label='Q')\n",
    "    Ctrl_Q_ = qc.control(1)\n",
    "    return Ctrl_Q_\n",
    "\n",
    "def bitstring_to_a(counts):\n",
    "    est_counts = {}\n",
    "    for key in counts.keys():\n",
    "        r = counts[key]\n",
    "        m = len(key)\n",
    "        num = int(key,2) / (2**m)\n",
    "        a_est = round((np.sin(np.pi * num) )** 2, 7)\n",
    "        if a_est not in est_counts.keys():\n",
    "            est_counts[a_est] = 0\n",
    "        est_counts[a_est] += r\n",
    "    return est_counts\n",
    "\n",
    "def a_from_s_int(s_int, num_qubits):\n",
    "    theta = s_int * np.pi / (2**num_qubits)\n",
    "    a = round(np.sin(theta)**2, 7)\n",
    "    return a"
   ]
  }
 ],
 "metadata": {
  "kernelspec": {
   "display_name": "Python 3",
   "language": "python",
   "name": "python3"
  },
  "language_info": {
   "codemirror_mode": {
    "name": "ipython",
    "version": 3
   },
   "file_extension": ".py",
   "mimetype": "text/x-python",
   "name": "python",
   "nbconvert_exporter": "python",
   "pygments_lexer": "ipython3",
   "version": "3.8.5"
  }
 },
 "nbformat": 4,
 "nbformat_minor": 4
}
