{
 "cells": [
  {
   "cell_type": "markdown",
   "metadata": {},
   "source": [
    "### QED-C Benchmarks - Qiskit - Hydrogen Lattice - Extras\n",
    "\n",
    "The notebook contains additional examples specific to this benchmark program."
   ]
  },
  {
   "cell_type": "code",
   "execution_count": 1,
   "metadata": {
    "scrolled": true
   },
   "outputs": [],
   "source": [
    "min_qubits=2\n",
    "max_qubits=8\n",
    "max_circuits=1\n",
    "num_shots=1000\n",
    "\n",
    "backend_id=\"qasm_simulator\"\n",
    "hub=\"ibm-q\"; group=\"open\"; project=\"main\"\n",
    "provider_backend = None\n",
    "exec_options = {}\n",
    "\n",
    "# # ==========================\n",
    "# # *** If using IBMQ hardware, run this once to authenticate\n",
    "# from qiskit import IBMQ\n",
    "# IBMQ.save_account('YOUR_API_TOKEN_HERE')\n",
    "\n",
    "# # *** If you are part of an IBMQ group, set hub, group, and project name here\n",
    "# hub=\"YOUR_HUB_NAME\"; group=\"YOUR_GROUP_NAME\"; project=\"YOUR_PROJECT_NAME\"\n",
    "\n",
    "# # *** This example shows how to specify an IBMQ backend using a known \"backend_id\"\n",
    "# exec_options = { \"optimization_level\":3, \"use_sessions\":True, \"resilience_level\":1}\n",
    "# backend_id=\"ibmq_belem\"\n",
    "\n",
    "# # ==========================\n",
    "# # *** If using Azure Quantum, use this hub identifier and specify the desired backend_id\n",
    "# # Identify your resources with env variables AZURE_QUANTUM_RESOURCE_ID and AZURE_QUANTUM_LOCATION\n",
    "# hub=\"azure-quantum\"; group=\"open\"; project=\"QED-C App-Oriented Benchmarks - Qiskit Version\"\n",
    "# backend_id=\"<YOUR_BACKEND_NAME_HERE>\"\n",
    "\n",
    "# # ==========================\n",
    "# The remaining examples create a provider instance and get a backend from it\n",
    "\n",
    "# # An example using IonQ provider\n",
    "# from qiskit_ionq import IonQProvider\n",
    "# provider = IonQProvider()   # Be sure to set the QISKIT_IONQ_API_TOKEN environment variable\n",
    "# provider_backend = provider.get_backend(\"ionq_qpu\")\n",
    "# backend_id=\"ionq_qpu\"\n",
    "\n",
    "# # An example using BlueQubit provider\n",
    "# import sys\n",
    "# sys.path.insert(1, \"../..\")\n",
    "# import os, bluequbit, _common.executors.bluequbit_executor as bluequbit_executor\n",
    "# provider_backend = bluequbit.init()\n",
    "# backend_id=\"BlueQubit-CPU\"\n",
    "# exec_options = { \"executor\": bluequbit_executor.run, \"device\":'cpu' }\n",
    "\n",
    "# # *** Here's an example of using a typical custom provider backend (e.g. AQT simulator)\n",
    "# import os\n",
    "# from qiskit_aqt_provider import AQTProvider\n",
    "# provider = AQTProvider(os.environ.get('AQT_ACCESS_KEY'))    # get your key from environment\n",
    "# provider_backend = provider.backends.aqt_qasm_simulator_noise_1\n",
    "# backend_id=\"aqt_qasm_simulator_noise_1\"\n"
   ]
  },
  {
   "cell_type": "markdown",
   "metadata": {},
   "source": [
    "### Load Data From File and Regenerate Plots\n",
    "\n",
    "This cell can be used to re-load the data stored during benchmark execution and plot the results.\n",
    "Be sure to first execute the initial cell which sets the backend_id, or set it here.\n",
    "\n",
    "This example illustrates configuration options for the plots that are generated."
   ]
  },
  {
   "cell_type": "code",
   "execution_count": 2,
   "metadata": {
    "scrolled": false
   },
   "outputs": [
    {
     "ename": "AssertionError",
     "evalue": "Specified folder (__data\\qasm_simulator\\) does not exist.",
     "output_type": "error",
     "traceback": [
      "\u001b[1;31m---------------------------------------------------------------------------\u001b[0m",
      "\u001b[1;31mAssertionError\u001b[0m                            Traceback (most recent call last)",
      "Input \u001b[1;32mIn [2]\u001b[0m, in \u001b[0;36m<cell line: 24>\u001b[1;34m()\u001b[0m\n\u001b[0;32m      3\u001b[0m \u001b[38;5;66;03m#backend_id=\"qasm_simulator\"\u001b[39;00m\n\u001b[0;32m      4\u001b[0m \n\u001b[0;32m      5\u001b[0m \u001b[38;5;66;03m# Additional arguments specific to Hydrogen Lattice benchmark method 2 plotting\u001b[39;00m\n\u001b[0;32m      6\u001b[0m hl_app_args \u001b[38;5;241m=\u001b[39m \u001b[38;5;28mdict\u001b[39m(\n\u001b[0;32m      7\u001b[0m     \n\u001b[0;32m      8\u001b[0m     \u001b[38;5;66;03m# display options for line plots (pairwise)\u001b[39;00m\n\u001b[1;32m   (...)\u001b[0m\n\u001b[0;32m     21\u001b[0m     x_metric\u001b[38;5;241m=\u001b[39m[\u001b[38;5;124m'\u001b[39m\u001b[38;5;124mcumulative_exec_time\u001b[39m\u001b[38;5;124m'\u001b[39m, \u001b[38;5;124m'\u001b[39m\u001b[38;5;124mcumulative_elapsed_time\u001b[39m\u001b[38;5;124m'\u001b[39m],  \u001b[38;5;66;03m# + 'cumulative_opt_exec_time', \u001b[39;00m\n\u001b[0;32m     22\u001b[0m )\n\u001b[1;32m---> 24\u001b[0m \u001b[43mhydrogen_lattice_benchmark\u001b[49m\u001b[38;5;241;43m.\u001b[39;49m\u001b[43mload_data_and_plot\u001b[49m\u001b[43m(\u001b[49m\u001b[43mos\u001b[49m\u001b[38;5;241;43m.\u001b[39;49m\u001b[43mpath\u001b[49m\u001b[38;5;241;43m.\u001b[39;49m\u001b[43mjoin\u001b[49m\u001b[43m(\u001b[49m\u001b[38;5;124;43m'\u001b[39;49m\u001b[38;5;124;43m__data\u001b[39;49m\u001b[38;5;124;43m'\u001b[39;49m\u001b[43m,\u001b[49m\u001b[43m \u001b[49m\u001b[43mbackend_id\u001b[49m\u001b[43m,\u001b[49m\u001b[43m \u001b[49m\u001b[38;5;124;43m'\u001b[39;49m\u001b[38;5;124;43m'\u001b[39;49m\u001b[43m)\u001b[49m\u001b[43m,\u001b[49m\u001b[43m \u001b[49m\u001b[43mbackend_id\u001b[49m\u001b[38;5;241;43m=\u001b[39;49m\u001b[43mbackend_id\u001b[49m\u001b[43m,\u001b[49m\u001b[43m                                             \u001b[49m\n\u001b[0;32m     25\u001b[0m \u001b[43m    \u001b[49m\u001b[38;5;241;43m*\u001b[39;49m\u001b[38;5;241;43m*\u001b[39;49m\u001b[43mhl_app_args\u001b[49m\u001b[43m)\u001b[49m\n",
      "File \u001b[1;32mC:\\Dropbox\\QCI-TL\\QED-C\\StandardsAndBenchmarks\\github\\QC-App-Oriented-Benchmarks\\hydrogen-lattice\\qiskit\\hydrogen_lattice_benchmark.py:790\u001b[0m, in \u001b[0;36mload_data_and_plot\u001b[1;34m(folder, backend_id, **kwargs)\u001b[0m\n\u001b[0;32m    780\u001b[0m \u001b[38;5;28;01mdef\u001b[39;00m \u001b[38;5;21mload_data_and_plot\u001b[39m(folder, backend_id\u001b[38;5;241m=\u001b[39m\u001b[38;5;28;01mNone\u001b[39;00m, \u001b[38;5;241m*\u001b[39m\u001b[38;5;241m*\u001b[39mkwargs):\n\u001b[0;32m    781\u001b[0m     \u001b[38;5;124;03m\"\"\"\u001b[39;00m\n\u001b[0;32m    782\u001b[0m \u001b[38;5;124;03m    The highest level function for loading stored data from a previous run\u001b[39;00m\n\u001b[0;32m    783\u001b[0m \u001b[38;5;124;03m    and plotting optgaps and area metrics\u001b[39;00m\n\u001b[1;32m   (...)\u001b[0m\n\u001b[0;32m    788\u001b[0m \u001b[38;5;124;03m        Directory where json files are saved.\u001b[39;00m\n\u001b[0;32m    789\u001b[0m \u001b[38;5;124;03m    \"\"\"\u001b[39;00m\n\u001b[1;32m--> 790\u001b[0m     _gen_prop \u001b[38;5;241m=\u001b[39m \u001b[43mload_all_metrics\u001b[49m\u001b[43m(\u001b[49m\u001b[43mfolder\u001b[49m\u001b[43m,\u001b[49m\u001b[43m \u001b[49m\u001b[43mbackend_id\u001b[49m\u001b[38;5;241;43m=\u001b[39;49m\u001b[43mbackend_id\u001b[49m\u001b[43m)\u001b[49m\n\u001b[0;32m    791\u001b[0m     \u001b[38;5;28;01mif\u001b[39;00m _gen_prop \u001b[38;5;129;01mis\u001b[39;00m \u001b[38;5;129;01mnot\u001b[39;00m \u001b[38;5;28;01mNone\u001b[39;00m:\n\u001b[0;32m    792\u001b[0m         gen_prop \u001b[38;5;241m=\u001b[39m {\u001b[38;5;241m*\u001b[39m\u001b[38;5;241m*\u001b[39m_gen_prop, \u001b[38;5;241m*\u001b[39m\u001b[38;5;241m*\u001b[39mkwargs}\n",
      "File \u001b[1;32mC:\\Dropbox\\QCI-TL\\QED-C\\StandardsAndBenchmarks\\github\\QC-App-Oriented-Benchmarks\\hydrogen-lattice\\qiskit\\hydrogen_lattice_benchmark.py:811\u001b[0m, in \u001b[0;36mload_all_metrics\u001b[1;34m(folder, backend_id)\u001b[0m\n\u001b[0;32m    796\u001b[0m \u001b[38;5;124;03m\"\"\"\u001b[39;00m\n\u001b[0;32m    797\u001b[0m \u001b[38;5;124;03mLoad all data that was saved in a folder.\u001b[39;00m\n\u001b[0;32m    798\u001b[0m \u001b[38;5;124;03mThe saved data will be in json files in this folder\u001b[39;00m\n\u001b[1;32m   (...)\u001b[0m\n\u001b[0;32m    808\u001b[0m \u001b[38;5;124;03m    of inputs that were used in maxcut_benchmark.run method\u001b[39;00m\n\u001b[0;32m    809\u001b[0m \u001b[38;5;124;03m\"\"\"\u001b[39;00m\n\u001b[0;32m    810\u001b[0m \u001b[38;5;66;03m# Note: folder here should be the folder where only the width=... files are stored, and not a folder higher up in the directory\u001b[39;00m\n\u001b[1;32m--> 811\u001b[0m \u001b[38;5;28;01massert\u001b[39;00m os\u001b[38;5;241m.\u001b[39mpath\u001b[38;5;241m.\u001b[39misdir(folder), \u001b[38;5;124mf\u001b[39m\u001b[38;5;124m\"\u001b[39m\u001b[38;5;124mSpecified folder (\u001b[39m\u001b[38;5;132;01m{\u001b[39;00mfolder\u001b[38;5;132;01m}\u001b[39;00m\u001b[38;5;124m) does not exist.\u001b[39m\u001b[38;5;124m\"\u001b[39m\n\u001b[0;32m    813\u001b[0m metrics\u001b[38;5;241m.\u001b[39minit_metrics()\n\u001b[0;32m    815\u001b[0m list_of_files \u001b[38;5;241m=\u001b[39m os\u001b[38;5;241m.\u001b[39mlistdir(folder)\n",
      "\u001b[1;31mAssertionError\u001b[0m: Specified folder (__data\\qasm_simulator\\) does not exist."
     ]
    }
   ],
   "source": [
    "import os, hydrogen_lattice_benchmark\n",
    "\n",
    "#backend_id=\"qasm_simulator\"\n",
    "\n",
    "# Additional arguments specific to Hydrogen Lattice benchmark method 2 plotting\n",
    "hl_app_args = dict(\n",
    "    \n",
    "    # display options for line plots (pairwise)\n",
    "    line_y_metrics=['energy', 'accuracy_ratio_error'],             # + 'solution_quality', 'accuracy_ratio', 'solution_quality_error'\n",
    "    line_x_metrics=['iteration_count', 'cumulative_exec_time'],    # + 'cumulative_elapsed_time'\n",
    "    plot_layout_style='grid',                                      # plot layout, can be 'grid', 'stacked', or 'individual'\n",
    "    \n",
    "    # display options for bar plots (exec time, accuracy ratio)\n",
    "    bar_y_metrics=[\"average_exec_times\", \"accuracy_ratio_error\"],\n",
    "    bar_x_metrics=[\"num_qubits\"],\n",
    "    use_logscale_for_times=False,                                  # use log scale for cumulative exec time bar chart\n",
    "    show_elapsed_times=True,                                       # include elapsed time in average_exec_times plot\n",
    "    \n",
    "    # display options for area plots (multiplicative)\n",
    "    score_metric=['accuracy_ratio'],                               # + 'solution_quality'\n",
    "    x_metric=['cumulative_exec_time', 'cumulative_elapsed_time'],  # + 'cumulative_opt_exec_time', \n",
    ")\n",
    "\n",
    "hydrogen_lattice_benchmark.load_data_and_plot(os.path.join('__data', backend_id, ''), backend_id=backend_id,                                             \n",
    "    **hl_app_args)\n"
   ]
  },
  {
   "cell_type": "markdown",
   "metadata": {},
   "source": [
    "### Hydrogen Lattice - Method 2 - Use Custom Minimizer Function\n",
    "\n",
    "This example shows how to configure a custom minimizer function for use in this benchmark.\n"
   ]
  },
  {
   "cell_type": "code",
   "execution_count": null,
   "metadata": {
    "scrolled": false
   },
   "outputs": [],
   "source": [
    "import sys\n",
    "sys.path.insert(1, \"hydrogen-lattice/qiskit\")\n",
    "import hydrogen_lattice_benchmark\n",
    "\n",
    "# define a custom Nelder-Mead minimizer function\n",
    "from scipy.optimize import minimize\n",
    "\n",
    "tol=0.01\n",
    "max_iter=30\n",
    "\n",
    "def my_minimizer(objective_function, initial_parameters, callback):\n",
    "\n",
    "    ret = minimize(objective_function,\n",
    "        x0=initial_parameters, \n",
    "\n",
    "        \n",
    "        # a custom minimizer \n",
    "        method='nelder-mead',\n",
    "        options={'xatol':tol, 'fatol':tol, 'maxiter': max_iter, 'maxfev': max_iter, 'disp': False},\n",
    "                   \n",
    "        callback=callback) \n",
    "    \n",
    "    print(f\"\\n... my_minimizer completed, return = \\n{ret}\")\n",
    "    return ret\n",
    "\n",
    "# Additional arguments specific to Hydrogen Lattice benchmark method 2\n",
    "hl_app_args = dict(   \n",
    "\n",
    "    max_iter=30,                # maximum minimizer iterations to perform\n",
    "    comfort=True,               # show 'comfort dots' during execution\n",
    "   \n",
    "    minimizer_function=my_minimizer,   # use custom minimizer function\n",
    ")\n",
    "\n",
    "# Run the benchmark in method 2\n",
    "hydrogen_lattice_benchmark.run(\n",
    "    min_qubits=min_qubits, max_qubits=max_qubits, max_circuits=max_circuits, num_shots=num_shots,\n",
    "    method=2, \n",
    "    backend_id=backend_id, provider_backend=provider_backend,\n",
    "    hub=hub, group=group, project=project, exec_options=exec_options,\n",
    "    **hl_app_args\n",
    ")"
   ]
  },
  {
   "cell_type": "markdown",
   "metadata": {},
   "source": [
    "### Hydrogen Lattice - Execute Objective Function\n",
    "\n",
    "This example shows how to perform a single execution of the objective function to obtain the energy computed for a specific set of parameters.\n",
    "Be sure to execute the first cell to set the backend arguments, or set them here."
   ]
  },
  {
   "cell_type": "code",
   "execution_count": null,
   "metadata": {},
   "outputs": [],
   "source": [
    "import sys\n",
    "sys.path.insert(1, \"hydrogen-lattice/qiskit\")\n",
    "import hydrogen_lattice_benchmark\n",
    " \n",
    "# Arguments specific to execution of single instance of the Hydrogen Lattice objective function\n",
    "hl_app_args = dict(\n",
    "\n",
    "    num_qubits=4,               # problem size, dexscribed by number of qubits\n",
    "    num_shots=1000,             # number of shots to perform\n",
    "    \n",
    "    radius=1.0,                # select single problem radius, None = use first radius   \n",
    "    \n",
    "    parameter_mode=1,           # 1 - use single theta parameter, 2 - map multiple thetas to pairs\n",
    "    thetas_array=[ 0.0 ],       # use custom thetas_array\n",
    "    \n",
    "    backend_id=backend_id,\n",
    "    provider_backend=provider_backend,\n",
    "    hub=hub, group=group,\n",
    "    project=project, exec_options=exec_options,\n",
    ")\n",
    "\n",
    "# Execute the objective function once with the given arguments\n",
    "energy, key_metrics = hydrogen_lattice_benchmark.run_objective_function(**hl_app_args)\n",
    "\n",
    "# Print the return value of energy\n",
    "print(f\"Final Energy value = {energy}\")\n",
    "\n",
    "# Print key metrics from execution\n",
    "print(f\"Key Metrics = {key_metrics}\")\n"
   ]
  },
  {
   "cell_type": "markdown",
   "metadata": {},
   "source": [
    "### Hydrogen Lattice - Execute Multiple Restarts\n",
    "\n",
    "This example shows how to perform multiple restarts of benchmark method (2) in order to generate statistics for results.\n",
    "Be sure to execute the first cell to set the backend arguments, or set them here."
   ]
  },
  {
   "cell_type": "code",
   "execution_count": null,
   "metadata": {},
   "outputs": [],
   "source": [
    "import sys\n",
    "sys.path.insert(1, \"hydrogen-lattice/qiskit\")\n",
    "import hydrogen_lattice_benchmark\n",
    "\n",
    "# Arguments specific to Hydrogen Lattice benchmark method (2)\n",
    "hl_app_args = dict(\n",
    "    \n",
    "    min_qubits=2,               # configure min, max widths, and shots here\n",
    "    max_qubits=4,\n",
    "    num_shots=1000,\n",
    "    \n",
    "    max_circuits=4,             # number of 'restarts' to perform at same radius\n",
    "    \n",
    "    radius=0.75,                # select single problem radius for multiple execution of same circuit\n",
    "  \n",
    "    thetas_array=None,          # specify a custom thetas_array\n",
    "    parameter_mode=1,           # 1 - use single theta parameter, 2 - map multiple thetas to pairs\n",
    "    parameterized=False,        # use Parameter objects in circuit, cache transpiled circuits for performance\n",
    "    \n",
    "    max_iter=30,                # maximum minimizer iterations to perform\n",
    "    minimizer_tolerance=0.001,  # tolerance passed to the minimizer\n",
    "    comfort=True,               # show 'comfort dots' during execution\n",
    "    \n",
    "    # disable print of results at every iteration\n",
    "    show_results_summary=False,\n",
    "    \n",
    "    # display options for bar plots (exec time, accuracy ratio)\n",
    "    bar_y_metrics=[\"average_exec_times\", \"accuracy_ratio_error\"],\n",
    "    bar_x_metrics=[\"num_qubits\"],\n",
    "    use_logscale_for_times=True,                                  # use log scale for cumulative exec time bar chart\n",
    "    show_elapsed_times=True,                                      # include elapsed time in average_exec_times plot\n",
    "    \n",
    "    # disable options for line plots and area plots\n",
    "    line_y_metrics=None,\n",
    "    score_metric=None, \n",
    ")\n",
    "\n",
    "# Run the benchmark in method 2\n",
    "hydrogen_lattice_benchmark.run(method=2, \n",
    "    backend_id=backend_id, provider_backend=provider_backend,\n",
    "    hub=hub, group=group, project=project, exec_options=exec_options,\n",
    "    **hl_app_args)"
   ]
  },
  {
   "cell_type": "code",
   "execution_count": null,
   "metadata": {},
   "outputs": [],
   "source": []
  }
 ],
 "metadata": {
  "kernelspec": {
   "display_name": "Python 3 (ipykernel)",
   "language": "python",
   "name": "python3"
  },
  "language_info": {
   "codemirror_mode": {
    "name": "ipython",
    "version": 3
   },
   "file_extension": ".py",
   "mimetype": "text/x-python",
   "name": "python",
   "nbconvert_exporter": "python",
   "pygments_lexer": "ipython3",
   "version": "3.8.5"
  }
 },
 "nbformat": 4,
 "nbformat_minor": 4
}
