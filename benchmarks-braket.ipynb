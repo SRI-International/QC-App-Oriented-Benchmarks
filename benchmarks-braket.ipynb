{
 "cells": [
  {
   "cell_type": "markdown",
   "metadata": {},
   "source": [
    "### QED-C Application-Oriented Benchmarks - Braket Version\n",
    "The notebook contains a suite of prototype application-oriented benchmarks for the Amazon Braket API.\n",
    "Configure and run the cell below with the desired execution settings.\n",
    "Then execute the remaining cells, each containing one benchmark program."
   ]
  },
  {
   "cell_type": "code",
   "execution_count": null,
   "metadata": {},
   "outputs": [],
   "source": [
    "# Default Benchmark Parameters\n",
    "min_qubits=2\n",
    "max_qubits=8\n",
    "max_circuits=3\n",
    "num_shots=100\n",
    "\n",
    "backend_id = \"simulator\"\n",
    "\n",
    "# # *** To run benchmarks in Braket, you must have an Amazon Braket account\n",
    "# # Set your access key, default region and S3 info here, or set in shell variables before starting notebook\n",
    "# import os\n",
    "# os.environ[\"AWS_ACCESS_KEY_ID\"] = \"YOUR_AWS_ACCESS_KEY_ID\"\n",
    "# os.environ[\"AWS_SECRET_ACCESS_KEY\"] = \"YOUR_AWS_SECRET_ACCESS_KEY\"\n",
    "# os.environ[\"AWS_DEFAULT_REGION\"] = \"YOUR_AWS_DEFAULT_REGION\"\n",
    "# os.environ[\"AWS_BRAKET_S3_BUCKET\"] = \"YOUR_AWS_BRAKET_S3_BUCKET\"\n",
    "# os.environ[\"AWS_BRAKET_S3_PREFIX\"] = \"YOUR_AWS_BRAKET_S3_PREFIX\"\n",
    "\n",
    "# # *** Select a managed device on which to run the benchmarks\n",
    "# backend_id = \"arn:aws:braket:::device/quantum-simulator/amazon/sv1\"\n",
    "# backend_id = \"arn:aws:braket:::device/qpu/rigetti/Aspen-9\"\n",
    "# backend_id = \"arn:aws:braket:::device/qpu/ionq/ionQdevice\"\n",
    "\n",
    "# # *** Uncomment these to override benchmark parameters here if you like\n",
    "# # (typically to use smaller numbers for quantum hardware devices, to minimize costs)\n",
    "# min_qubits=2\n",
    "# max_qubits=5\n",
    "# max_circuits=1\n",
    "# num_shots=50"
   ]
  },
  {
   "cell_type": "markdown",
   "metadata": {},
   "source": [
    "### Deutsch-Jozsa"
   ]
  },
  {
   "cell_type": "code",
   "execution_count": null,
   "metadata": {
    "scrolled": false
   },
   "outputs": [],
   "source": [
    "import sys\n",
    "sys.path.insert(1, \"deutsch-jozsa/braket\")\n",
    "import dj_benchmark\n",
    "dj_benchmark.run(min_qubits=min_qubits, max_qubits=max_qubits, max_circuits=max_circuits, num_shots=num_shots,\n",
    "                backend_id=backend_id)"
   ]
  },
  {
   "cell_type": "markdown",
   "metadata": {},
   "source": [
    "### Bernstein-Vazirani"
   ]
  },
  {
   "cell_type": "code",
   "execution_count": null,
   "metadata": {
    "scrolled": false
   },
   "outputs": [],
   "source": [
    "import sys\n",
    "sys.path.insert(1, \"bernstein-vazirani/braket\")\n",
    "import bv_benchmark\n",
    "bv_benchmark.run(min_qubits=min_qubits, max_qubits=max_qubits, max_circuits=max_circuits, num_shots=num_shots,\n",
    "                backend_id=backend_id)"
   ]
  },
  {
   "cell_type": "markdown",
   "metadata": {},
   "source": [
    "### Hidden Shift"
   ]
  },
  {
   "cell_type": "code",
   "execution_count": null,
   "metadata": {
    "scrolled": false
   },
   "outputs": [],
   "source": [
    "import sys\n",
    "sys.path.insert(1, \"hidden-shift/braket\")\n",
    "import hs_benchmark\n",
    "hs_benchmark.run(min_qubits=min_qubits, max_qubits=max_qubits, max_circuits=max_circuits, num_shots=num_shots, \n",
    "                backend_id=backend_id)"
   ]
  },
  {
   "cell_type": "markdown",
   "metadata": {},
   "source": [
    "### Quantum Fourier Transform - Method 1"
   ]
  },
  {
   "cell_type": "code",
   "execution_count": null,
   "metadata": {
    "scrolled": false
   },
   "outputs": [],
   "source": [
    "import sys\n",
    "sys.path.insert(1, \"quantum-fourier-transform/braket\")\n",
    "import qft_benchmark\n",
    "qft_benchmark.run(min_qubits=min_qubits, max_qubits=max_qubits, max_circuits=max_circuits, num_shots=num_shots,\n",
    "                method=1,\n",
    "                backend_id=backend_id)"
   ]
  },
  {
   "cell_type": "markdown",
   "metadata": {},
   "source": [
    "### Quantum Fourier Transform - Method 2"
   ]
  },
  {
   "cell_type": "code",
   "execution_count": null,
   "metadata": {
    "scrolled": false
   },
   "outputs": [],
   "source": [
    "import sys\n",
    "sys.path.insert(1, \"quantum-fourier-transform/braket\")\n",
    "import qft_benchmark\n",
    "qft_benchmark.run(min_qubits=min_qubits, max_qubits=max_qubits, max_circuits=max_circuits, num_shots=num_shots,\n",
    "                method=2,\n",
    "                backend_id=backend_id)"
   ]
  },
  {
   "cell_type": "markdown",
   "metadata": {},
   "source": [
    "### Grover"
   ]
  },
  {
   "cell_type": "code",
   "execution_count": null,
   "metadata": {
    "scrolled": false
   },
   "outputs": [],
   "source": [
    "import sys\n",
    "sys.path.insert(1, \"grovers/braket\")\n",
    "import grovers_benchmark  \n",
    "grovers_benchmark.run(min_qubits=min_qubits, max_qubits=max_qubits, max_circuits=max_circuits, num_shots=num_shots,\n",
    "                backend_id=backend_id)"
   ]
  },
  {
   "cell_type": "markdown",
   "metadata": {},
   "source": [
    "### Phase Estimation"
   ]
  },
  {
   "cell_type": "code",
   "execution_count": null,
   "metadata": {
    "scrolled": false
   },
   "outputs": [],
   "source": [
    "import sys\n",
    "sys.path.insert(1, \"phase-estimation/braket\")\n",
    "import pe_benchmark\n",
    "pe_benchmark.run(min_qubits=min_qubits, max_qubits=max_qubits, max_circuits=max_circuits, num_shots=num_shots,\n",
    "                backend_id=backend_id)"
   ]
  },
  {
   "cell_type": "markdown",
   "metadata": {},
   "source": [
    "### Hamiltonian Simulation"
   ]
  },
  {
   "cell_type": "code",
   "execution_count": null,
   "metadata": {
    "scrolled": false
   },
   "outputs": [],
   "source": [
    "import sys\n",
    "sys.path.insert(1, \"hamiltonian-simulation/braket\")\n",
    "import hamiltonian_simulation_benchmark\n",
    "hamiltonian_simulation_benchmark.run(min_qubits=min_qubits, max_qubits=max_qubits,\n",
    "                max_circuits=max_circuits, num_shots=num_shots,\n",
    "                backend_id=backend_id)"
   ]
  }
 ],
 "metadata": {
  "kernelspec": {
   "display_name": "Python 3",
   "language": "python",
   "name": "python3"
  },
  "language_info": {
   "codemirror_mode": {
    "name": "ipython",
    "version": 3
   },
   "file_extension": ".py",
   "mimetype": "text/x-python",
   "name": "python",
   "nbconvert_exporter": "python",
   "pygments_lexer": "ipython3",
   "version": "3.8.5"
  }
 },
 "nbformat": 4,
 "nbformat_minor": 4
}
