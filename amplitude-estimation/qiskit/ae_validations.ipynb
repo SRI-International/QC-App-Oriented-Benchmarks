{
 "cells": [
  {
   "cell_type": "code",
   "execution_count": 1,
   "metadata": {},
   "outputs": [],
   "source": [
    "import matplotlib.pyplot as plt\n",
    "import numpy as np       \n",
    "import copy\n",
    "\n",
    "from qiskit import QuantumCircuit, QuantumRegister, ClassicalRegister, assemble\n",
    "from collections.abc import Iterable\n",
    "\n",
    "import sys\n",
    "sys.path.insert(1, \"amplitude_estimation/qiskit\")\n",
    "import ae_benchmark\n",
    "from ae_benchmark import *\n"
   ]
  },
  {
   "cell_type": "markdown",
   "metadata": {},
   "source": [
    "## A-gen-prep Circuit Verification"
   ]
  },
  {
   "cell_type": "code",
   "execution_count": 2,
   "metadata": {},
   "outputs": [
    {
     "name": "stdout",
     "output_type": "stream",
     "text": [
      "{'1111': 128, '0000': 872}\n"
     ]
    }
   ],
   "source": [
    "num_q = 3\n",
    "\n",
    "qr_ = QuantumRegister(num_q+1)\n",
    "cr_ = ClassicalRegister(num_q+1)\n",
    "qc_ = QuantumCircuit(qr_, cr_)\n",
    "\n",
    "a = 1/8\n",
    "\n",
    "A = A_gen(num_q, a)\n",
    "_, Q = Ctrl_Q(num_q, A)\n",
    "\n",
    "qc_.append(A, qr_)\n",
    "# qc_.append(Q, qr_)\n",
    "qc_.measure(qr_, cr_)\n",
    "\n",
    "\n",
    "from qiskit import execute, Aer\n",
    "backend = Aer.get_backend(\"qasm_simulator\")\n",
    "job = execute(qc_, backend, shots=1000)\n",
    "result = job.result()\n",
    "counts = result.get_counts()\n",
    "print(counts)"
   ]
  },
  {
   "cell_type": "code",
   "execution_count": 3,
   "metadata": {},
   "outputs": [],
   "source": [
    "# Construct A operator that takes |0>_{n+1} to sqrt(1-a) |psi_0>|0> + sqrt(a) |psi_1>|1>\n",
    "def A_gen(num_state_qubits, a, psi_zero=None, psi_one=None):\n",
    "\n",
    "    if psi_zero==None:\n",
    "        psi_zero = '0'*num_state_qubits\n",
    "    if psi_one==None:\n",
    "        psi_one = '1'*num_state_qubits\n",
    "        \n",
    "    theta = 2 * np.arcsin(np.sqrt(a))\n",
    "    # Let the objective be qubit index n; state is on qubits 0 through n-1\n",
    "    qc_A = QuantumCircuit(num_state_qubits+1, name=f\"A\")\n",
    "    \n",
    "    qc_A.ry(theta, num_state_qubits)\n",
    "    \n",
    "    qc_A.x(num_state_qubits)\n",
    "\n",
    "    for i in range(num_state_qubits):\n",
    "        if psi_zero[i]=='1':\n",
    "            qc_A.cnot(num_state_qubits,i)\n",
    "            \n",
    "    qc_A.x(num_state_qubits)\n",
    "    \n",
    "    for i in range(num_state_qubits):\n",
    "        if psi_one[i]=='1':\n",
    "            qc_A.cnot(num_state_qubits,i)\n",
    "\n",
    "    return qc_A"
   ]
  },
  {
   "cell_type": "markdown",
   "metadata": {},
   "source": [
    "## Ctrl_Q Validations"
   ]
  },
  {
   "cell_type": "code",
   "execution_count": 8,
   "metadata": {},
   "outputs": [
    {
     "data": {
      "text/html": [
       "<pre style=\"word-wrap: normal;white-space: pre;background: #fff0;line-height: 1.1;font-family: &quot;Courier New&quot;,Courier,monospace\">       ┌────┐\n",
       "q18_0: ┤0   ├\n",
       "       │  Q │\n",
       "q18_1: ┤1   ├\n",
       "       └────┘\n",
       " c4: 2/══════\n",
       "             </pre>"
      ],
      "text/plain": [
       "       ┌────┐\n",
       "q18_0: ┤0   ├\n",
       "       │  Q │\n",
       "q18_1: ┤1   ├\n",
       "       └────┘\n",
       " c4: 2/══════\n",
       "             "
      ]
     },
     "metadata": {},
     "output_type": "display_data"
    },
    {
     "name": "stdout",
     "output_type": "stream",
     "text": [
      "Operator([[ 6.00000000e-01-4.28626380e-16j,\n",
      "           -9.79717439e-17+7.19884696e-32j,\n",
      "           -7.34788079e-17+3.29947152e-32j,\n",
      "           -8.00000000e-01+6.49062804e-16j],\n",
      "          [-1.95943488e-16+1.13981743e-31j,\n",
      "           -1.00000000e+00+6.98048676e-16j,\n",
      "           -5.99903913e-33-1.22464680e-17j,\n",
      "           -2.44929360e-17+5.99903913e-33j],\n",
      "          [ 2.44929360e-17-2.54959163e-32j,\n",
      "           -8.99855870e-33+1.22464680e-17j,\n",
      "            1.00000000e+00-6.49062804e-16j,\n",
      "           -7.34788079e-17+7.04887098e-32j],\n",
      "          [ 8.00000000e-01-4.28626380e-16j,\n",
      "           -1.71450552e-16+1.18481023e-31j,\n",
      "            2.44929360e-17-1.34978380e-32j,\n",
      "            6.00000000e-01-3.79640508e-16j]],\n",
      "         input_dims=(2, 2), output_dims=(2, 2))\n"
     ]
    }
   ],
   "source": [
    "num_q = 1\n",
    "\n",
    "qr_ = QuantumRegister(num_q+1)\n",
    "cr_ = ClassicalRegister(num_q+1)\n",
    "qc_ = QuantumCircuit(qr_, cr_)\n",
    "\n",
    "a = 1/5\n",
    "\n",
    "A = A_gen(num_q, a)\n",
    "_, Q = Ctrl_Q(num_q, A)\n",
    "\n",
    "qc_.append(Q, qr_)\n",
    "display(qc_.draw())\n",
    "qc_ = qc_.decompose().decompose()\n",
    "\n",
    "usim = Aer.get_backend('unitary_simulator')\n",
    "#qobj = assemble(qc_)\n",
    "unitary = usim.run(qc_).result().get_unitary()\n",
    "print(unitary)\n",
    "#print(np.matrix.round(unitary, 6))"
   ]
  },
  {
   "cell_type": "code",
   "execution_count": 9,
   "metadata": {},
   "outputs": [],
   "source": [
    "# Construct the grover-like operator and a controlled version of it\n",
    "def Ctrl_Q(num_state_qubits, A_circ):\n",
    "\n",
    "    # index n is the objective qubit, and indexes 0 through n-1 are state qubits\n",
    "    qc = QuantumCircuit(num_state_qubits+1, name=f\"Q\")\n",
    "    \n",
    "    temp_A = copy.copy(A_circ)\n",
    "    A_gate = temp_A.to_gate()\n",
    "    A_gate_inv = temp_A.inverse().to_gate()\n",
    "    \n",
    "    ### Each cycle in Q applies in order: S_chi, A_circ_inverse, S_0, A_circ \n",
    "    # S_chi\n",
    "    qc.z(num_state_qubits)\n",
    "        \n",
    "    # A_circ_inverse\n",
    "    qc.append(A_gate_inv, [i for i in range(num_state_qubits+1)])\n",
    "        \n",
    "    # S_0\n",
    "    for i in range(num_state_qubits+1):\n",
    "        qc.x(i)\n",
    "    qc.h(num_state_qubits)\n",
    "    \n",
    "    qc.mcx([x for x in range(num_state_qubits)], num_state_qubits)\n",
    "    \n",
    "    qc.h(num_state_qubits)\n",
    "    for i in range(num_state_qubits+1):\n",
    "        qc.x(i)\n",
    "        \n",
    "    # A_circ\n",
    "    qc.append(A_gate, [i for i in range(num_state_qubits+1)])\n",
    "\n",
    "    # add \"global\" phase\n",
    "    qc.x(num_state_qubits)\n",
    "    qc.z(num_state_qubits)\n",
    "    qc.x(num_state_qubits)\n",
    "    qc.z(num_state_qubits)\n",
    "    \n",
    "    # Create a gate out of the Q operator\n",
    "    qc.to_gate(label='Q')\n",
    "    \n",
    "    # and also a controlled version of it\n",
    "    Ctrl_Q_ = qc.control(1)\n",
    "    \n",
    "    # and return both\n",
    "    return Ctrl_Q_, qc"
   ]
  },
  {
   "cell_type": "code",
   "execution_count": null,
   "metadata": {},
   "outputs": [],
   "source": []
  }
 ],
 "metadata": {
  "kernelspec": {
   "display_name": "Python 3 (ipykernel)",
   "language": "python",
   "name": "python3"
  },
  "language_info": {
   "codemirror_mode": {
    "name": "ipython",
    "version": 3
   },
   "file_extension": ".py",
   "mimetype": "text/x-python",
   "name": "python",
   "nbconvert_exporter": "python",
   "pygments_lexer": "ipython3",
   "version": "3.8.8"
  }
 },
 "nbformat": 4,
 "nbformat_minor": 4
}
