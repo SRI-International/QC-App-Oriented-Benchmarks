{
 "cells": [
  {
   "cell_type": "markdown",
   "metadata": {},
   "source": [
    "### Maxcut Runtime"
   ]
  },
  {
   "cell_type": "markdown",
   "metadata": {},
   "source": [
    "### Preparing Execution"
   ]
  },
  {
   "cell_type": "code",
   "execution_count": 1,
   "metadata": {
    "scrolled": true
   },
   "outputs": [],
   "source": [
    "min_qubits=4\n",
    "max_qubits=8\n",
    "max_circuits=1\n",
    "num_shots=5000\n",
    "\n",
    "degree = 3\n",
    "rounds = 1\n",
    "max_iter = 30\n",
    "parameterized = False\n",
    "\n",
    "max_execution_time = 100_000 # seconds\n",
    "\n",
    "backend_id=\"ibmq_qasm_simulator\"\n",
    "# hub=\"ibm-q\"; group=\"open\"; project=\"main\"\n",
    "hub=\"ibm-q-research\"; group=\"quantum-circ-1\"; project=\"main\"\n",
    "provider_backend = None\n",
    "exec_options = None\n",
    "\n",
    "API_TOKEN = \"your_api_token\"\n",
    "\n",
    "# # *** If using IBMQ hardware, run this once to authenticate\n",
    "# from qiskit import IBMQ\n",
    "# IBMQ.save_account(API_TOKEN)\n",
    "\n",
    "# # *** If you are part of an IBMQ group, set hub, group, and project name here\n",
    "# hub=\"YOUR_HUB_NAME\"\n",
    "# group=\"YOUR_GROUP_NAME\"\n",
    "# project=\"YOUR_PROJECT_NAME\"\n",
    "\n",
    "# # *** This example shows how to specify the backend using a known \"backend_id\"\n",
    "# # Use 'sabre' layout for IBM backends\n",
    "# exec_options = { \"optimization_level\":3, \"layout_method\":'sabre', \"routing_method\":'sabre' }\n",
    "# backend_id=\"ibmq_belem\"\n",
    "\n",
    "# # *** Here's an example of using a typical custom provider backend (e.g. AQT simulator)\n",
    "# import os\n",
    "# from qiskit_aqt_provider import AQTProvider\n",
    "# provider = AQTProvider(os.environ.get('AQT_ACCESS_KEY'))    # get your key from environment\n",
    "# provider_backend = provider.backends.aqt_qasm_simulator_noise_1\n",
    "# backend_id=\"aqt_qasm_simulator_noise_1\"\n",
    "\n",
    "# # An example using IonQ provider\n",
    "# from qiskit_ionq import IonQProvider\n",
    "# provider = IonQProvider()   # Be sure to set the QISKIT_IONQ_API_TOKEN environment variable\n",
    "# provider_backend = provider.get_backend(\"ionq_qpu\")\n",
    "# backend_id=\"ionq_qpu\"\n",
    "\n",
    "# # *** Use these settings for better results\n",
    "# min_qubits=4\n",
    "# max_qubits=10\n",
    "# max_circuits=2\n",
    "# num_shots=50000"
   ]
  },
  {
   "cell_type": "code",
   "execution_count": 2,
   "metadata": {},
   "outputs": [],
   "source": [
    "import uuid\n",
    "from qiskit_ibm_runtime import QiskitRuntimeService\n",
    "import runtime_utils\n",
    "\n",
    "# Creating runtime script to be uploaded\n",
    "RUNTIME_FILENAME = 'maxcut_runtime.py'\n",
    "runtime_utils.create_runtime_script(file_name=RUNTIME_FILENAME)\n",
    "\n",
    "# Meta data required by qiskit runtime\n",
    "meta = {\n",
    "  \"name\": f\"qedc-maxcut-benchmark-{uuid.uuid4()}\",\n",
    "  \"description\": \"A sample Maxcut Benchmark program.\",\n",
    "  \"max_execution_time\": 100_000,\n",
    "  \"version\": \"1.0\",\n",
    "}\n",
    "\n",
    "service = QiskitRuntimeService(\n",
    "    channel='ibm_quantum',\n",
    "    token=API_TOKEN\n",
    ")\n",
    "\n",
    "program_id = service.upload_program(data=RUNTIME_FILENAME, metadata=meta)"
   ]
  },
  {
   "cell_type": "markdown",
   "metadata": {},
   "source": [
    "### Executing benchmark on Runtime Servers"
   ]
  },
  {
   "cell_type": "code",
   "execution_count": 13,
   "metadata": {},
   "outputs": [
    {
     "name": "stdout",
     "output_type": "stream",
     "text": [
      "job.job_id = 'cc35pb2mdvp8l6t0h2o0'\n",
      "job.program_id = 'qedc-maxcut-benchmark-330a4958-88ed-498a-974b-9db6fc-vaewXrmB0g'\n"
     ]
    }
   ],
   "source": [
    "from qiskit import IBMQ\n",
    "import json\n",
    "\n",
    "import traceback\n",
    "import os\n",
    "\n",
    "\n",
    "IBMQ.load_account()\n",
    "\n",
    "provider = IBMQ.get_provider(hub=hub, group=group, project=project)\n",
    "\n",
    "options = {\n",
    "    'backend_name': backend_id\n",
    "}\n",
    "\n",
    "with open(os.path.join(\"..\", \"_common\", \"instances.json\"), \"r\") as file:\n",
    "    insts = json.load(file)\n",
    "\n",
    "runtime_inputs = {\n",
    "    \"backend_id\": backend_id,\n",
    "    \"method\": 2,\n",
    "    \"_instances\": insts,\n",
    "    \"min_qubits\": min_qubits,\n",
    "    \"max_qubits\": max_qubits,\n",
    "    \"max_circuits\": max_circuits,\n",
    "    \"num_shots\": num_shots,\n",
    "\n",
    "    \"degree\": degree,\n",
    "    \"rounds\": rounds,\n",
    "    \"max_iter\": max_iter,\n",
    "    \"parameterized\": parameterized\n",
    "}\n",
    "\n",
    "try:\n",
    "    job = service.run(\n",
    "        program_id=program_id,\n",
    "        options=options,\n",
    "        inputs=runtime_inputs,\n",
    "        instance=f'{hub}/{group}/{project}'\n",
    "    )\n",
    "\n",
    "    print(f'{job.creation_date.ctime() = }')\n",
    "    print(f'{job.job_id = }')\n",
    "    print(f'{job.program_id = }')\n",
    "\n",
    "except Exception as e:\n",
    "    print(f'The Exception {e} has occurred!')\n",
    "    # Prints full traceback for easier debugging\n",
    "    print(traceback.format_exc())\n",
    "\n",
    "finally:\n",
    "    IBMQ.disable_account()\n",
    "\n",
    "job_id = job.job_id\n",
    "%store job_id"
   ]
  },
  {
   "cell_type": "markdown",
   "metadata": {},
   "source": [
    "### Get result directly from job"
   ]
  },
  {
   "cell_type": "code",
   "execution_count": 8,
   "metadata": {},
   "outputs": [],
   "source": [
    "# Get results\n",
    "\n",
    "result = job.result()"
   ]
  },
  {
   "cell_type": "markdown",
   "metadata": {},
   "source": [
    "### Get result from `job_id`"
   ]
  },
  {
   "cell_type": "code",
   "execution_count": 22,
   "metadata": {},
   "outputs": [],
   "source": [
    "retrieved_result = provider.runtime.job(job.job_id)\n",
    "result = retrieved_result.result()"
   ]
  },
  {
   "cell_type": "markdown",
   "metadata": {},
   "source": [
    "### Save results to file"
   ]
  },
  {
   "cell_type": "code",
   "execution_count": 11,
   "metadata": {},
   "outputs": [],
   "source": [
    "result[\"meta\"] = {\n",
    "    \"creation_date\": job.creation_date.ctime(),\n",
    "    \"job_id\": job.job_id,\n",
    "    \"program_id\": job.program_id,\n",
    "}\n",
    "\n",
    "import json\n",
    "RUNTIME_RESULTS_FILENAME = 'runtime_results.json'\n",
    "with open(RUNTIME_RESULTS_FILENAME, 'w+') as file:\n",
    "    json.dump(result, file)"
   ]
  }
 ],
 "metadata": {
  "kernelspec": {
   "display_name": "Python 3.10.4 ('QEDC-qiskit')",
   "language": "python",
   "name": "python3"
  },
  "language_info": {
   "codemirror_mode": {
    "name": "ipython",
    "version": 3
   },
   "file_extension": ".py",
   "mimetype": "text/x-python",
   "name": "python",
   "nbconvert_exporter": "python",
   "pygments_lexer": "ipython3",
   "version": "3.10.4"
  },
  "orig_nbformat": 4,
  "vscode": {
   "interpreter": {
    "hash": "4edcc741b34098d786431ef295201419a38b7eac01f02aac783a5df30157881b"
   }
  }
 },
 "nbformat": 4,
 "nbformat_minor": 2
}
