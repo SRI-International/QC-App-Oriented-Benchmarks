{
 "cells": [
  {
   "cell_type": "markdown",
   "metadata": {},
   "source": [
    "### Max-Cut Benchmark on Qiskit Runtime\n",
    "This notebook provides all the tools needed to execute the benchmark program using Qiskit Runtime Service.\n",
    "Here, we assemble the benchmark files and data into a single .py file and .json file and upload it to Runtime.\n",
    "Then, the benchmark is executed, collects data, and returns those data in an object which we then save to local files.\n",
    "We then execute the plot function to illustrate results."
   ]
  },
  {
   "cell_type": "markdown",
   "metadata": {},
   "source": [
    "### Setting Parameters "
   ]
  },
  {
   "cell_type": "code",
   "execution_count": null,
   "metadata": {
    "scrolled": true
   },
   "outputs": [],
   "source": [
    "min_qubits=4\n",
    "max_qubits=6\n",
    "max_circuits=1\n",
    "num_shots=1000\n",
    "\n",
    "degree = 3\n",
    "rounds = 2\n",
    "max_iter = 30\n",
    "parameterized = True\n",
    "use_fixed_angles=False\n",
    "\n",
    "max_execution_time = 100_000 # seconds\n",
    "\n",
    "backend_id=\"ibmq_qasm_simulator\"\n",
    "hub=\"ibm-q\"; group=\"open\"; project=\"main\"\n",
    "provider_backend = None\n",
    "exec_options = None\n",
    "\n",
    "# # *** If using IBMQ hardware, run this once to authenticate\n",
    "# from qiskit_ibm_runtime import QiskitRuntimeService\n",
    "# Another valid option for channel is \"ibm_cloud\"\n",
    "# QiskitRuntimeService.save_account(channel=\"ibm_quantum\", token=\"YOUR_API_TOKEN\")\n",
    "\n",
    "# # *** If you are part of an IBMQ group, set hub, group, and project name here\n",
    "# hub=\"YOUR_HUB_NAME\"\n",
    "# group=\"YOUR_GROUP_NAME\"\n",
    "# project=\"YOUR_PROJECT_NAME\"\n",
    "\n",
    "# # *** This example shows how to specify the backend using a known \"backend_id\"\n",
    "# # Use 'sabre' layout for IBM backends\n",
    "# exec_options = { \"optimization_level\":3, \"layout_method\":'sabre', \"routing_method\":'sabre' }\n",
    "# backend_id=\"ibmq_belem\"\n",
    "\n",
    "# # *** Here's an example of using a typical custom provider backend (e.g. AQT simulator)\n",
    "# import os\n",
    "# from qiskit_aqt_provider import AQTProvider\n",
    "# provider = AQTProvider(os.environ.get('AQT_ACCESS_KEY'))    # get your key from environment\n",
    "# provider_backend = provider.backends.aqt_qasm_simulator_noise_1\n",
    "# backend_id=\"aqt_qasm_simulator_noise_1\"\n",
    "\n",
    "# # An example using IonQ provider\n",
    "# from qiskit_ionq import IonQProvider\n",
    "# provider = IonQProvider()   # Be sure to set the QISKIT_IONQ_API_TOKEN environment variable\n",
    "# provider_backend = provider.get_backend(\"ionq_qpu\")\n",
    "# backend_id=\"ionq_qpu\"\n",
    "\n",
    "# # *** Use these settings for better results\n",
    "# min_qubits=4\n",
    "# max_qubits=10\n",
    "# max_circuits=2\n",
    "# num_shots=50000\n",
    "\n",
    "# For execution on Qiskit Runtime Service\n",
    "from qiskit_ibm_runtime import QiskitRuntimeService\n",
    "import runtime_utils\n",
    "\n",
    "# If interactive true -> ask user before continuing to execute\n",
    "interactive = True"
   ]
  },
  {
   "cell_type": "code",
   "execution_count": null,
   "metadata": {},
   "outputs": [],
   "source": [
    "# Custom optimization options can be specified in this cell (below is an example)\n",
    "\n",
    "# # Add Qiskit pass manager as a custom 'transformer' method\n",
    "# import _common.transformers.qiskit_passmgr as qiskit_passmgr\n",
    "# exec_options = { \"optimization_level\": 3, \"layout_method\":'sabre', \"routing_method\":'sabre', \"transformer\": qiskit_passmgr.do_transform }\n",
    "\n",
    "# # Example of TrueQ Randomized Compilation\n",
    "# import _common.transformers.trueq_rc as trueq_rc\n",
    "# exec_options = { \"optimization_level\":3, \"layout_method\":'sabre', \"routing_method\":'sabre', \"transformer\": trueq_rc.local_rc } \n",
    "\n",
    "# # Define a custom noise model to be used during execution\n",
    "# import _common.custom.custom_qiskit_noise_model as custom_qiskit_noise_model\n",
    "# exec_options = { \"noise_model\": custom_qiskit_noise_model.my_noise_model() }\n"
   ]
  },
  {
   "cell_type": "markdown",
   "metadata": {},
   "source": [
    "### Check the Status of Any Previous Job"
   ]
  },
  {
   "cell_type": "code",
   "execution_count": null,
   "metadata": {},
   "outputs": [],
   "source": [
    "# Determine whether a job has been previously run in this folder. \n",
    "# If so, obtain the job_id and job status stored locally\n",
    "job, job_status = runtime_utils.get_jobinfo(backend_id)\n",
    "\n",
    "do_execute = True\n",
    "\n",
    "# if there is a prior job, get job from job_id (to be moved to runtime_utils)\n",
    "if job:\n",
    "    print(f\"Job {job.job_id} is {job_status}\")\n",
    "    \n",
    "    # if running, ask for continue and wait, or abort?\n",
    "    # DEV NOTE: User could accidentally overwrite data\n",
    "    if job_status == \"RUNNING\": \n",
    "        response = \"y\"\n",
    "        if interactive:\n",
    "            response = input(\"... a RUNNING job was found, continue to wait for completion? (y/n)\")\n",
    "\n",
    "        if response.strip().lower() == \"y\":\n",
    "            do_execute = False\n",
    "    \n",
    "    # if DONE and not always_overwrite, do you want to overwrite ? if true set execute=True\n",
    "    if job_status == \"DONE\":\n",
    "        response = \"y\"\n",
    "        if interactive:\n",
    "            response = input(\"... a DONE job was found, re-execute and OVERWRITE data? (y/n)\")\n",
    "\n",
    "        if response.strip().lower() == \"n\":\n",
    "            do_execute = False\n",
    "    "
   ]
  },
  {
   "cell_type": "markdown",
   "metadata": {},
   "source": [
    "### Preparing Instances and Upload"
   ]
  },
  {
   "cell_type": "code",
   "execution_count": null,
   "metadata": {},
   "outputs": [],
   "source": [
    "if do_execute:\n",
    "\n",
    "    # Creating runtime script to be uploaded\n",
    "    RUNTIME_FILENAME = 'maxcut_runtime.py'\n",
    "    runtime_utils.create_runtime_script(file_name=RUNTIME_FILENAME)\n",
    "\n",
    "    # Read instance files into single dict to pass as runtime input\n",
    "    insts = runtime_utils.prepare_instances()\n",
    "\n",
    "    import uuid\n",
    "\n",
    "    # Meta data required by qiskit runtime\n",
    "    meta = {\n",
    "        \"name\": f\"qedc-maxcut-benchmark-{uuid.uuid4()}\",\n",
    "        \"description\": \"A sample Maxcut Benchmark program.\",\n",
    "        \"max_execution_time\": 100_000,\n",
    "        \"version\": \"1.0\",\n",
    "    }\n",
    "\n",
    "    service = QiskitRuntimeService()\n",
    "\n",
    "    program_id = service.upload_program(data=RUNTIME_FILENAME, metadata=meta)"
   ]
  },
  {
   "cell_type": "markdown",
   "metadata": {},
   "source": [
    "### Configuring Inputs and Execute"
   ]
  },
  {
   "cell_type": "code",
   "execution_count": null,
   "metadata": {},
   "outputs": [],
   "source": [
    "if do_execute:\n",
    "\n",
    "    options = {\n",
    "        'backend_name': backend_id\n",
    "    }\n",
    "\n",
    "    runtime_inputs = {\n",
    "        \"backend_id\": backend_id,\n",
    "        \"method\": 2,\n",
    "        \"_instances\": insts,\n",
    "        \"min_qubits\": min_qubits,\n",
    "        \"max_qubits\": max_qubits,\n",
    "        \"max_circuits\": max_circuits,\n",
    "        \"num_shots\": num_shots,\n",
    "\n",
    "        \"degree\": degree,\n",
    "        \"rounds\": rounds,\n",
    "        \"max_iter\": max_iter,\n",
    "        \"parameterized\": parameterized,\n",
    "        \"use_fixed_angles\": use_fixed_angles,\n",
    "        \"do_fidelities\": False,\n",
    "        \"score_metric\": \"approx_ratio\",\n",
    "        \"exec_options\": exec_options if exec_options else {\"noise_model\": None},\n",
    "\n",
    "        # To keep plots consistent\n",
    "        \"hub\": hub,\n",
    "        \"group\": group,\n",
    "        \"project\": project\n",
    "    }\n",
    "\n",
    "    job = service.run(\n",
    "        program_id=program_id,\n",
    "        options=options,\n",
    "        inputs=runtime_inputs,\n",
    "        instance=f'{hub}/{group}/{project}'\n",
    "    )\n",
    "\n",
    "    runtime_utils.save_jobinfo(backend_id, job.job_id, \"RUNNING\")\n",
    "\n",
    "    print(f'{job.creation_date.ctime() = }')\n",
    "    print(f'{job.job_id = }')\n",
    "    print(f'{job.program_id = }')"
   ]
  },
  {
   "cell_type": "markdown",
   "metadata": {},
   "source": [
    "### Get result directly from job"
   ]
  },
  {
   "cell_type": "code",
   "execution_count": null,
   "metadata": {},
   "outputs": [],
   "source": [
    "# Get results\n",
    "result = job.result()\n",
    "runtime_utils.save_jobinfo(backend_id, job.job_id, \"DONE\")\n",
    "#print(f\"\\nTotal wall time of execution: {result['wall_time']} secs\")"
   ]
  },
  {
   "cell_type": "markdown",
   "metadata": {},
   "source": [
    "### Save results to file"
   ]
  },
  {
   "cell_type": "code",
   "execution_count": null,
   "metadata": {},
   "outputs": [],
   "source": [
    "import maxcut_benchmark\n",
    "maxcut_benchmark.save_runtime_data(result)"
   ]
  },
  {
   "cell_type": "markdown",
   "metadata": {},
   "source": [
    "### Plot"
   ]
  },
  {
   "cell_type": "code",
   "execution_count": null,
   "metadata": {
    "scrolled": false
   },
   "outputs": [],
   "source": [
    "import os, maxcut_benchmark\n",
    "maxcut_benchmark.load_data_and_plot(os.path.join('__data', backend_id),\n",
    "                x_metric=['cumulative_exec_time', 'cumulative_elapsed_time', 'cumulative_opt_exec_time'])"
   ]
  },
  {
   "cell_type": "code",
   "execution_count": null,
   "metadata": {},
   "outputs": [],
   "source": []
  }
 ],
 "metadata": {
  "kernelspec": {
   "display_name": "Python 3",
   "language": "python",
   "name": "python3"
  },
  "language_info": {
   "codemirror_mode": {
    "name": "ipython",
    "version": 3
   },
   "file_extension": ".py",
   "mimetype": "text/x-python",
   "name": "python",
   "nbconvert_exporter": "python",
   "pygments_lexer": "ipython3",
   "version": "3.8.5"
  },
  "vscode": {
   "interpreter": {
    "hash": "75d2200142c66c5fbb35c7f80727bebcde4b96babbf3513d70fefa2144c7e6d3"
   }
  }
 },
 "nbformat": 4,
 "nbformat_minor": 2
}
