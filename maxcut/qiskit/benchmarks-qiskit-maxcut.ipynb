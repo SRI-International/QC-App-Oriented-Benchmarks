{
 "cells": [
  {
   "cell_type": "markdown",
   "metadata": {},
   "source": [
    "### QED-C Application-Oriented Benchmarks - Qiskit Version - Max-Cut\n",
    "The notebook contains Max-Cut application-oriented benchmark for the Qiskit API.\n",
    "Configure and run the cell below with the desired execution settings.\n",
    "Then execute the remaining cells, each containing one variation on the benchmark."
   ]
  },
  {
   "cell_type": "code",
   "execution_count": null,
   "metadata": {
    "scrolled": true
   },
   "outputs": [],
   "source": [
    "min_qubits=4\n",
    "max_qubits=8\n",
    "max_circuits=1\n",
    "num_shots=1000\n",
    "\n",
    "backend_id=\"qasm_simulator\"\n",
    "hub=\"ibm-q\"; group=\"open\"; project=\"main\"\n",
    "provider_backend = None\n",
    "exec_options = {}\n",
    "\n",
    "# # ==========================\n",
    "# # *** If using IBMQ hardware, run this once to authenticate\n",
    "# from qiskit import IBMQ\n",
    "# IBMQ.save_account('YOUR_API_TOKEN_HERE')\n",
    "\n",
    "# # *** If you are part of an IBMQ group, set hub, group, and project name here\n",
    "# hub=\"YOUR_HUB_NAME\"; group=\"YOUR_GROUP_NAME\"; project=\"YOUR_PROJECT_NAME\"\n",
    "\n",
    "# # *** This example shows how to specify an IBMQ backend using a known \"backend_id\"\n",
    "# exec_options = { \"optimization_level\":3, \"use_sessions\":True, \"resilience_level\":1}\n",
    "# backend_id=\"ibmq_belem\"\n",
    "\n",
    "# # ==========================\n",
    "# # *** If using Azure Quantum, use this hub identifier and specify the desired backend_id\n",
    "# # Identify your resources with env variables AZURE_QUANTUM_RESOURCE_ID and AZURE_QUANTUM_LOCATION\n",
    "# hub=\"azure-quantum\"; group=\"open\"; project=\"QED-C App-Oriented Benchmarks - Qiskit Version\"\n",
    "# backend_id=\"<YOUR_BACKEND_NAME_HERE>\"\n",
    "\n",
    "# # ==========================\n",
    "# The remaining examples create a provider instance and get a backend from it\n",
    "\n",
    "# # An example using IonQ provider\n",
    "# from qiskit_ionq import IonQProvider\n",
    "# provider = IonQProvider()   # Be sure to set the QISKIT_IONQ_API_TOKEN environment variable\n",
    "# provider_backend = provider.get_backend(\"ionq_qpu\")\n",
    "# backend_id=\"ionq_qpu\"\n",
    "\n",
    "# # An example using BlueQubit provider\n",
    "# import sys\n",
    "# sys.path.insert(1, \"../..\")\n",
    "# import os, bluequbit, _common.executors.bluequbit_executor as bluequbit_executor\n",
    "# provider_backend = bluequbit.init()\n",
    "# backend_id=\"BlueQubit-CPU\"\n",
    "# exec_options = { \"executor\": bluequbit_executor.run, \"device\":'cpu' }\n",
    "\n",
    "# # *** Here's an example of using a typical custom provider backend (e.g. AQT simulator)\n",
    "# import os\n",
    "# from qiskit_aqt_provider import AQTProvider\n",
    "# provider = AQTProvider(os.environ.get('AQT_ACCESS_KEY'))    # get your key from environment\n",
    "# provider_backend = provider.backends.aqt_qasm_simulator_noise_1\n",
    "# backend_id=\"aqt_qasm_simulator_noise_1\"\n"
   ]
  },
  {
   "cell_type": "code",
   "execution_count": null,
   "metadata": {},
   "outputs": [],
   "source": [
    "# Custom optimization options can be specified in this cell (below is an example)\n",
    "\n",
    "import sys\n",
    "sys.path.insert(1, \"../../\")\n",
    "\n",
    "# # Example of pytket Transformer\n",
    "# import _common.transformers.tket_optimiser as tket_optimiser\n",
    "# exec_options.update({ \"optimization_level\": 0, \"layout_method\":'sabre', \"routing_method\":'sabre', \"transformer\": tket_optimiser.high_optimisation })\n",
    "\n",
    "# # Define a custom noise model to be used during execution\n",
    "# import _common.custom.custom_qiskit_noise_model as custom_qiskit_noise_model\n",
    "# exec_options.update({ \"noise_model\": custom_qiskit_noise_model.my_noise_model() })\n",
    "\n",
    "# # Example of mthree error mitigation\n",
    "# import _common.postprocessors.mthree.mthree_em as mthree_em\n",
    "# exec_options.update({ \"postprocessor\": mthree_em.get_mthree_handlers(backend_id, provider_backend) })\n"
   ]
  },
  {
   "cell_type": "markdown",
   "metadata": {},
   "source": [
    "### Maxcut - Method 1"
   ]
  },
  {
   "cell_type": "code",
   "execution_count": null,
   "metadata": {
    "scrolled": false
   },
   "outputs": [],
   "source": [
    "import sys\n",
    "sys.path.insert(1, \"maxcut/qiskit\")\n",
    "import maxcut_benchmark\n",
    "\n",
    "# set noise to None for testing\n",
    "# import execute\n",
    "# execute.set_noise_model(None)\n",
    "\n",
    "maxcut_benchmark.run(\n",
    "    min_qubits=min_qubits, max_qubits=max_qubits, max_circuits=max_circuits, num_shots=num_shots,\n",
    "    method=1, rounds=1,\n",
    "    backend_id=backend_id, provider_backend=provider_backend,\n",
    "    hub=hub, group=group, project=project, exec_options=exec_options\n",
    ")"
   ]
  },
  {
   "cell_type": "markdown",
   "metadata": {},
   "source": [
    "### Maxcut - Method 2 - Degree 3 - Approximation Ratio as Objective Function"
   ]
  },
  {
   "cell_type": "code",
   "execution_count": null,
   "metadata": {
    "scrolled": false
   },
   "outputs": [],
   "source": [
    "import sys\n",
    "sys.path.insert(1, \"maxcut/qiskit\")\n",
    "import maxcut_benchmark\n",
    "\n",
    "# # set noise to None for testing\n",
    "# import execute\n",
    "# execute.set_noise_model(None)\n",
    "\n",
    "# execute and display options\n",
    "objective_func_type = 'approx_ratio'\n",
    "score_metric=['approx_ratio', 'cvar_ratio']\n",
    "x_metric=['cumulative_elapsed_time', 'cumulative_exec_time', 'cumulative_opt_exec_time']\n",
    "\n",
    "# Note: the plots produced by this benchmark only use the last of the problems at each width\n",
    "\n",
    "maxcut_benchmark.run(\n",
    "    min_qubits=min_qubits, max_qubits=max_qubits, max_circuits=max_circuits, num_shots=num_shots,\n",
    "    method=2, rounds=2, degree=3, do_fidelities=False, parameterized=False, use_fixed_angles=False,\n",
    "    score_metric=score_metric, x_metric=x_metric, save_res_to_file=True, comfort=True,\n",
    "    objective_func_type = objective_func_type,\n",
    "    backend_id=backend_id, provider_backend=provider_backend,\n",
    "    hub=hub, group=group, project=project, exec_options=exec_options\n",
    ")"
   ]
  },
  {
   "cell_type": "markdown",
   "metadata": {},
   "source": [
    "### Load Data From File and Regenerate Plots\n",
    "This cell can be used to re-load the data stored during benchmark execution and plot the results.\n",
    "\n",
    "Be sure to first execute the initial cell which sets the backend_id"
   ]
  },
  {
   "cell_type": "code",
   "execution_count": null,
   "metadata": {
    "scrolled": false
   },
   "outputs": [],
   "source": [
    "import os, maxcut_benchmark\n",
    "backend_id = \"qasm_simulator\"\n",
    "maxcut_benchmark.load_data_and_plot(os.path.join('__results', backend_id, 'approx_ratio'),\n",
    "                score_metric=['approx_ratio', 'cvar_ratio'],\n",
    "                x_metric=['cumulative_elapsed_time', 'cumulative_exec_time', 'cumulative_opt_exec_time'])"
   ]
  },
  {
   "cell_type": "markdown",
   "metadata": {},
   "source": [
    "### Maxcut - Method 2 - Degree 3 - CVaR Objective Function"
   ]
  },
  {
   "cell_type": "code",
   "execution_count": null,
   "metadata": {
    "scrolled": false
   },
   "outputs": [],
   "source": [
    "import sys\n",
    "sys.path.insert(1, \"maxcut/qiskit\")\n",
    "import maxcut_benchmark\n",
    "\n",
    "# set noise to None for testing\n",
    "import execute\n",
    "execute.set_noise_model(None)\n",
    "\n",
    "objective_func_type = 'cvar_ratio'\n",
    "score_metric=[objective_func_type]\n",
    "x_metric=['cumulative_exec_time']\n",
    "\n",
    "# Note: the plots produced by this benchmark only use the last of the problems at each width\n",
    "\n",
    "maxcut_benchmark.run(\n",
    "    min_qubits=min_qubits, max_qubits=max_qubits, max_circuits=max_circuits, num_shots=num_shots,\n",
    "    method=2, rounds=2, degree=3, alpha = 0.1,\n",
    "    objective_func_type = objective_func_type, do_fidelities = False,\n",
    "    score_metric=score_metric, x_metric=x_metric, num_x_bins=15, max_iter=30,\n",
    "    backend_id=backend_id, provider_backend=provider_backend,\n",
    "    hub=hub, group=group, project=project, exec_options=exec_options\n",
    ")"
   ]
  },
  {
   "cell_type": "markdown",
   "metadata": {},
   "source": [
    "### Maxcut - Method 2 - Degree 3 - Gibbs Objective function"
   ]
  },
  {
   "cell_type": "code",
   "execution_count": null,
   "metadata": {
    "scrolled": false
   },
   "outputs": [],
   "source": [
    "import sys\n",
    "sys.path.insert(1, \"maxcut/qiskit\")\n",
    "import maxcut_benchmark\n",
    "\n",
    "# set noise to None for testing\n",
    "import execute\n",
    "execute.set_noise_model(None)\n",
    "\n",
    "objective_func_type = 'gibbs_ratio'\n",
    "score_metric=[objective_func_type] #, 'fidelity'\n",
    "x_metric=['cumulative_exec_time'] #, , 'cumulative_create_time' 'cumulative_opt_exec_time'\n",
    "\n",
    "# Note: the plots produced by this benchmark only use the last of the problems at each width\n",
    "\n",
    "maxcut_benchmark.run(\n",
    "    min_qubits=min_qubits, max_qubits=max_qubits, max_circuits=max_circuits, num_shots=num_shots,\n",
    "    method=2, rounds=2, degree=3, eta=0.5,\n",
    "    score_metric=score_metric, x_metric=x_metric, num_x_bins=15, max_iter=30,\n",
    "    objective_func_type = objective_func_type, do_fidelities = False,\n",
    "    backend_id=backend_id, provider_backend=provider_backend,\n",
    "    hub=hub, group=group, project=project, exec_options=exec_options\n",
    ")"
   ]
  },
  {
   "cell_type": "markdown",
   "metadata": {},
   "source": [
    "### Maxcut - Method 2 - Degree -3"
   ]
  },
  {
   "cell_type": "code",
   "execution_count": null,
   "metadata": {
    "scrolled": false
   },
   "outputs": [],
   "source": [
    "import sys\n",
    "sys.path.insert(1, \"maxcut/qiskit\")\n",
    "import maxcut_benchmark\n",
    "\n",
    "# set noise to None for testing\n",
    "import execute\n",
    "execute.set_noise_model(None)\n",
    "\n",
    "score_metric=['approx_ratio', 'fidelity']\n",
    "x_metric=['cumulative_create_time', 'cumulative_exec_time', 'cumulative_opt_exec_time']\n",
    "\n",
    "# Note: the plots produced by this benchmark only use the last of the problems at each width\n",
    "\n",
    "maxcut_benchmark.run(\n",
    "    min_qubits=min_qubits, max_qubits=max_qubits, max_circuits=max_circuits, num_shots=num_shots,\n",
    "    method=2, rounds=1, degree=-3,\n",
    "    score_metric=score_metric, x_metric=x_metric, num_x_bins=15, max_iter=30,\n",
    "    backend_id=backend_id, provider_backend=provider_backend,\n",
    "    hub=hub, group=group, project=project, exec_options=exec_options\n",
    ")"
   ]
  },
  {
   "cell_type": "markdown",
   "metadata": {},
   "source": [
    "### Expected Measurement Distribution Example\n",
    "\n",
    "The next cell is an auto-generated circuit with beta and gamma set to the optimal parameters (in terms of pi)\n"
   ]
  },
  {
   "cell_type": "code",
   "execution_count": null,
   "metadata": {},
   "outputs": [],
   "source": [
    "from qiskit import QuantumCircuit, QuantumRegister, ClassicalRegister\n",
    "\n",
    "beta = 0.08\n",
    "gamma = -0.094\n",
    "cycle_time = 0\n",
    "\n",
    "qr = QuantumRegister(4)\n",
    "cr = ClassicalRegister(4)\n",
    "qc = QuantumCircuit(qr, cr, name=\"main\")\n",
    "qc.h(qr[0])\n",
    "qc.h(qr[1])\n",
    "qc.h(qr[2])\n",
    "qc.h(qr[3])\n",
    "qc.cx(qr[0], qr[1])\n",
    "qc.rz(2*3.14159*gamma, qr[1])\n",
    "qc.cx(qr[0], qr[1])\n",
    "qc.cx(qr[0], qr[3])\n",
    "qc.rz(2*3.14159*gamma, qr[3])\n",
    "qc.cx(qr[0], qr[3])\n",
    "qc.cx(qr[0], qr[2])\n",
    "qc.rz(2*3.14159*gamma, qr[2])\n",
    "qc.cx(qr[0], qr[2])\n",
    "qc.cx(qr[1], qr[2])\n",
    "qc.rz(2*3.14159*gamma, qr[2])\n",
    "qc.cx(qr[1], qr[2])\n",
    "qc.cx(qr[1], qr[3])\n",
    "qc.rz(2*3.14159*gamma, qr[3])\n",
    "qc.cx(qr[1], qr[3])\n",
    "qc.cx(qr[2], qr[3])\n",
    "qc.rz(2*3.14159*gamma, qr[3])\n",
    "qc.cx(qr[2], qr[3])\n",
    "qc.rx(2*3.14159*beta, qr[0])\n",
    "qc.rx(2*3.14159*beta, qr[1])\n",
    "qc.rx(2*3.14159*beta, qr[2])\n",
    "qc.rx(2*3.14159*beta, qr[3])\n",
    "qc.measure(qr[0], cr[0])\n",
    "qc.measure(qr[1], cr[1])\n",
    "qc.measure(qr[2], cr[2])\n",
    "qc.measure(qr[3], cr[3])\n",
    "\n",
    "from qiskit import execute, Aer\n",
    "backend = Aer.get_backend(\"qasm_simulator\")  # Use Aer qasm_simulator\n",
    "\n",
    "job = execute(qc, backend, shots=1000)\n",
    "result = job.result()\n",
    "counts = result.get_counts(qc)\n",
    "print(\"Total counts are:\", counts)\n",
    "\n",
    "# Draw the circuit\n",
    "print(qc)\n",
    "\n",
    "# Plot a histogram\n",
    "from qiskit.visualization import plot_histogram\n",
    "plot_histogram(counts)\n"
   ]
  }
 ],
 "metadata": {
  "kernelspec": {
   "display_name": "qiskit-test",
   "language": "python",
   "name": "qiskit-test"
  },
  "language_info": {
   "codemirror_mode": {
    "name": "ipython",
    "version": 3
   },
   "file_extension": ".py",
   "mimetype": "text/x-python",
   "name": "python",
   "nbconvert_exporter": "python",
   "pygments_lexer": "ipython3",
   "version": "3.8.5"
  },
  "vscode": {
   "interpreter": {
    "hash": "87c0327dc9df8477896aec72b423d1e52b3932ea0fdb948c052603181ca8100b"
   }
  }
 },
 "nbformat": 4,
 "nbformat_minor": 4
}
