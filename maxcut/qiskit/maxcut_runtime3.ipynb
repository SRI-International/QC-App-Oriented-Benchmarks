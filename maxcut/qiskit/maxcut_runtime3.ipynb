{
 "cells": [
  {
   "cell_type": "markdown",
   "metadata": {},
   "source": [
    "### Maxcut Runtime"
   ]
  },
  {
   "cell_type": "code",
   "execution_count": 1,
   "metadata": {
    "scrolled": true
   },
   "outputs": [],
   "source": [
    "min_qubits=4\n",
    "max_qubits=4\n",
    "max_circuits=1\n",
    "num_shots=5000\n",
    "\n",
    "degree = 3\n",
    "rounds = 2\n",
    "max_iter = 30\n",
    "parameterized = False\n",
    "\n",
    "max_execution_time = 100_000 # seconds\n",
    "\n",
    "backend_id=\"ibmq_qasm_simulator\"\n",
    "hub=\"ibm-q\"; group=\"open\"; project=\"main\"\n",
    "provider_backend = None\n",
    "exec_options = None\n",
    "\n",
    "import uuid\n",
    "\n",
    "# Meta data required by qiskit runtime\n",
    "meta = {\n",
    "  \"name\": f\"qedc-maxcut-benchmark-{uuid.uuid4()}\",\n",
    "  \"description\": \"A sample Maxcut Benchmark program.\",\n",
    "  \"max_execution_time\": 100_000,\n",
    "  \"version\": \"1.0\",\n",
    "}\n"
   ]
  },
  {
   "cell_type": "code",
   "execution_count": null,
   "metadata": {},
   "outputs": [],
   "source": [
    "import runtime_utils\n",
    "insts = runtime_utils.prepare_instances()\n",
    "\n",
    "job = runtime_utils.run(\n",
    "    min_qubits=min_qubits,\n",
    "    max_qubits=max_qubits,\n",
    "    max_circuits=max_circuits,\n",
    "    num_shots=num_shots,\n",
    "    _instances=insts,\n",
    "    degree=degree,\n",
    "    rounds=rounds,\n",
    "    max_iter=max_iter,\n",
    "    parameterized=parameterized,\n",
    "    max_execution_time=max_execution_time,\n",
    "    backend_id=backend_id,\n",
    "    hub=hub,\n",
    "    group=group,\n",
    "    project=project,\n",
    "    meta=meta\n",
    ")"
   ]
  },
  {
   "cell_type": "markdown",
   "metadata": {},
   "source": [
    "### Plot from Data"
   ]
  },
  {
   "cell_type": "code",
   "execution_count": null,
   "metadata": {},
   "outputs": [],
   "source": [
    "import os\n",
    "import maxcut_benchmark\n",
    "maxcut_benchmark.load_data_and_plot(os.path.join('__data', backend_id))"
   ]
  }
 ],
 "metadata": {
  "kernelspec": {
   "display_name": "Python 3.10.4 ('QEDC-qiskit')",
   "language": "python",
   "name": "python3"
  },
  "language_info": {
   "codemirror_mode": {
    "name": "ipython",
    "version": 3
   },
   "file_extension": ".py",
   "mimetype": "text/x-python",
   "name": "python",
   "nbconvert_exporter": "python",
   "pygments_lexer": "ipython3",
   "version": "3.10.4"
  },
  "vscode": {
   "interpreter": {
    "hash": "4edcc741b34098d786431ef295201419a38b7eac01f02aac783a5df30157881b"
   }
  }
 },
 "nbformat": 4,
 "nbformat_minor": 2
}
