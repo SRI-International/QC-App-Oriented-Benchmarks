{
 "cells": [
  {
   "cell_type": "code",
   "execution_count": null,
   "id": "671fba1a",
   "metadata": {},
   "outputs": [],
   "source": [
    "%load_ext autoreload\n",
    "%autoreload\n",
    "\n",
    "import getpass\n",
    "import common\n",
    "import maxcut\n",
    "import dwave.inspector\n",
    "import csv\n",
    "from itertools import count"
   ]
  },
  {
   "cell_type": "markdown",
   "id": "0c411acc",
   "metadata": {},
   "source": [
    "### Constants"
   ]
  },
  {
   "cell_type": "code",
   "execution_count": null,
   "id": "ebea3db8",
   "metadata": {},
   "outputs": [],
   "source": [
    "SEPERATOR = \"--------------------------------------------------\"\n",
    "path = \"../../_common/instances/mc_024_003_000.txt\"\n",
    "outputFile = \"maxcut_results.csv\""
   ]
  },
  {
   "cell_type": "code",
   "execution_count": null,
   "id": "1563541c",
   "metadata": {},
   "outputs": [],
   "source": [
    "# Get key to use for D-Wave Call\n",
    "prompt = \"\" \n",
    "token = \"\"\n",
    "try:\n",
    "    prompt = getpass.getpass(prompt=\"D-Wave Key: \", stream=None) \n",
    "except Exception as error:\n",
    "    print('ERROR', error)\n",
    "else:\n",
    "    print(\"Key Accepted\")"
   ]
  },
  {
   "cell_type": "code",
   "execution_count": null,
   "id": "d40944cf",
   "metadata": {},
   "outputs": [],
   "source": [
    "# Load nodes and edges\n",
    "nodes, edges = common.read_maxcut_instance(path)"
   ]
  },
  {
   "cell_type": "markdown",
   "id": "a4dfd2e6",
   "metadata": {},
   "source": [
    "# Simulated Annealing"
   ]
  },
  {
   "cell_type": "code",
   "execution_count": null,
   "id": "cdde7c85-c19c-45cf-80a1-fb5942a4fa72",
   "metadata": {
    "scrolled": true,
    "tags": []
   },
   "outputs": [],
   "source": [
    "result = maxcut.maxcut_sa(nodes, edges, 5000)\n",
    "print(result)"
   ]
  },
  {
   "cell_type": "markdown",
   "id": "63f2a472",
   "metadata": {},
   "source": [
    "# Quantum Annealing"
   ]
  },
  {
   "cell_type": "code",
   "execution_count": null,
   "id": "213e07be",
   "metadata": {
    "scrolled": true,
    "tags": []
   },
   "outputs": [],
   "source": [
    "embedding = None\n",
    "shots = 100\n",
    "\n",
    "with open(outputFile, \"w\") as f:\n",
    "\n",
    "     optimal = common.optimal_maxcut(path)\n",
    "\n",
    "     writer = csv.writer(f)\n",
    "     writer.writerow([\"file\", \"shots\", \"qpu_anneal_time_per_sample\", \"max\", \"optimal\", \"mean\", \"sd\",\n",
    "          \"qpu_sampling_time\", \"qpu_readout_time_per_sample\", \"qpu_access_time\", \\\n",
    "          \"qpu_access_overhead_time\", \"qpu_programming_time\", \"qpu_delay_time_per_sample\", \"qpu_programming_time\", \\\n",
    "          \"total_post_processing_time\", \"post_processing_overhead_time\", \"wallclockStart\", \"wallclockEnd\", \"embedding\", \"wallTime\"])\n",
    "\n",
    "     for i in range(8):\n",
    "          x = 2**i\n",
    "          if x > 200:\n",
    "               break\n",
    "\n",
    "          embeddingCreated = True if embedding==None else False\n",
    "          print (\"Created \" if embeddingCreated else \"Reused \", \"Embedding\")\n",
    "\n",
    "          sampleset, result, embedding = maxcut.maxcut_qa(nodes, edges, shots, token, x, embedding)\n",
    "\n",
    "          # sample to file\n",
    "          timing = sampleset.info[\"timing\"]\n",
    "          data = [path, shots, timing[\"qpu_anneal_time_per_sample\"], result[\"stats\"][\"max\"], optimal, result[\"stats\"][\"mean\"], result[\"stats\"][\"sd\"],\n",
    "               timing[\"qpu_sampling_time\"], timing[\"qpu_readout_time_per_sample\"], timing[\"qpu_access_time\"], \\\n",
    "               timing[\"qpu_access_overhead_time\"], timing[\"qpu_programming_time\"], timing[\"qpu_delay_time_per_sample\"], timing[\"qpu_programming_time\"], \\\n",
    "               timing[\"total_post_processing_time\"], timing[\"post_processing_overhead_time\"], result[\"stats\"][\"wallClockStart\"], result[\"stats\"][\"wallClockEnd\"], \\\n",
    "               \"Created\" if embeddingCreated else \"Reused\", result[\"stats\"][\"wallClockEnd\"] - result[\"stats\"][\"wallClockStart\"] ]\n",
    "\n",
    "          writer.writerow(data)"
   ]
  },
  {
   "cell_type": "code",
   "execution_count": null,
   "id": "bdfbed88",
   "metadata": {},
   "outputs": [],
   "source": [
    "print(result[\"stats\"])\n",
    "\n",
    "print(sampleset.info)\n",
    "print(SEPERATOR)\n",
    "timing = sampleset.info[\"timing\"]\n",
    "data = [timing[\"qpu_anneal_time_per_sample\"], result[\"stats\"][\"max\"], result[\"stats\"][\"mean\"], result[\"stats\"][\"sd\"],\n",
    "    timing[\"qpu_sampling_time\"], timing[\"qpu_readout_time_per_sample\"], timing[\"qpu_access_time\"], \\\n",
    "    timing[\"qpu_access_overhead_time\"], timing[\"qpu_programming_time\"], timing[\"qpu_delay_time_per_sample\"], timing[\"qpu_programming_time\"], \\\n",
    "    timing[\"total_post_processing_time\"], timing[\"post_processing_overhead_time\"]]\n",
    "\n",
    "print (data)"
   ]
  },
  {
   "cell_type": "code",
   "execution_count": null,
   "id": "774eb5fa",
   "metadata": {},
   "outputs": [],
   "source": [
    "sampleset, result, embedding = maxcut.maxcut_qa(nodes, edges, 5000, token, 1, None)"
   ]
  },
  {
   "cell_type": "code",
   "execution_count": null,
   "id": "35c3146c",
   "metadata": {},
   "outputs": [],
   "source": [
    "sampleset, result, a = maxcut.maxcut_qa(nodes, edges, 5000, token, 16, embedding)\n",
    "\n",
    "# sample to file\n",
    "timing = sampleset.info[\"timing\"]\n",
    "data = [path, shots, timing[\"qpu_anneal_time_per_sample\"], result[\"stats\"][\"max\"], optimal, result[\"stats\"][\"mean\"], result[\"stats\"][\"sd\"],\n",
    "    timing[\"qpu_sampling_time\"], timing[\"qpu_readout_time_per_sample\"], timing[\"qpu_access_time\"], \\\n",
    "    timing[\"qpu_access_overhead_time\"], timing[\"qpu_programming_time\"], timing[\"qpu_delay_time_per_sample\"], timing[\"qpu_programming_time\"], \\\n",
    "    timing[\"total_post_processing_time\"], timing[\"post_processing_overhead_time\"], result[\"stats\"][\"wallClockStart\"], result[\"stats\"][\"wallClockEnd\"], \\\n",
    "    \"Created\" if embeddingCreated else \"Reused\", result[\"stats\"][\"wallClockEnd\"] - result[\"stats\"][\"wallClockStart\"] ]\n",
    "\n",
    "writer.writerow(data)"
   ]
  },
  {
   "cell_type": "code",
   "execution_count": null,
   "id": "d8c3c05d",
   "metadata": {},
   "outputs": [],
   "source": []
  }
 ],
 "metadata": {
  "kernelspec": {
   "display_name": "Python 3 (ipykernel)",
   "language": "python",
   "name": "python3"
  },
  "language_info": {
   "codemirror_mode": {
    "name": "ipython",
    "version": 3
   },
   "file_extension": ".py",
   "mimetype": "text/x-python",
   "name": "python",
   "nbconvert_exporter": "python",
   "pygments_lexer": "ipython3",
   "version": "3.9.7"
  }
 },
 "nbformat": 4,
 "nbformat_minor": 5
}
