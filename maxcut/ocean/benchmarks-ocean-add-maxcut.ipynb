{
 "cells": [
  {
   "cell_type": "markdown",
   "metadata": {},
   "source": [
    "### QED-C Prototype Benchmarks - Ocean Version\n",
    "The notebook contains a suite of prototype application benchmarks for the D-Wave Ocean API.\n",
    "Configure and run the cell below with the desired execution settings.\n",
    "Then execute the remaining cells, each containing one benchmark program."
   ]
  },
  {
   "cell_type": "code",
   "execution_count": null,
   "metadata": {
    "scrolled": false
   },
   "outputs": [],
   "source": [
    "min_qubits=4\n",
    "max_qubits=320\n",
    "max_circuits=1\n",
    "num_shots=1000\n",
    "min_annealing_time=1\n",
    "max_annealing_time=128\n",
    "\n",
    "backend_id=None\n",
    "provider_backend=None\n",
    "exec_options=None\n",
    "\n",
    "# An example using D-Wave Neal simulator\n",
    "from neal import SimulatedAnnealingSampler\n",
    "provider_backend = SimulatedAnnealingSampler()\n",
    "backend_id=\"pegasus\"\n",
    "\n",
    "# An example using D-Wave provider\n",
    "# Be sure to set the DWAVE_API_TOKEN environment variable\n",
    "from dwave.system.samplers import DWaveSampler\n",
    "provider_backend = DWaveSampler()\n",
    "backend_id=\"dwave_qpu\"\n",
    "\n",
    "# Additional options\n",
    "\n",
    "# Color map settings for Quantum Annealing area plots\n",
    "import sys\n",
    "sys.path.insert(1, \"../../_common\")\n",
    "import metrics\n",
    "import matplotlib\n",
    "metrics.cmap = matplotlib.pyplot.get_cmap('PiYG')\n",
    "metrics.set_custom_cmap_norm(0.9, 1.0)\n"
   ]
  },
  {
   "cell_type": "markdown",
   "metadata": {},
   "source": [
    "### Maxcut - Method 1"
   ]
  },
  {
   "cell_type": "code",
   "execution_count": null,
   "metadata": {
    "scrolled": false
   },
   "outputs": [],
   "source": [
    "# import sys\n",
    "# sys.path.insert(1, \"maxcut/qiskit\")\n",
    "# import maxcut_benchmark\n",
    "\n",
    "# # set noise to None for testing\n",
    "# import execute\n",
    "# execute.set_noise_model(None)\n",
    "\n",
    "# maxcut_benchmark.run(\n",
    "#     min_qubits=min_qubits, max_qubits=max_qubits, max_circuits=max_circuits, num_shots=num_shots,\n",
    "#     method=1,\n",
    "#     backend_id=backend_id, provider_backend=provider_backend,\n",
    "#     exec_options=exec_options\n",
    "# )\n"
   ]
  },
  {
   "cell_type": "markdown",
   "metadata": {},
   "source": [
    "### Maxcut - Method 2 - Degree 3 - Approximation Ratio as Objective Function"
   ]
  },
  {
   "cell_type": "code",
   "execution_count": null,
   "metadata": {
    "scrolled": false
   },
   "outputs": [],
   "source": [
    "import sys\n",
    "sys.path.insert(1, \"maxcut/qiskit\")\n",
    "import maxcut_benchmark\n",
    "\n",
    "# Debug/trace options\n",
    "import execute\n",
    "execute.verbose = False\n",
    "execute.verbose_time = False\n",
    "maxcut_benchmark.verbose = False\n",
    "\n",
    "# Display options\n",
    "score_metric='approx_ratio'\n",
    "x_metric=['cumulative_elapsed_time', 'cumulative_exec_time', 'cumulative_opt_exec_time' ]\n",
    "\n",
    "maxcut_benchmark.run(\n",
    "    min_qubits=min_qubits, max_qubits=max_qubits, max_circuits=max_circuits, num_shots=num_shots,\n",
    "    method=2, degree=3, min_annealing_time=min_annealing_time, max_annealing_time=max_annealing_time, save_res_to_file=True,\n",
    "    score_metric=score_metric, x_metric=x_metric, \n",
    "    backend_id=backend_id, provider_backend=provider_backend,\n",
    "    exec_options=exec_options\n",
    ")"
   ]
  },
  {
   "cell_type": "markdown",
   "metadata": {},
   "source": [
    "### Load Data From File and Regenerate Plots\n",
    "This cell can be used to re-load the data stored during benchmark execution and plot the results.\n",
    "\n",
    "Be sure to first execute the initial cell which sets the backend_id"
   ]
  },
  {
   "cell_type": "code",
   "execution_count": null,
   "metadata": {
    "scrolled": false
   },
   "outputs": [],
   "source": [
    "import os, maxcut_benchmark\n",
    "maxcut_benchmark.load_data_and_plot(os.path.join('__results', backend_id, 'approx_ratio'),\n",
    "                score_metric='approx_ratio',\n",
    "                x_metric=['cumulative_elapsed_time', 'cumulative_exec_time', 'cumulative_opt_exec_time'])"
   ]
  },
  {
   "cell_type": "code",
   "execution_count": null,
   "metadata": {},
   "outputs": [],
   "source": [
    "\n"
   ]
  }
 ],
 "metadata": {
  "kernelspec": {
   "display_name": "qiskit-test-new",
   "language": "python",
   "name": "qiskit-test-new"
  },
  "language_info": {
   "codemirror_mode": {
    "name": "ipython",
    "version": 3
   },
   "file_extension": ".py",
   "mimetype": "text/x-python",
   "name": "python",
   "nbconvert_exporter": "python",
   "pygments_lexer": "ipython3",
   "version": "3.9.7"
  },
  "vscode": {
   "interpreter": {
    "hash": "87c0327dc9df8477896aec72b423d1e52b3932ea0fdb948c052603181ca8100b"
   }
  }
 },
 "nbformat": 4,
 "nbformat_minor": 4
}
